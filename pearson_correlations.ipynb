{
 "cells": [
  {
   "cell_type": "code",
   "execution_count": 3,
   "metadata": {},
   "outputs": [],
   "source": [
    "# Import libraries\n",
    "import pandas as pd\n",
    "import numpy as np"
   ]
  },
  {
   "cell_type": "code",
   "execution_count": 9,
   "metadata": {},
   "outputs": [],
   "source": [
    "# Load csv to a Dataframe\n",
    "df = pd.read_csv('output_data\\df_2000.csv')\n",
    "df.head(5)"
   ]
  },
  {
   "cell_type": "code",
   "execution_count": 70,
   "metadata": {},
   "outputs": [
    {
     "data": {
      "text/plain": [
       "12530"
      ]
     },
     "execution_count": 70,
     "metadata": {},
     "output_type": "execute_result"
    }
   ],
   "source": [
    "# Display number of rated movies\n",
    "df['movieId'].nunique()"
   ]
  },
  {
   "cell_type": "markdown",
   "metadata": {},
   "source": [
    "#### Pivoting the DataFrame into a Factorization Matrix"
   ]
  },
  {
   "cell_type": "code",
   "execution_count": 72,
   "metadata": {},
   "outputs": [
    {
     "name": "stdout",
     "output_type": "stream",
     "text": [
      "New split on duty !\n",
      "New split on duty !\n",
      "New split on duty !\n",
      "New split on duty !\n",
      "New split on duty !\n",
      "New split on duty !\n",
      "New split on duty !\n",
      "New split on duty !\n",
      "New split on duty !\n",
      "New split on duty !\n",
      "Job Done: Factorization Matrix Ready\n"
     ]
    }
   ],
   "source": [
    "# Splitting the DataFrame into 10 equal chunks to lighten Pandas work load\n",
    "user_splits = np.array_split(df['userId'].unique(), 10)\n",
    "\n",
    "# Create empty list\n",
    "df_pivot_list = []\n",
    "\n",
    "# For loop to pivot table\n",
    "for split in user_splits:\n",
    "    df_subset = df[df['userId'].isin(split)]\n",
    "    df_pivot_subset = pd.pivot_table(df_subset, values='rating', index='userId', columns='movieId')\n",
    "    df_pivot_list.append(df_pivot_subset)\n",
    "    print(\"New split on duty !\")\n",
    "\n",
    "# Concatenate the 10 chunks\n",
    "df_pivot = pd.concat(df_pivot_list)\n",
    "\n",
    "print('Job Done: Factorization Matrix Ready')\n"
   ]
  },
  {
   "cell_type": "code",
   "execution_count": 12,
   "metadata": {},
   "outputs": [
    {
     "data": {
      "text/plain": [
       "(87850, 12530)"
      ]
     },
     "execution_count": 12,
     "metadata": {},
     "output_type": "execute_result"
    }
   ],
   "source": [
    "# Display matrix shape\n",
    "df_pivot.shape"
   ]
  },
  {
   "cell_type": "code",
   "execution_count": 13,
   "metadata": {},
   "outputs": [
    {
     "data": {
      "text/html": [
       "<div>\n",
       "<style scoped>\n",
       "    .dataframe tbody tr th:only-of-type {\n",
       "        vertical-align: middle;\n",
       "    }\n",
       "\n",
       "    .dataframe tbody tr th {\n",
       "        vertical-align: top;\n",
       "    }\n",
       "\n",
       "    .dataframe thead th {\n",
       "        text-align: right;\n",
       "    }\n",
       "</style>\n",
       "<table border=\"1\" class=\"dataframe\">\n",
       "  <thead>\n",
       "    <tr style=\"text-align: right;\">\n",
       "      <th>movieId</th>\n",
       "      <th>2769</th>\n",
       "      <th>3177</th>\n",
       "      <th>3190</th>\n",
       "      <th>3225</th>\n",
       "      <th>3228</th>\n",
       "      <th>3239</th>\n",
       "      <th>3273</th>\n",
       "      <th>3275</th>\n",
       "      <th>3276</th>\n",
       "      <th>3279</th>\n",
       "      <th>...</th>\n",
       "      <th>129313</th>\n",
       "      <th>129340</th>\n",
       "      <th>129841</th>\n",
       "      <th>129905</th>\n",
       "      <th>130524</th>\n",
       "      <th>130622</th>\n",
       "      <th>131110</th>\n",
       "      <th>131172</th>\n",
       "      <th>131237</th>\n",
       "      <th>131262</th>\n",
       "    </tr>\n",
       "    <tr>\n",
       "      <th>userId</th>\n",
       "      <th></th>\n",
       "      <th></th>\n",
       "      <th></th>\n",
       "      <th></th>\n",
       "      <th></th>\n",
       "      <th></th>\n",
       "      <th></th>\n",
       "      <th></th>\n",
       "      <th></th>\n",
       "      <th></th>\n",
       "      <th></th>\n",
       "      <th></th>\n",
       "      <th></th>\n",
       "      <th></th>\n",
       "      <th></th>\n",
       "      <th></th>\n",
       "      <th></th>\n",
       "      <th></th>\n",
       "      <th></th>\n",
       "      <th></th>\n",
       "      <th></th>\n",
       "    </tr>\n",
       "  </thead>\n",
       "  <tbody>\n",
       "    <tr>\n",
       "      <th>1</th>\n",
       "      <td>NaN</td>\n",
       "      <td>NaN</td>\n",
       "      <td>NaN</td>\n",
       "      <td>NaN</td>\n",
       "      <td>NaN</td>\n",
       "      <td>NaN</td>\n",
       "      <td>NaN</td>\n",
       "      <td>NaN</td>\n",
       "      <td>NaN</td>\n",
       "      <td>NaN</td>\n",
       "      <td>...</td>\n",
       "      <td>NaN</td>\n",
       "      <td>NaN</td>\n",
       "      <td>NaN</td>\n",
       "      <td>NaN</td>\n",
       "      <td>NaN</td>\n",
       "      <td>NaN</td>\n",
       "      <td>NaN</td>\n",
       "      <td>NaN</td>\n",
       "      <td>NaN</td>\n",
       "      <td>NaN</td>\n",
       "    </tr>\n",
       "    <tr>\n",
       "      <th>2</th>\n",
       "      <td>NaN</td>\n",
       "      <td>NaN</td>\n",
       "      <td>NaN</td>\n",
       "      <td>NaN</td>\n",
       "      <td>NaN</td>\n",
       "      <td>NaN</td>\n",
       "      <td>NaN</td>\n",
       "      <td>NaN</td>\n",
       "      <td>NaN</td>\n",
       "      <td>NaN</td>\n",
       "      <td>...</td>\n",
       "      <td>NaN</td>\n",
       "      <td>NaN</td>\n",
       "      <td>NaN</td>\n",
       "      <td>NaN</td>\n",
       "      <td>NaN</td>\n",
       "      <td>NaN</td>\n",
       "      <td>NaN</td>\n",
       "      <td>NaN</td>\n",
       "      <td>NaN</td>\n",
       "      <td>NaN</td>\n",
       "    </tr>\n",
       "  </tbody>\n",
       "</table>\n",
       "<p>2 rows × 12530 columns</p>\n",
       "</div>"
      ],
      "text/plain": [
       "movieId  2769    3177    3190    3225    3228    3239    3273    3275    \\\n",
       "userId                                                                    \n",
       "1           NaN     NaN     NaN     NaN     NaN     NaN     NaN     NaN   \n",
       "2           NaN     NaN     NaN     NaN     NaN     NaN     NaN     NaN   \n",
       "\n",
       "movieId  3276    3279    ...  129313  129340  129841  129905  130524  130622  \\\n",
       "userId                   ...                                                   \n",
       "1           NaN     NaN  ...     NaN     NaN     NaN     NaN     NaN     NaN   \n",
       "2           NaN     NaN  ...     NaN     NaN     NaN     NaN     NaN     NaN   \n",
       "\n",
       "movieId  131110  131172  131237  131262  \n",
       "userId                                   \n",
       "1           NaN     NaN     NaN     NaN  \n",
       "2           NaN     NaN     NaN     NaN  \n",
       "\n",
       "[2 rows x 12530 columns]"
      ]
     },
     "execution_count": 13,
     "metadata": {},
     "output_type": "execute_result"
    }
   ],
   "source": [
    "# Show the first rows of the matrix\n",
    "df_pivot.head(2)"
   ]
  },
  {
   "cell_type": "markdown",
   "metadata": {},
   "source": [
    "#### Recommendation with genres"
   ]
  },
  {
   "cell_type": "code",
   "execution_count": 14,
   "metadata": {},
   "outputs": [
    {
     "data": {
      "text/html": [
       "<div>\n",
       "<style scoped>\n",
       "    .dataframe tbody tr th:only-of-type {\n",
       "        vertical-align: middle;\n",
       "    }\n",
       "\n",
       "    .dataframe tbody tr th {\n",
       "        vertical-align: top;\n",
       "    }\n",
       "\n",
       "    .dataframe thead th {\n",
       "        text-align: right;\n",
       "    }\n",
       "</style>\n",
       "<table border=\"1\" class=\"dataframe\">\n",
       "  <thead>\n",
       "    <tr style=\"text-align: right;\">\n",
       "      <th></th>\n",
       "      <th>title</th>\n",
       "      <th>genres</th>\n",
       "      <th>year</th>\n",
       "      <th>Action</th>\n",
       "      <th>Adventure</th>\n",
       "      <th>Animation</th>\n",
       "      <th>Children</th>\n",
       "      <th>Comedy</th>\n",
       "      <th>Crime</th>\n",
       "      <th>Documentary</th>\n",
       "      <th>...</th>\n",
       "      <th>Film-Noir</th>\n",
       "      <th>Horror</th>\n",
       "      <th>IMAX</th>\n",
       "      <th>Musical</th>\n",
       "      <th>Mystery</th>\n",
       "      <th>Romance</th>\n",
       "      <th>Sci-Fi</th>\n",
       "      <th>Thriller</th>\n",
       "      <th>War</th>\n",
       "      <th>Western</th>\n",
       "    </tr>\n",
       "    <tr>\n",
       "      <th>movieId</th>\n",
       "      <th></th>\n",
       "      <th></th>\n",
       "      <th></th>\n",
       "      <th></th>\n",
       "      <th></th>\n",
       "      <th></th>\n",
       "      <th></th>\n",
       "      <th></th>\n",
       "      <th></th>\n",
       "      <th></th>\n",
       "      <th></th>\n",
       "      <th></th>\n",
       "      <th></th>\n",
       "      <th></th>\n",
       "      <th></th>\n",
       "      <th></th>\n",
       "      <th></th>\n",
       "      <th></th>\n",
       "      <th></th>\n",
       "      <th></th>\n",
       "      <th></th>\n",
       "    </tr>\n",
       "  </thead>\n",
       "  <tbody>\n",
       "    <tr>\n",
       "      <th>2769</th>\n",
       "      <td>yards the</td>\n",
       "      <td>Crime|Drama</td>\n",
       "      <td>2000</td>\n",
       "      <td>0</td>\n",
       "      <td>0</td>\n",
       "      <td>0</td>\n",
       "      <td>0</td>\n",
       "      <td>0</td>\n",
       "      <td>1</td>\n",
       "      <td>0</td>\n",
       "      <td>...</td>\n",
       "      <td>0</td>\n",
       "      <td>0</td>\n",
       "      <td>0</td>\n",
       "      <td>0</td>\n",
       "      <td>0</td>\n",
       "      <td>0</td>\n",
       "      <td>0</td>\n",
       "      <td>0</td>\n",
       "      <td>0</td>\n",
       "      <td>0</td>\n",
       "    </tr>\n",
       "    <tr>\n",
       "      <th>3177</th>\n",
       "      <td>next friday</td>\n",
       "      <td>Comedy</td>\n",
       "      <td>2000</td>\n",
       "      <td>0</td>\n",
       "      <td>0</td>\n",
       "      <td>0</td>\n",
       "      <td>0</td>\n",
       "      <td>1</td>\n",
       "      <td>0</td>\n",
       "      <td>0</td>\n",
       "      <td>...</td>\n",
       "      <td>0</td>\n",
       "      <td>0</td>\n",
       "      <td>0</td>\n",
       "      <td>0</td>\n",
       "      <td>0</td>\n",
       "      <td>0</td>\n",
       "      <td>0</td>\n",
       "      <td>0</td>\n",
       "      <td>0</td>\n",
       "      <td>0</td>\n",
       "    </tr>\n",
       "  </tbody>\n",
       "</table>\n",
       "<p>2 rows × 22 columns</p>\n",
       "</div>"
      ],
      "text/plain": [
       "               title       genres  year  Action  Adventure  Animation  \\\n",
       "movieId                                                                 \n",
       "2769       yards the  Crime|Drama  2000       0          0          0   \n",
       "3177     next friday       Comedy  2000       0          0          0   \n",
       "\n",
       "         Children  Comedy  Crime  Documentary  ...  Film-Noir  Horror  IMAX  \\\n",
       "movieId                                        ...                            \n",
       "2769            0       0      1            0  ...          0       0     0   \n",
       "3177            0       1      0            0  ...          0       0     0   \n",
       "\n",
       "         Musical  Mystery  Romance  Sci-Fi  Thriller  War  Western  \n",
       "movieId                                                             \n",
       "2769           0        0        0       0         0    0        0  \n",
       "3177           0        0        0       0         0    0        0  \n",
       "\n",
       "[2 rows x 22 columns]"
      ]
     },
     "execution_count": 14,
     "metadata": {},
     "output_type": "execute_result"
    }
   ],
   "source": [
    "# Load csv to a Dataframe\n",
    "movie_df = pd.read_csv('output_data\\\\movie_2000.csv')\n",
    "\n",
    "# Set 'movieId' as the index of the DataFrame\n",
    "movie_df.set_index('movieId', inplace = True)\n",
    "movie_df.head(2)"
   ]
  },
  {
   "cell_type": "code",
   "execution_count": 15,
   "metadata": {},
   "outputs": [
    {
     "data": {
      "text/plain": [
       "(12729, 22)"
      ]
     },
     "execution_count": 15,
     "metadata": {},
     "output_type": "execute_result"
    }
   ],
   "source": [
    "#movie_df = movie_df.drop(columns=['movie_youth_rate'])\n",
    "movie_df['year'] = movie_df['year'].astype(str)\n",
    "movie_df.shape"
   ]
  },
  {
   "cell_type": "markdown",
   "metadata": {},
   "source": [
    "#### Creating Dataframe with numeric types only columns"
   ]
  },
  {
   "cell_type": "code",
   "execution_count": 17,
   "metadata": {},
   "outputs": [],
   "source": [
    "movie_df_num = movie_df.select_dtypes(include=[float, int])\n",
    "movie_df_num.head(2)"
   ]
  },
  {
   "cell_type": "markdown",
   "metadata": {},
   "source": [
    "#### Create Pearson Correlation Function"
   ]
  },
  {
   "cell_type": "code",
   "execution_count": 61,
   "metadata": {},
   "outputs": [],
   "source": [
    "import warnings\n",
    "\n",
    "# Ignore warnings\n",
    "warnings.filterwarnings(\"ignore\", category=RuntimeWarning)\n",
    "\n",
    "\n",
    "def matching_genres(movie_title):\n",
    "    # Find index of target movie\n",
    "    target_movie_index = int(movie_df.index[movie_df['title'] == movie_title][0])\n",
    "    \n",
    "    # Select target movie genres\n",
    "    target_genres = movie_df_num.loc[target_movie_index]\n",
    "\n",
    "    # Calculate correlation score of target movie genres\n",
    "    correlations = movie_df_num.apply(lambda row: row.corr(target_genres), axis=1)\n",
    "    \n",
    "    # Create DataFrame with genres correlation scores\n",
    "    df_genre = pd.DataFrame(correlations, columns=['PearsonG'])\n",
    "    \n",
    "    # Add titles, genres and year\n",
    "    df_genre = df_genre.join(movie_df[['title', 'genres', 'year']])\n",
    "    \n",
    "    # Sort score in descending order\n",
    "    df_genre = df_genre.sort_values('PearsonG', ascending=False)\n",
    "    df_genre.dropna(inplace=True)\n",
    "\n",
    "    # Calculate correlation score with movie ratings\n",
    "    target = df_pivot[target_movie_index]\n",
    "    similar_to_target = df_pivot.corrwith(target)\n",
    "    \n",
    "    # Create DataFrame with movie correlation scores\n",
    "    corr_target = pd.DataFrame(similar_to_target, columns=['PearsonR'])\n",
    "    \n",
    "    # Drop NaN\n",
    "    corr_target.dropna(inplace=True)\n",
    "\n",
    "    # Sort score in descending order\n",
    "    corr_target = corr_target.sort_values('PearsonR', ascending=False)\n",
    "    \n",
    "    # Cast index in int type\n",
    "    corr_target.index = corr_target.index.map(int)\n",
    "    \n",
    "    # Join genres and ratings correlation DataFrames\n",
    "    df_combined = corr_target.join(df_genre.set_index(df_genre.index), how='inner')\n",
    "    \n",
    "    # Sort descending PearsonR et PearsonG columns\n",
    "    df_combined = df_combined.sort_values(['PearsonR', 'PearsonG'], ascending=False)\n",
    "    \n",
    "    # Display results\n",
    "    print(\"Because you watch this movie :\", movie_title)\n",
    "    print(\"Our Top10 Selection of 2000's movies for you !\")\n",
    "    print(df_combined.head(10))#.to_string(index=False))\n",
    "\n",
    "# Call function\n",
    "#matching_genres(matching_title)\n"
   ]
  },
  {
   "cell_type": "markdown",
   "metadata": {},
   "source": [
    "#### Call it randomly with a function to generate recommandation"
   ]
  },
  {
   "cell_type": "code",
   "execution_count": 73,
   "metadata": {},
   "outputs": [
    {
     "name": "stdout",
     "output_type": "stream",
     "text": [
      "Randomly selected movie: 'southland tales'\n",
      "Because you watch this movie : southland tales\n",
      "Our Top10 Selection of 2000's movies for you !\n",
      "         PearsonR  PearsonG                                       title  \\\n",
      "movieId                                                                   \n",
      "56003         1.0  1.000000                             southland tales   \n",
      "95506         1.0  0.838525             extraterrestrial extraterrestre   \n",
      "101498        1.0  0.683333                                in the house   \n",
      "83244         1.0  0.664211  its not me i swear cest pas moi je le jure   \n",
      "27468         1.0  0.664211                                    stranded   \n",
      "57236         1.0  0.664211                                         lol   \n",
      "87992         1.0  0.664211                                     mammuth   \n",
      "87792         1.0  0.664211                                 route irish   \n",
      "76082         1.0  0.664211                                  blackwoods   \n",
      "119216        1.0  0.664211                         goodbye to all that   \n",
      "\n",
      "                                genres  year  \n",
      "movieId                                       \n",
      "56003     Comedy|Drama|Sci-Fi|Thriller  2006  \n",
      "95506              Comedy|Drama|Sci-Fi  2011  \n",
      "101498   Comedy|Drama|Mystery|Thriller  2012  \n",
      "83244                     Comedy|Drama  2008  \n",
      "27468                     Drama|Sci-Fi  2001  \n",
      "57236                     Comedy|Drama  2006  \n",
      "87992                     Comedy|Drama  2010  \n",
      "87792                   Drama|Thriller  2010  \n",
      "76082                   Drama|Thriller  2002  \n",
      "119216                    Comedy|Drama  2014  \n"
     ]
    }
   ],
   "source": [
    "import random\n",
    "\n",
    "def random_movie_recommendation():\n",
    "    # Randomly select a movie title from the movie_df['title'] column\n",
    "    random_title = random.choice(movie_df['title'].tolist())\n",
    "    \n",
    "    # Print the selected title (optional)\n",
    "    print(f\"Randomly selected movie: '{random_title}'\")\n",
    "    \n",
    "    # Call the matching_genres function with the randomly selected title\n",
    "    matching_genres(random_title)\n",
    "\n",
    "# Call the function to get a random movie recommendation\n",
    "random_movie_recommendation()\n"
   ]
  },
  {
   "cell_type": "markdown",
   "metadata": {},
   "source": [
    "#### Call it manually to generate recommandation"
   ]
  },
  {
   "cell_type": "code",
   "execution_count": 75,
   "metadata": {},
   "outputs": [
    {
     "name": "stdout",
     "output_type": "stream",
     "text": [
      "Because you watch this movie : mammuth\n",
      "Our Top10 Selection of 2000's movies for you !\n",
      "         PearsonR  PearsonG                              title        genres  \\\n",
      "movieId                                                                        \n",
      "65230         1.0       1.0                         marley  me  Comedy|Drama   \n",
      "66509         1.0       1.0                       funny people  Comedy|Drama   \n",
      "8366          1.0       1.0                              saved  Comedy|Drama   \n",
      "7460          1.0       1.0              coffee and cigarettes  Comedy|Drama   \n",
      "71466         1.0       1.0                        city island  Comedy|Drama   \n",
      "5890          1.0       1.0                             elling  Comedy|Drama   \n",
      "78116         1.0       1.0                        please give  Comedy|Drama   \n",
      "6620          1.0       1.0                  american splendor  Comedy|Drama   \n",
      "6339          1.0       1.0  man on the train homme du train l  Comedy|Drama   \n",
      "55280         1.0       1.0             lars and the real girl  Comedy|Drama   \n",
      "\n",
      "         year  \n",
      "movieId        \n",
      "65230    2008  \n",
      "66509    2009  \n",
      "8366     2004  \n",
      "7460     2003  \n",
      "71466    2009  \n",
      "5890     2001  \n",
      "78116    2010  \n",
      "6620     2003  \n",
      "6339     2002  \n",
      "55280    2007  \n"
     ]
    }
   ],
   "source": [
    "matching_genres('mammuth')"
   ]
  }
 ],
 "metadata": {
  "kernelspec": {
   "display_name": "venv_mlops",
   "language": "python",
   "name": "python3"
  },
  "language_info": {
   "codemirror_mode": {
    "name": "ipython",
    "version": 3
   },
   "file_extension": ".py",
   "mimetype": "text/x-python",
   "name": "python",
   "nbconvert_exporter": "python",
   "pygments_lexer": "ipython3",
   "version": "3.11.7"
  }
 },
 "nbformat": 4,
 "nbformat_minor": 2
}
