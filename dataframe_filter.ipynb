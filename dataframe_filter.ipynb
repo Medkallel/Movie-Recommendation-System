{
 "cells": [
  {
   "cell_type": "code",
   "execution_count": 1,
   "metadata": {},
   "outputs": [],
   "source": [
    "import pandas as pd"
   ]
  },
  {
   "cell_type": "code",
   "execution_count": 31,
   "metadata": {},
   "outputs": [],
   "source": [
    "# Loading rating dataframe\n",
    "rating_df = pd.read_csv(\"input_data\\\\rating.csv\")\n"
   ]
  },
  {
   "cell_type": "code",
   "execution_count": 32,
   "metadata": {},
   "outputs": [],
   "source": [
    "# Loading movie dataframe\n",
    "movie_df = pd.read_csv('input_data\\\\movie.csv')\n",
    "\n",
    "# Use str.extract to separate the movie title and year from the 'title' column\n",
    "movie_df[['title', 'year']] = movie_df['title'].str.extract(r'^(.*)\\s\\((\\d{4})\\)$')\n",
    "\n",
    "# Perform one-hot encoding on the 'genres' column, creating binary columns for each genre\n",
    "df_genres_encoded = movie_df['genres'].str.get_dummies(sep='|')\n",
    "\n",
    "# Concatenate the one-hot encoded genres with the original DataFrame\n",
    "movie_df = pd.concat([movie_df, df_genres_encoded], axis=1)\n",
    "\n",
    "# Drop the 'genres', 'year', and '(no genres listed)' columns from the DataFrame\n",
    "movie_df = movie_df.drop(columns=['genres', 'year', '(no genres listed)'], axis=1)\n"
   ]
  },
  {
   "cell_type": "markdown",
   "metadata": {},
   "source": [
    "# FILTER FUNCTION CREATE RATING AND MOVIE DATAFRAMES"
   ]
  },
  {
   "cell_type": "code",
   "execution_count": 33,
   "metadata": {},
   "outputs": [
    {
     "name": "stdout",
     "output_type": "stream",
     "text": [
      "test_movie_12_240\n",
      "nb of ratings : 500978\n",
      "percentage of ratings : 3 %\n",
      "nb of users : 53500\n",
      "percentage of users : 39 %\n",
      "nb of movies : 4198\n",
      "percentage of movies : 16 %\n",
      "Success: The lengths match.\n"
     ]
    },
    {
     "data": {
      "text/plain": [
       "(          userId  movieId  rating\n",
       " 141            1     5898     3.5\n",
       " 162            1     7389     4.0\n",
       " 189            2     1121     3.0\n",
       " 797            7     4503     3.0\n",
       " 982           11      286     0.5\n",
       " ...          ...      ...     ...\n",
       " 20000189  138493    27689     4.5\n",
       " 20000248  138493    58879     4.5\n",
       " 20000253  138493    60816     4.5\n",
       " 20000256  138493    66762     4.5\n",
       " 20000262  138493    71619     2.5\n",
       " \n",
       " [500978 rows x 3 columns],\n",
       "        movieId                                    title  Action  Adventure  \\\n",
       " 32          33                         Wings of Courage       0          1   \n",
       " 36          37                   Across the Sea of Time       0          0   \n",
       " 48          49                    When Night Is Falling       0          0   \n",
       " 52          53                                 Lamerica       0          1   \n",
       " 55          56                  Kids of the Round Table       0          1   \n",
       " ...        ...                                      ...     ...        ...   \n",
       " 25222   118997                           Into the Woods       0          0   \n",
       " 25254   119145             Kingsman: The Secret Service       1          1   \n",
       " 25258   119155  Night at the Museum: Secret of the Tomb       0          1   \n",
       " 25490   120635                                  Taken 3       1          0   \n",
       " 26159   125916                     Fifty Shades of Grey       0          0   \n",
       " \n",
       "        Animation  Children  Comedy  Crime  Documentary  Drama  ...  Film-Noir  \\\n",
       " 32             0         0       0      0            0      0  ...          0   \n",
       " 36             0         0       0      0            1      0  ...          0   \n",
       " 48             0         0       0      0            0      1  ...          0   \n",
       " 52             0         0       0      0            0      1  ...          0   \n",
       " 55             0         1       0      0            0      0  ...          0   \n",
       " ...          ...       ...     ...    ...          ...    ...  ...        ...   \n",
       " 25222          0         1       1      0            0      0  ...          0   \n",
       " 25254          0         0       1      1            0      0  ...          0   \n",
       " 25258          0         1       1      0            0      0  ...          0   \n",
       " 25490          0         0       0      1            0      0  ...          0   \n",
       " 26159          0         0       0      0            0      1  ...          0   \n",
       " \n",
       "        Horror  IMAX  Musical  Mystery  Romance  Sci-Fi  Thriller  War  Western  \n",
       " 32          0     1        0        0        1       0         0    0        0  \n",
       " 36          0     1        0        0        0       0         0    0        0  \n",
       " 48          0     0        0        0        1       0         0    0        0  \n",
       " 52          0     0        0        0        0       0         0    0        0  \n",
       " 55          0     0        0        0        0       0         0    0        0  \n",
       " ...       ...   ...      ...      ...      ...     ...       ...  ...      ...  \n",
       " 25222       0     0        1        0        0       0         0    0        0  \n",
       " 25254       0     0        0        0        0       0         0    0        0  \n",
       " 25258       0     0        0        0        0       0         0    0        0  \n",
       " 25490       0     0        0        0        0       0         1    0        0  \n",
       " 26159       0     0        0        0        0       0         0    0        0  \n",
       " \n",
       " [4198 rows x 21 columns])"
      ]
     },
     "execution_count": 33,
     "metadata": {},
     "output_type": "execute_result"
    }
   ],
   "source": [
    "import pandas as pd\n",
    "\n",
    "def filter_and_save_dataframes(rating_df, movie_df, col_name, lower_bound, upper_bound, output_filename):\n",
    "    \"\"\"\n",
    "    Filters the DataFrame based on the number of ratings and writes the result to two CSV files.\n",
    "    \n",
    "    Parameters:\n",
    "    df (DataFrame): The input DataFrame to be filtered.\n",
    "    movie_df (DataFrame): The DataFrame containing movie details.\n",
    "    col_name (str): The name of the column to count ratings per userId or movieId\n",
    "    lower_bound (int): The lower bound for the number of ratings to filter.\n",
    "    upper_bound (int): The upper bound for the number of ratings to filter.\n",
    "    output_filename (str): The base name of the output CSV files (without '.csv').\n",
    "    \n",
    "    Returns:\n",
    "    DataFrame: The filtered DataFrame.\n",
    "    \"\"\"\n",
    "    # Calculate the number of ratings each movie or user has received\n",
    "    rating_df[f'ratings_per_{col_name}'] = df.groupby(col_name)['userId'].transform('count')\n",
    "    \n",
    "    # Filter the DataFrame\n",
    "    filtered_df = rating_df[(rating_df[f'ratings_per_{col_name}'] > lower_bound) & \n",
    "                     (rating_df[f'ratings_per_{col_name}'] < upper_bound)]\n",
    "    \n",
    "    # Drop all columns except 'userId', 'movieId', 'rating'\n",
    "    filtered_df = filtered_df[['userId', 'movieId', 'rating']]\n",
    "    \n",
    "    print(output_filename)\n",
    "    # Print the number and percentage of ratings in the filtered DataFrame\n",
    "    print(\"nb of ratings :\",len(filtered_df))\n",
    "    print(\"percentage of ratings :\", round(len(filtered_df)/len(df)*100),\"%\")\n",
    "\n",
    "    # Print the number and percentage of unique users in the filtered DataFrame\n",
    "    print(\"nb of users :\",filtered_df['userId'].nunique())\n",
    "    print(\"percentage of users :\", round(filtered_df['userId'].nunique()/df['userId'].nunique()*100),\"%\")\n",
    "\n",
    "    # Print the number and percentage of unique movies in the filtered DataFrame\n",
    "    print(\"nb of movies :\",filtered_df['movieId'].nunique())\n",
    "    print(\"percentage of movies :\", round(filtered_df['movieId'].nunique()/df['movieId'].nunique()*100),\"%\")\n",
    "    \n",
    "    # Write the filtered ratings DataFrame into a CSV\n",
    "    filtered_df.to_csv(f'output_data/rating_{output_filename}.csv', index=False)\n",
    "    \n",
    "    # Dynamically set the name of the DataFrame\n",
    "    globals()[output_filename] = filtered_df\n",
    "    \n",
    "    # Filter movie_df to keep only the movieIds present in filtered_df\n",
    "    filtered_movie_df = movie_df[movie_df['movieId'].isin(filtered_df['movieId'])]\n",
    "    \n",
    "    # Check if the number of unique movieIds matches\n",
    "    if len(filtered_movie_df) == filtered_df['movieId'].nunique():\n",
    "        print(\"Success: The lengths match.\")\n",
    "    else:\n",
    "        print(\"Error: Lengths do not match.\")\n",
    "    \n",
    "    # Write the filtered movie DataFrame into a CSV\n",
    "    filtered_movie_df.to_csv(f'output_data/movie_{output_filename}.csv', index=False)\n",
    "    \n",
    "    \n",
    "    # Return the filtered DataFrame for further use if needed\n",
    "    return filtered_df, filtered_movie_df\n",
    "\n",
    "\n",
    "# Call the combined function\n",
    "filter_and_save_dataframes(rating_df, movie_df, 'movieId', 50, 240, 'test_movie_12_240')\n"
   ]
  }
 ],
 "metadata": {
  "kernelspec": {
   "display_name": "venv_mlops",
   "language": "python",
   "name": "python3"
  },
  "language_info": {
   "codemirror_mode": {
    "name": "ipython",
    "version": 3
   },
   "file_extension": ".py",
   "mimetype": "text/x-python",
   "name": "python",
   "nbconvert_exporter": "python",
   "pygments_lexer": "ipython3",
   "version": "3.11.7"
  }
 },
 "nbformat": 4,
 "nbformat_minor": 2
}
