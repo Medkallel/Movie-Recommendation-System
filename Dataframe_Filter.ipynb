{
 "cells": [
  {
   "cell_type": "markdown",
   "metadata": {},
   "source": [
    "# DATAFRAME FILTER FUNCTION\n",
    "\n",
    "How it works:  \n",
    "The function takes the rating.csv file and filter it based on the number of occurences of userId or movieId.  \n",
    "We created this function to be able to work on the exact same filtered dataframes from remote locations, just sharing the set of chosen parameters.  \n",
    "\n",
    "Parameters:  \n",
    "\n",
    "rating_df (DataFrame): The input DataFrame to be filtered. - (DO NOT CHANGE IT)  \n",
    "movie_df (DataFrame): The DataFrame containing movie details. - (DO NOT CHANGE IT)  \n",
    "col_name (str): Choose to count occurences of userId or movieId.  \n",
    "lower_bound (int): The lower bound for the number of ratings to filter.  \n",
    "upper_bound (int): The upper bound for the number of ratings to filter.  \n",
    "output_filename (str): The base name of the output CSV files (without '.csv')."
   ]
  },
  {
   "cell_type": "code",
   "execution_count": 2,
   "metadata": {},
   "outputs": [],
   "source": [
    "# Import Pandas Library\n",
    "import pandas as pd"
   ]
  },
  {
   "cell_type": "code",
   "execution_count": 3,
   "metadata": {},
   "outputs": [],
   "source": [
    "# Set path to csv\n",
    "path_rating = \"input_data\\\\rating.csv\"\n",
    "path_movie = \"input_data\\\\movie.csv\""
   ]
  },
  {
   "cell_type": "code",
   "execution_count": 4,
   "metadata": {},
   "outputs": [],
   "source": [
    "# Loading rating dataframe\n",
    "rating_df = pd.read_csv(path_rating)\n"
   ]
  },
  {
   "cell_type": "code",
   "execution_count": 5,
   "metadata": {},
   "outputs": [],
   "source": [
    "# Loading movie dataframe\n",
    "movie_df = pd.read_csv(path_movie)\n",
    "\n",
    "# Use str.extract to separate the movie title and year from the 'title' column\n",
    "movie_df[['title', 'year']] = movie_df['title'].str.extract(r'^(.*)\\s\\((\\d{4})\\)$')\n",
    "\n",
    "# Perform one-hot encoding on the 'genres' column, creating binary columns for each genre\n",
    "df_genres_encoded = movie_df['genres'].str.get_dummies(sep='|')\n",
    "\n",
    "# Concatenate the one-hot encoded genres with the original DataFrame\n",
    "movie_df = pd.concat([movie_df, df_genres_encoded], axis=1)\n",
    "\n",
    "# Drop the 'genres', 'year', and '(no genres listed)' columns from the DataFrame\n",
    "movie_df = movie_df.drop(columns=['(no genres listed)'], axis=1)\n"
   ]
  },
  {
   "cell_type": "markdown",
   "metadata": {},
   "source": [
    "#### Filter Function"
   ]
  },
  {
   "cell_type": "code",
   "execution_count": 6,
   "metadata": {},
   "outputs": [
    {
     "name": "stdout",
     "output_type": "stream",
     "text": [
      "Name :  IQR_users \n",
      "\n",
      "nb of ratings : 9962336\n",
      "percentage of ratings : 50 %\n",
      "\n",
      "nb of users : 38105\n",
      "percentage of users : 28 %\n",
      "\n",
      "nb of movies : 19658\n",
      "percentage of movies : 74 %\n",
      "\n",
      "Do the rating filtered df and the movie filtered df contain the sames movies?\n",
      "Success: The lengths match.\n"
     ]
    },
    {
     "data": {
      "text/plain": [
       "\"\\nTips to use the function\\nuserId rating count range: \\nmean       511\\nstd        663\\nmin         20\\n25%        123\\n50%        296\\n75%        644\\nmax       9254\\n\\nmovieId rating count range:\\nmean       747\\nstd       3085\\nmin          1\\n25%          3\\n50%         18\\n75%        205\\nmax      67310\\n\\nExemple of filtering we have used with our models:\\n\\nBlockbusters: very popular movies\\n(rating_df, movie_df, 'movieId', 1300, 67311, 'blockbusters_movies')\\n\\nConfidentials: movies not so popular\\n(rating_df, movie_df, 'movieId', 0, 1300, 'confidential_movies')\\n\\nEngaged: Very active users\\n(rating_df, movie_df, 'userId', 644, 9255, 'engaged_users')\\n\\nNew Comers : Poorly active users\\n(rating_df, movie_df, 'userId', 0, 123, 'newcomers_users')\\n\\nIQR: average active users, count for 50% of all ratings\\n(rating_df, movie_df, 'userId', 123, 644, 'IQR_users')\\n\""
      ]
     },
     "execution_count": 6,
     "metadata": {},
     "output_type": "execute_result"
    }
   ],
   "source": [
    "def filter_and_save_dataframes(rating_df, movie_df, col_name, lower_bound, upper_bound, output_filename):\n",
    "    \"\"\"\n",
    "    Filters the DataFrame based on the number of ratings and writes the result to two CSV files.\n",
    "    \n",
    "    Parameters:\n",
    "    rating_df (DataFrame): The input DataFrame to be filtered.\n",
    "    movie_df (DataFrame): The DataFrame containing movie details.\n",
    "    col_name (str): The name of the column to count ratings per userId or movieId\n",
    "    lower_bound (int): The lower bound for the number of ratings to filter.\n",
    "    upper_bound (int): The upper bound for the number of ratings to filter.\n",
    "    output_filename (str): The base name of the output CSV files (without '.csv').\n",
    "    \n",
    "    Returns:\n",
    "    DataFrame: The filtered DataFrame.\n",
    "    \"\"\"\n",
    "    # Calculate the number of ratings each movie or user has received\n",
    "    rating_df[f'ratings_per_{col_name}'] = rating_df.groupby(col_name)['userId'].transform('count')\n",
    "    \n",
    "    # Filter the DataFrame\n",
    "    filtered_df = rating_df[(rating_df[f'ratings_per_{col_name}'] > lower_bound) & \n",
    "                     (rating_df[f'ratings_per_{col_name}'] < upper_bound)]\n",
    "    \n",
    "    # Drop all columns except 'userId', 'movieId', 'rating'\n",
    "    filtered_df = filtered_df[['userId', 'movieId', 'rating']]\n",
    "    \n",
    "    # Print new dataset name\n",
    "    print(\"Name : \",output_filename, \"\\n\")\n",
    "    \n",
    "    # Print the number and percentage of ratings in the filtered DataFrame\n",
    "    print(\"nb of ratings :\",len(filtered_df))\n",
    "    print(\"percentage of ratings :\", round(len(filtered_df)/len(rating_df)*100),\"%\\n\")\n",
    "\n",
    "    # Print the number and percentage of unique users in the filtered DataFrame\n",
    "    print(\"nb of users :\",filtered_df['userId'].nunique())\n",
    "    print(\"percentage of users :\", round(filtered_df['userId'].nunique()/rating_df['userId'].nunique()*100),\"%\\n\")\n",
    "\n",
    "    # Print the number and percentage of unique movies in the filtered DataFrame\n",
    "    print(\"nb of movies :\",filtered_df['movieId'].nunique())\n",
    "    print(\"percentage of movies :\", round(filtered_df['movieId'].nunique()/rating_df['movieId'].nunique()*100),\"%\\n\")\n",
    "    \n",
    "    # Write the filtered ratings DataFrame into a CSV\n",
    "    filtered_df.to_csv(f'rating_{output_filename}.csv', index=False)\n",
    "    \n",
    "    # Dynamically set the name of the DataFrame\n",
    "    globals()[output_filename] = filtered_df\n",
    "    \n",
    "    # Filter movie_df to keep only the movieIds present in filtered_df\n",
    "    filtered_movie_df = movie_df[movie_df['movieId'].isin(filtered_df['movieId'])]\n",
    "    \n",
    "    print(\"Do the rating filtered df and the movie filtered df contain the sames movies?\")\n",
    "    # Check if the number of unique movieIds matches\n",
    "    if len(filtered_movie_df) == filtered_df['movieId'].nunique():\n",
    "        print(\"Success: The lengths match.\")\n",
    "    else:\n",
    "        print(\"Error: Lengths do not match.\")\n",
    "    \n",
    "    # Write the filtered movie DataFrame into a CSV\n",
    "    filtered_movie_df.to_csv(f'movie_{output_filename}.csv', index=False)\n",
    "    \n",
    "    \n",
    "    # Return the filtered DataFrame for further use if needed\n",
    "    return filtered_df, filtered_movie_df\n",
    "\n",
    "\n",
    "# Call the combined function\n",
    "filter_and_save_dataframes(rating_df, movie_df, 'userId', 123, 644, 'IQR_users')\n",
    "\n",
    "\"\"\"\n",
    "Tips to use the function\n",
    "userId rating count range: \n",
    "mean       511\n",
    "std        663\n",
    "min         20\n",
    "25%        123\n",
    "50%        296\n",
    "75%        644\n",
    "max       9254\n",
    "\n",
    "movieId rating count range:\n",
    "mean       747\n",
    "std       3085\n",
    "min          1\n",
    "25%          3\n",
    "50%         18\n",
    "75%        205\n",
    "max      67310\n",
    "\n",
    "Exemple of filtering we have used with our models:\n",
    "\n",
    "Blockbusters: very popular movies\n",
    "(rating_df, movie_df, 'movieId', 1300, 67311, 'blockbusters_movies')\n",
    "\n",
    "Confidentials: movies not so popular\n",
    "(rating_df, movie_df, 'movieId', 0, 1300, 'confidential_movies')\n",
    "\n",
    "Engaged: Very active users\n",
    "(rating_df, movie_df, 'userId', 644, 9255, 'engaged_users')\n",
    "\n",
    "New Comers : Poorly active users\n",
    "(rating_df, movie_df, 'userId', 0, 123, 'newcomers_users')\n",
    "\n",
    "IQR: average active users, count for 50% of all ratings\n",
    "(rating_df, movie_df, 'userId', 123, 644, 'IQR_users')\n",
    "\"\"\"\n"
   ]
  },
  {
   "cell_type": "code",
   "execution_count": null,
   "metadata": {},
   "outputs": [],
   "source": []
  }
 ],
 "metadata": {
  "kernelspec": {
   "display_name": "venv_mlops",
   "language": "python",
   "name": "python3"
  },
  "language_info": {
   "codemirror_mode": {
    "name": "ipython",
    "version": 3
   },
   "file_extension": ".py",
   "mimetype": "text/x-python",
   "name": "python",
   "nbconvert_exporter": "python",
   "pygments_lexer": "ipython3",
   "version": "3.11.7"
  }
 },
 "nbformat": 4,
 "nbformat_minor": 2
}
