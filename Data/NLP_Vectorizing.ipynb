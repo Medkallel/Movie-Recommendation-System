{
 "cells": [
  {
   "cell_type": "markdown",
   "metadata": {},
   "source": [
    "# Vectorizing Users & Movies\n",
    "\n",
    "The purpose of this notebook, is to vectorise users based on their tags, and choices of movies.\n",
    "We are going to work on categorical features such as tags, titles and movie genres to construct numeric vectors. We are also going to transform dates into ages, and then ages into youth_rates to help understand which era fits best every user. These vectors and youth_rates will allow us to compare users and movies thus circle shared topics and styles to recommend better to our most valuable customers."
   ]
  },
  {
   "cell_type": "markdown",
   "metadata": {},
   "source": [
    "##### Importing libraries"
   ]
  },
  {
   "cell_type": "code",
   "execution_count": 2,
   "metadata": {},
   "outputs": [],
   "source": [
    "# Import essential libraries:\n",
    "import numpy as np\n",
    "import pandas as pd\n",
    "import re\n"
   ]
  },
  {
   "cell_type": "markdown",
   "metadata": {},
   "source": [
    "##### Loading Tag DataFrame"
   ]
  },
  {
   "cell_type": "code",
   "execution_count": 3,
   "metadata": {},
   "outputs": [
    {
     "data": {
      "text/html": [
       "<div>\n",
       "<style scoped>\n",
       "    .dataframe tbody tr th:only-of-type {\n",
       "        vertical-align: middle;\n",
       "    }\n",
       "\n",
       "    .dataframe tbody tr th {\n",
       "        vertical-align: top;\n",
       "    }\n",
       "\n",
       "    .dataframe thead th {\n",
       "        text-align: right;\n",
       "    }\n",
       "</style>\n",
       "<table border=\"1\" class=\"dataframe\">\n",
       "  <thead>\n",
       "    <tr style=\"text-align: right;\">\n",
       "      <th></th>\n",
       "      <th>userId</th>\n",
       "      <th>movieId</th>\n",
       "      <th>tag</th>\n",
       "      <th>timestamp</th>\n",
       "    </tr>\n",
       "  </thead>\n",
       "  <tbody>\n",
       "    <tr>\n",
       "      <th>0</th>\n",
       "      <td>18</td>\n",
       "      <td>4141</td>\n",
       "      <td>Mark Waters</td>\n",
       "      <td>2009-04-24 18:19:40</td>\n",
       "    </tr>\n",
       "    <tr>\n",
       "      <th>1</th>\n",
       "      <td>65</td>\n",
       "      <td>208</td>\n",
       "      <td>dark hero</td>\n",
       "      <td>2013-05-10 01:41:18</td>\n",
       "    </tr>\n",
       "  </tbody>\n",
       "</table>\n",
       "</div>"
      ],
      "text/plain": [
       "   userId  movieId          tag            timestamp\n",
       "0      18     4141  Mark Waters  2009-04-24 18:19:40\n",
       "1      65      208    dark hero  2013-05-10 01:41:18"
      ]
     },
     "execution_count": 3,
     "metadata": {},
     "output_type": "execute_result"
    }
   ],
   "source": [
    "# Load the dataset from 'tag.csv'\n",
    "df_tag = pd.read_csv('input_data\\\\tag.csv', delimiter=',')\n",
    "\n",
    "# Display the first 2 rows\n",
    "df_tag.head(2)"
   ]
  },
  {
   "cell_type": "markdown",
   "metadata": {},
   "source": [
    "##### Quick checking number of user and number of tagging\n",
    "7801 user, it's a very low number, these user can be considered as opinion leaders since they put more effort into judging movies."
   ]
  },
  {
   "cell_type": "code",
   "execution_count": 4,
   "metadata": {},
   "outputs": [
    {
     "data": {
      "text/plain": [
       "7801"
      ]
     },
     "execution_count": 4,
     "metadata": {},
     "output_type": "execute_result"
    }
   ],
   "source": [
    "# Calculate the number of unique users in the 'df_tag' DataFrame by counting distinct 'userId' values.\n",
    "df_tag['userId'].nunique()\n"
   ]
  },
  {
   "cell_type": "code",
   "execution_count": 5,
   "metadata": {},
   "outputs": [
    {
     "data": {
      "text/plain": [
       "(465564, 4)"
      ]
     },
     "execution_count": 5,
     "metadata": {},
     "output_type": "execute_result"
    }
   ],
   "source": [
    "# Retrieve the dimensions of the 'df_tag' DataFrame\n",
    "df_tag.shape\n"
   ]
  },
  {
   "cell_type": "markdown",
   "metadata": {},
   "source": [
    "##### Droping a few NaN"
   ]
  },
  {
   "cell_type": "code",
   "execution_count": 6,
   "metadata": {},
   "outputs": [
    {
     "data": {
      "text/plain": [
       "tag    16\n",
       "dtype: int64"
      ]
     },
     "execution_count": 6,
     "metadata": {},
     "output_type": "execute_result"
    }
   ],
   "source": [
    "# Find columns with NaN values\n",
    "# Count NaN values for each column\n",
    "nan_counts = df_tag.isna().sum()\n",
    "\n",
    "# Filter and print only the columns with NaN values and their counts\n",
    "nan_columns_counts = nan_counts[nan_counts > 0]\n",
    "nan_columns_counts"
   ]
  },
  {
   "cell_type": "code",
   "execution_count": 7,
   "metadata": {},
   "outputs": [],
   "source": [
    "# Remove rows with any missing values from the 'df_tag' DataFrame.\n",
    "df_tag = df_tag.dropna()\n"
   ]
  },
  {
   "cell_type": "code",
   "execution_count": 8,
   "metadata": {},
   "outputs": [
    {
     "name": "stderr",
     "output_type": "stream",
     "text": [
      "[nltk_data] Downloading package names to\n",
      "[nltk_data]     C:\\Users\\jcrig\\AppData\\Roaming\\nltk_data...\n",
      "[nltk_data]   Package names is already up-to-date!\n"
     ]
    },
    {
     "data": {
      "text/plain": [
       "True"
      ]
     },
     "execution_count": 8,
     "metadata": {},
     "output_type": "execute_result"
    }
   ],
   "source": [
    "# Import the Natural Language Toolkit (nltk) and download the 'names' dataset.\n",
    "import nltk\n",
    "nltk.download('names')\n"
   ]
  },
  {
   "cell_type": "markdown",
   "metadata": {},
   "source": [
    "##### Removing names to replace them with actor or actress in tags\n",
    "The purpose is to vectorize the tags, and the model doesn't know names and can't vectorise them, so its better to drop this information and replace it with something useful. It allows us to feed to model with information such as \"is the main charactere male or female?\"\n"
   ]
  },
  {
   "cell_type": "code",
   "execution_count": 9,
   "metadata": {},
   "outputs": [
    {
     "data": {
      "text/html": [
       "<div>\n",
       "<style scoped>\n",
       "    .dataframe tbody tr th:only-of-type {\n",
       "        vertical-align: middle;\n",
       "    }\n",
       "\n",
       "    .dataframe tbody tr th {\n",
       "        vertical-align: top;\n",
       "    }\n",
       "\n",
       "    .dataframe thead th {\n",
       "        text-align: right;\n",
       "    }\n",
       "</style>\n",
       "<table border=\"1\" class=\"dataframe\">\n",
       "  <thead>\n",
       "    <tr style=\"text-align: right;\">\n",
       "      <th></th>\n",
       "      <th>userId</th>\n",
       "      <th>movieId</th>\n",
       "      <th>tag</th>\n",
       "      <th>timestamp</th>\n",
       "    </tr>\n",
       "  </thead>\n",
       "  <tbody>\n",
       "    <tr>\n",
       "      <th>0</th>\n",
       "      <td>18</td>\n",
       "      <td>4141</td>\n",
       "      <td>actor</td>\n",
       "      <td>2009-04-24 18:19:40</td>\n",
       "    </tr>\n",
       "    <tr>\n",
       "      <th>1</th>\n",
       "      <td>65</td>\n",
       "      <td>208</td>\n",
       "      <td>dark hero</td>\n",
       "      <td>2013-05-10 01:41:18</td>\n",
       "    </tr>\n",
       "  </tbody>\n",
       "</table>\n",
       "</div>"
      ],
      "text/plain": [
       "   userId  movieId        tag            timestamp\n",
       "0      18     4141      actor  2009-04-24 18:19:40\n",
       "1      65      208  dark hero  2013-05-10 01:41:18"
      ]
     },
     "execution_count": 9,
     "metadata": {},
     "output_type": "execute_result"
    }
   ],
   "source": [
    "from nltk.corpus import names\n",
    "\n",
    "# Load male and female names from the NLTK names dataset.\n",
    "male_names = set(names.words('male.txt'))\n",
    "female_names = set(names.words('female.txt'))\n",
    "\n",
    "# Function to replace names with 'actor' or 'actress' based on gender.\n",
    "# If a name matches a male name, replace with \"actor\"; if it matches a female name, replace with \"actress\".\n",
    "# If no name is found, the original tag is kept.\n",
    "def replace_name(tag):\n",
    "    words = tag.split()\n",
    "    for word in words:\n",
    "        if word in male_names:\n",
    "            return \"actor\"\n",
    "        elif word in female_names:\n",
    "            return \"actress\"\n",
    "    return tag\n",
    "\n",
    "# Apply the 'replace_name' function to the 'tag' column in the 'df_tag' DataFrame.\n",
    "# This replaces names with 'actor' or 'actress' as determined by the function.\n",
    "df_tag['tag'] = df_tag['tag'].apply(replace_name)\n",
    "\n",
    "# Display the first 5 rows of the updated DataFrame.\n",
    "df_tag.head(2)\n"
   ]
  },
  {
   "cell_type": "markdown",
   "metadata": {},
   "source": [
    "##### Using Timestamp to create a tag age column, much more usefull later on"
   ]
  },
  {
   "cell_type": "code",
   "execution_count": 10,
   "metadata": {},
   "outputs": [
    {
     "data": {
      "text/html": [
       "<div>\n",
       "<style scoped>\n",
       "    .dataframe tbody tr th:only-of-type {\n",
       "        vertical-align: middle;\n",
       "    }\n",
       "\n",
       "    .dataframe tbody tr th {\n",
       "        vertical-align: top;\n",
       "    }\n",
       "\n",
       "    .dataframe thead th {\n",
       "        text-align: right;\n",
       "    }\n",
       "</style>\n",
       "<table border=\"1\" class=\"dataframe\">\n",
       "  <thead>\n",
       "    <tr style=\"text-align: right;\">\n",
       "      <th></th>\n",
       "      <th>userId</th>\n",
       "      <th>movieId</th>\n",
       "      <th>tag</th>\n",
       "      <th>age</th>\n",
       "    </tr>\n",
       "  </thead>\n",
       "  <tbody>\n",
       "    <tr>\n",
       "      <th>0</th>\n",
       "      <td>18</td>\n",
       "      <td>4141</td>\n",
       "      <td>actor</td>\n",
       "      <td>15.0</td>\n",
       "    </tr>\n",
       "    <tr>\n",
       "      <th>1</th>\n",
       "      <td>65</td>\n",
       "      <td>208</td>\n",
       "      <td>dark hero</td>\n",
       "      <td>11.0</td>\n",
       "    </tr>\n",
       "  </tbody>\n",
       "</table>\n",
       "</div>"
      ],
      "text/plain": [
       "   userId  movieId        tag   age\n",
       "0      18     4141      actor  15.0\n",
       "1      65      208  dark hero  11.0"
      ]
     },
     "execution_count": 10,
     "metadata": {},
     "output_type": "execute_result"
    }
   ],
   "source": [
    "# Convert the 'timestamp' column to datetime format if it is not already in that format.\n",
    "df_tag['timestamp'] = pd.to_datetime(df_tag['timestamp'])\n",
    "\n",
    "# Calculate the age in years based on the difference between the current date and the 'timestamp'.\n",
    "# Convert the age from days to years and round to the nearest whole number.\n",
    "current_date = pd.Timestamp.now()\n",
    "df_tag['age'] = round((current_date - df_tag['timestamp']).dt.days / 365.25, 0)\n",
    "\n",
    "# Drop the 'timestamp' column from the DataFrame as it is no longer needed.\n",
    "df_tag = df_tag.drop(columns=['timestamp'])\n",
    "\n",
    "# Ensure the 'age' column values are rounded to the nearest whole number.\n",
    "df_tag['age'] = round(df_tag['age'], 0)\n",
    "\n",
    "# Display the first 2 rows of the updated DataFrame to check the changes.\n",
    "df_tag.head(2)\n"
   ]
  },
  {
   "cell_type": "markdown",
   "metadata": {},
   "source": [
    "##### Loading Movie DataFrame"
   ]
  },
  {
   "cell_type": "code",
   "execution_count": 11,
   "metadata": {},
   "outputs": [
    {
     "data": {
      "text/html": [
       "<div>\n",
       "<style scoped>\n",
       "    .dataframe tbody tr th:only-of-type {\n",
       "        vertical-align: middle;\n",
       "    }\n",
       "\n",
       "    .dataframe tbody tr th {\n",
       "        vertical-align: top;\n",
       "    }\n",
       "\n",
       "    .dataframe thead th {\n",
       "        text-align: right;\n",
       "    }\n",
       "</style>\n",
       "<table border=\"1\" class=\"dataframe\">\n",
       "  <thead>\n",
       "    <tr style=\"text-align: right;\">\n",
       "      <th></th>\n",
       "      <th>movieId</th>\n",
       "      <th>title</th>\n",
       "      <th>genres</th>\n",
       "    </tr>\n",
       "  </thead>\n",
       "  <tbody>\n",
       "    <tr>\n",
       "      <th>0</th>\n",
       "      <td>1</td>\n",
       "      <td>Toy Story (1995)</td>\n",
       "      <td>Adventure|Animation|Children|Comedy|Fantasy</td>\n",
       "    </tr>\n",
       "    <tr>\n",
       "      <th>1</th>\n",
       "      <td>2</td>\n",
       "      <td>Jumanji (1995)</td>\n",
       "      <td>Adventure|Children|Fantasy</td>\n",
       "    </tr>\n",
       "  </tbody>\n",
       "</table>\n",
       "</div>"
      ],
      "text/plain": [
       "   movieId             title                                       genres\n",
       "0        1  Toy Story (1995)  Adventure|Animation|Children|Comedy|Fantasy\n",
       "1        2    Jumanji (1995)                   Adventure|Children|Fantasy"
      ]
     },
     "execution_count": 11,
     "metadata": {},
     "output_type": "execute_result"
    }
   ],
   "source": [
    "# Load the dataset from 'movie.csv'\n",
    "df_movie = pd.read_csv('input_data\\\\movie.csv')\n",
    "\n",
    "# Display the first 2 rows\n",
    "df_movie.head(2)"
   ]
  },
  {
   "cell_type": "markdown",
   "metadata": {},
   "source": [
    "##### Splitting genres and Extracting title and year data for a easier use later on"
   ]
  },
  {
   "cell_type": "code",
   "execution_count": 12,
   "metadata": {},
   "outputs": [
    {
     "data": {
      "text/html": [
       "<div>\n",
       "<style scoped>\n",
       "    .dataframe tbody tr th:only-of-type {\n",
       "        vertical-align: middle;\n",
       "    }\n",
       "\n",
       "    .dataframe tbody tr th {\n",
       "        vertical-align: top;\n",
       "    }\n",
       "\n",
       "    .dataframe thead th {\n",
       "        text-align: right;\n",
       "    }\n",
       "</style>\n",
       "<table border=\"1\" class=\"dataframe\">\n",
       "  <thead>\n",
       "    <tr style=\"text-align: right;\">\n",
       "      <th></th>\n",
       "      <th>movieId</th>\n",
       "      <th>title</th>\n",
       "      <th>genres</th>\n",
       "      <th>year</th>\n",
       "    </tr>\n",
       "  </thead>\n",
       "  <tbody>\n",
       "    <tr>\n",
       "      <th>0</th>\n",
       "      <td>1</td>\n",
       "      <td>Toy Story</td>\n",
       "      <td>Adventure Animation Children Comedy Fantasy</td>\n",
       "      <td>1995</td>\n",
       "    </tr>\n",
       "    <tr>\n",
       "      <th>1</th>\n",
       "      <td>2</td>\n",
       "      <td>Jumanji</td>\n",
       "      <td>Adventure Children Fantasy</td>\n",
       "      <td>1995</td>\n",
       "    </tr>\n",
       "  </tbody>\n",
       "</table>\n",
       "</div>"
      ],
      "text/plain": [
       "   movieId      title                                       genres  year\n",
       "0        1  Toy Story  Adventure Animation Children Comedy Fantasy  1995\n",
       "1        2    Jumanji                   Adventure Children Fantasy  1995"
      ]
     },
     "execution_count": 12,
     "metadata": {},
     "output_type": "execute_result"
    }
   ],
   "source": [
    "# Split the 'genres' column values by '|' and join them with a space to form a single string of genres.\n",
    "df_movie['genres'] = df_movie['genres'].str.split('|').str.join(' ')\n",
    "\n",
    "# Extract the movie title and year from the 'title' column.\n",
    "# The regex pattern captures the title and the year (in parentheses) into separate columns.\n",
    "df_movie[['title', 'year']] = df_movie['title'].str.extract(r'^(.*)\\s\\((\\d{4})\\)$')\n",
    "\n",
    "# Display the first 2 rows of the updated DataFrame to check the changes.\n",
    "df_movie.head(2)\n"
   ]
  },
  {
   "cell_type": "markdown",
   "metadata": {},
   "source": [
    "##### Dropping a few NaN in titles, and transforming date in age to later create youth_rate for movies"
   ]
  },
  {
   "cell_type": "code",
   "execution_count": 13,
   "metadata": {},
   "outputs": [
    {
     "data": {
      "text/html": [
       "<div>\n",
       "<style scoped>\n",
       "    .dataframe tbody tr th:only-of-type {\n",
       "        vertical-align: middle;\n",
       "    }\n",
       "\n",
       "    .dataframe tbody tr th {\n",
       "        vertical-align: top;\n",
       "    }\n",
       "\n",
       "    .dataframe thead th {\n",
       "        text-align: right;\n",
       "    }\n",
       "</style>\n",
       "<table border=\"1\" class=\"dataframe\">\n",
       "  <thead>\n",
       "    <tr style=\"text-align: right;\">\n",
       "      <th></th>\n",
       "      <th>movieId</th>\n",
       "      <th>title</th>\n",
       "      <th>genres</th>\n",
       "      <th>age_movie</th>\n",
       "    </tr>\n",
       "  </thead>\n",
       "  <tbody>\n",
       "    <tr>\n",
       "      <th>0</th>\n",
       "      <td>1</td>\n",
       "      <td>Toy Story</td>\n",
       "      <td>Adventure Animation Children Comedy Fantasy</td>\n",
       "      <td>21</td>\n",
       "    </tr>\n",
       "    <tr>\n",
       "      <th>1</th>\n",
       "      <td>2</td>\n",
       "      <td>Jumanji</td>\n",
       "      <td>Adventure Children Fantasy</td>\n",
       "      <td>21</td>\n",
       "    </tr>\n",
       "  </tbody>\n",
       "</table>\n",
       "</div>"
      ],
      "text/plain": [
       "   movieId      title                                       genres  age_movie\n",
       "0        1  Toy Story  Adventure Animation Children Comedy Fantasy         21\n",
       "1        2    Jumanji                   Adventure Children Fantasy         21"
      ]
     },
     "execution_count": 13,
     "metadata": {},
     "output_type": "execute_result"
    }
   ],
   "source": [
    "# Remove rows with missing values in the 'title' column (55 rows in total).\n",
    "df_movie = df_movie.dropna(subset=['title'])\n",
    "\n",
    "# Convert the 'year' column to integer data type.\n",
    "df_movie['year'] = df_movie['year'].astype(int)\n",
    "\n",
    "# Create a new column 'age_movie' by calculating the age of the movie based on the current year (2016).\n",
    "df_movie['age_movie'] = 2016 - df_movie['year']\n",
    "\n",
    "# Drop the 'year' column from the DataFrame as it is no longer needed.\n",
    "df_movie = df_movie.drop(columns=['year'])\n",
    "\n",
    "# Display the first 2 rows\n",
    "df_movie.head(2)\n"
   ]
  },
  {
   "cell_type": "markdown",
   "metadata": {},
   "source": [
    "##### Merging tag related DataFrame with movie related DataFrame"
   ]
  },
  {
   "cell_type": "code",
   "execution_count": 14,
   "metadata": {},
   "outputs": [
    {
     "data": {
      "text/html": [
       "<div>\n",
       "<style scoped>\n",
       "    .dataframe tbody tr th:only-of-type {\n",
       "        vertical-align: middle;\n",
       "    }\n",
       "\n",
       "    .dataframe tbody tr th {\n",
       "        vertical-align: top;\n",
       "    }\n",
       "\n",
       "    .dataframe thead th {\n",
       "        text-align: right;\n",
       "    }\n",
       "</style>\n",
       "<table border=\"1\" class=\"dataframe\">\n",
       "  <thead>\n",
       "    <tr style=\"text-align: right;\">\n",
       "      <th></th>\n",
       "      <th>userId</th>\n",
       "      <th>movieId</th>\n",
       "      <th>tag</th>\n",
       "      <th>age</th>\n",
       "      <th>title</th>\n",
       "      <th>genres</th>\n",
       "      <th>age_movie</th>\n",
       "    </tr>\n",
       "  </thead>\n",
       "  <tbody>\n",
       "    <tr>\n",
       "      <th>0</th>\n",
       "      <td>18</td>\n",
       "      <td>4141</td>\n",
       "      <td>actor</td>\n",
       "      <td>15.0</td>\n",
       "      <td>Head Over Heels</td>\n",
       "      <td>Comedy Romance</td>\n",
       "      <td>15.0</td>\n",
       "    </tr>\n",
       "    <tr>\n",
       "      <th>1</th>\n",
       "      <td>65</td>\n",
       "      <td>208</td>\n",
       "      <td>dark hero</td>\n",
       "      <td>11.0</td>\n",
       "      <td>Waterworld</td>\n",
       "      <td>Action Adventure Sci-Fi</td>\n",
       "      <td>21.0</td>\n",
       "    </tr>\n",
       "  </tbody>\n",
       "</table>\n",
       "</div>"
      ],
      "text/plain": [
       "   userId  movieId        tag   age            title                   genres  \\\n",
       "0      18     4141      actor  15.0  Head Over Heels           Comedy Romance   \n",
       "1      65      208  dark hero  11.0       Waterworld  Action Adventure Sci-Fi   \n",
       "\n",
       "   age_movie  \n",
       "0       15.0  \n",
       "1       21.0  "
      ]
     },
     "execution_count": 14,
     "metadata": {},
     "output_type": "execute_result"
    }
   ],
   "source": [
    "# Merge the 'df_tag' DataFrame with 'df_movie' on the 'movieId' column using a left join.\n",
    "# This combines movie details such as title and genres with the tag information.\n",
    "df_tag_title_genres = df_tag.merge(df_movie, on='movieId', how='left')\n",
    "\n",
    "# Display the first 2 rows\n",
    "df_tag_title_genres.head(2)"
   ]
  },
  {
   "cell_type": "code",
   "execution_count": 15,
   "metadata": {},
   "outputs": [
    {
     "data": {
      "text/plain": [
       "(465548, 7)"
      ]
     },
     "execution_count": 15,
     "metadata": {},
     "output_type": "execute_result"
    }
   ],
   "source": [
    "# Retrieve the dimensions of the 'df_tag_title_genres' DataFrame\n",
    "df_tag_title_genres.shape"
   ]
  },
  {
   "cell_type": "code",
   "execution_count": 16,
   "metadata": {},
   "outputs": [],
   "source": [
    "# Convert the 'title' and 'genres' columns to string data type.\n",
    "df_tag_title_genres['title'] = df_tag_title_genres['title'].astype(str)\n",
    "df_tag_title_genres['genres'] = df_tag_title_genres['genres'].astype(str)"
   ]
  },
  {
   "cell_type": "markdown",
   "metadata": {},
   "source": [
    "##### Loading the pre-trained model word2vec to vectorize tags, titles, and genres"
   ]
  },
  {
   "cell_type": "code",
   "execution_count": 17,
   "metadata": {},
   "outputs": [
    {
     "name": "stderr",
     "output_type": "stream",
     "text": [
      "[nltk_data] Downloading package punkt to\n",
      "[nltk_data]     C:\\Users\\jcrig\\AppData\\Roaming\\nltk_data...\n",
      "[nltk_data]   Package punkt is already up-to-date!\n",
      "[nltk_data] Downloading package stopwords to\n",
      "[nltk_data]     C:\\Users\\jcrig\\AppData\\Roaming\\nltk_data...\n",
      "[nltk_data]   Package stopwords is already up-to-date!\n",
      "[nltk_data] Downloading package word2vec_sample to\n",
      "[nltk_data]     C:\\Users\\jcrig\\AppData\\Roaming\\nltk_data...\n",
      "[nltk_data]   Package word2vec_sample is already up-to-date!\n"
     ]
    }
   ],
   "source": [
    "# Importing necessary libraries\n",
    "import nltk\n",
    "from nltk.data import find\n",
    "import gensim\n",
    "\n",
    "# Downloading required NLTK resources\n",
    "nltk.download('punkt')  # Downloading tokenizers for NLTK\n",
    "nltk.download('stopwords')\n",
    "nltk.download('word2vec_sample')  # Downloading the word2vec sample model\n",
    "\n",
    "# Finding the path of the pre-trained word2vec model\n",
    "word2vec_sample = str(find('models/word2vec_sample/pruned.word2vec.txt'))\n",
    "\n",
    "# Loading the pre-trained word2vec model using Gensim\n",
    "model = gensim.models.KeyedVectors.load_word2vec_format(word2vec_sample, binary=False)"
   ]
  },
  {
   "cell_type": "code",
   "execution_count": 18,
   "metadata": {},
   "outputs": [
    {
     "data": {
      "text/plain": [
       "0.79300094"
      ]
     },
     "execution_count": 18,
     "metadata": {},
     "output_type": "execute_result"
    }
   ],
   "source": [
    "# Model test\n",
    "model.similarity('actor','actress')"
   ]
  },
  {
   "cell_type": "markdown",
   "metadata": {},
   "source": [
    "##### Cleaning text, tokenizing, lower case, punctuation, symboles, stopwords..."
   ]
  },
  {
   "cell_type": "code",
   "execution_count": 19,
   "metadata": {},
   "outputs": [
    {
     "name": "stderr",
     "output_type": "stream",
     "text": [
      "[nltk_data] Downloading package stopwords to\n",
      "[nltk_data]     C:\\Users\\jcrig\\AppData\\Roaming\\nltk_data...\n",
      "[nltk_data]   Package stopwords is already up-to-date!\n",
      "[nltk_data] Downloading package punkt to\n",
      "[nltk_data]     C:\\Users\\jcrig\\AppData\\Roaming\\nltk_data...\n",
      "[nltk_data]   Package punkt is already up-to-date!\n"
     ]
    }
   ],
   "source": [
    "from nltk.corpus import stopwords\n",
    "from nltk.tokenize import word_tokenize\n",
    "\n",
    "# Ensure the 'stopwords' and 'punkt' datasets are downloaded for stopword removal and tokenization.\n",
    "nltk.download('stopwords')\n",
    "nltk.download('punkt')\n",
    "\n",
    "# Load English stopwords into a set.\n",
    "stop_words = set(stopwords.words('english'))\n",
    "\n",
    "# Function to remove stopwords from a text:\n",
    "# - Tokenize the text into words.\n",
    "# - Filter out stopwords and non-alphabetic tokens.\n",
    "# - Join the filtered words back into a single string.\n",
    "def remove_stopwords(text):\n",
    "    words = word_tokenize(text.lower())\n",
    "    filtered_words = [word for word in words if word not in stop_words and word.isalpha()]\n",
    "    return ' '.join(filtered_words)\n",
    "\n",
    "# Apply the 'remove_stopwords' function to the 'title' and 'tag' columns.\n",
    "df_tag_title_genres['title'] = df_tag_title_genres['title'].apply(remove_stopwords)\n",
    "df_tag_title_genres['tag'] = df_tag_title_genres['tag'].apply(remove_stopwords)\n"
   ]
  },
  {
   "cell_type": "markdown",
   "metadata": {},
   "source": [
    "##### Replacing genres words that the model doesn't understand with words the model knows and is able to embed\n",
    "\n",
    "The library does not kwow words like Sci-Fi, filmnoir. We map them to a model understandable language"
   ]
  },
  {
   "cell_type": "code",
   "execution_count": 20,
   "metadata": {},
   "outputs": [],
   "source": [
    "# Dictionary for mapping and replacing specific genre terms with more descriptive terms.\n",
    "mapping_dict = {\n",
    "    'scifi': 'future',\n",
    "    'thriller': 'suspense',\n",
    "    'filmnoir': 'cynical',\n",
    "    'musical': 'singing',\n",
    "    'western': 'cowboy'\n",
    "}\n",
    "\n",
    "# Replace the terms in the 'genres' column based on the mapping dictionary.\n",
    "# Iterate through the dictionary and apply the replacements using regex.\n",
    "for key, value in mapping_dict.items():\n",
    "    df_tag_title_genres['genres'] = df_tag_title_genres['genres'].str.replace(key, value, regex=True)"
   ]
  },
  {
   "cell_type": "markdown",
   "metadata": {},
   "source": [
    "### Vectorizing the tags, titles and genres into 300 array list vectors"
   ]
  },
  {
   "cell_type": "code",
   "execution_count": 21,
   "metadata": {},
   "outputs": [
    {
     "name": "stderr",
     "output_type": "stream",
     "text": [
      "c:\\Users\\jcrig\\mlops\\venv_mlops\\Lib\\site-packages\\numpy\\core\\fromnumeric.py:3504: RuntimeWarning: Mean of empty slice.\n",
      "  return _methods._mean(a, axis=axis, dtype=dtype,\n",
      "c:\\Users\\jcrig\\mlops\\venv_mlops\\Lib\\site-packages\\numpy\\core\\_methods.py:129: RuntimeWarning: invalid value encountered in scalar divide\n",
      "  ret = ret.dtype.type(ret / rcount)\n",
      "c:\\Users\\jcrig\\mlops\\venv_mlops\\Lib\\site-packages\\numpy\\core\\fromnumeric.py:3504: RuntimeWarning: Mean of empty slice.\n",
      "  return _methods._mean(a, axis=axis, dtype=dtype,\n",
      "c:\\Users\\jcrig\\mlops\\venv_mlops\\Lib\\site-packages\\numpy\\core\\_methods.py:129: RuntimeWarning: invalid value encountered in scalar divide\n",
      "  ret = ret.dtype.type(ret / rcount)\n"
     ]
    },
    {
     "data": {
      "text/html": [
       "<div>\n",
       "<style scoped>\n",
       "    .dataframe tbody tr th:only-of-type {\n",
       "        vertical-align: middle;\n",
       "    }\n",
       "\n",
       "    .dataframe tbody tr th {\n",
       "        vertical-align: top;\n",
       "    }\n",
       "\n",
       "    .dataframe thead th {\n",
       "        text-align: right;\n",
       "    }\n",
       "</style>\n",
       "<table border=\"1\" class=\"dataframe\">\n",
       "  <thead>\n",
       "    <tr style=\"text-align: right;\">\n",
       "      <th></th>\n",
       "      <th>userId</th>\n",
       "      <th>movieId</th>\n",
       "      <th>tag</th>\n",
       "      <th>age</th>\n",
       "      <th>title</th>\n",
       "      <th>genres</th>\n",
       "      <th>age_movie</th>\n",
       "      <th>tag_vector</th>\n",
       "      <th>title_vector</th>\n",
       "      <th>genres_vector</th>\n",
       "    </tr>\n",
       "  </thead>\n",
       "  <tbody>\n",
       "    <tr>\n",
       "      <th>0</th>\n",
       "      <td>18</td>\n",
       "      <td>4141</td>\n",
       "      <td>actor</td>\n",
       "      <td>15.0</td>\n",
       "      <td>head heels</td>\n",
       "      <td>Comedy Romance</td>\n",
       "      <td>15.0</td>\n",
       "      <td>[0.0536976, -0.0352089, -0.0556269, 0.0234726,...</td>\n",
       "      <td>[-0.04193265, -0.02813775, 0.05097, -0.0277740...</td>\n",
       "      <td>NaN</td>\n",
       "    </tr>\n",
       "    <tr>\n",
       "      <th>1</th>\n",
       "      <td>65</td>\n",
       "      <td>208</td>\n",
       "      <td>dark hero</td>\n",
       "      <td>11.0</td>\n",
       "      <td>waterworld</td>\n",
       "      <td>Action Adventure Sci-Fi</td>\n",
       "      <td>21.0</td>\n",
       "      <td>[0.0864176, 0.055227548, 0.06579455, -0.010537...</td>\n",
       "      <td>NaN</td>\n",
       "      <td>NaN</td>\n",
       "    </tr>\n",
       "  </tbody>\n",
       "</table>\n",
       "</div>"
      ],
      "text/plain": [
       "   userId  movieId        tag   age       title                   genres  \\\n",
       "0      18     4141      actor  15.0  head heels           Comedy Romance   \n",
       "1      65      208  dark hero  11.0  waterworld  Action Adventure Sci-Fi   \n",
       "\n",
       "   age_movie                                         tag_vector  \\\n",
       "0       15.0  [0.0536976, -0.0352089, -0.0556269, 0.0234726,...   \n",
       "1       21.0  [0.0864176, 0.055227548, 0.06579455, -0.010537...   \n",
       "\n",
       "                                        title_vector genres_vector  \n",
       "0  [-0.04193265, -0.02813775, 0.05097, -0.0277740...           NaN  \n",
       "1                                                NaN           NaN  "
      ]
     },
     "execution_count": 21,
     "metadata": {},
     "output_type": "execute_result"
    }
   ],
   "source": [
    "# Function to vectorize words in a tag using a given word embedding model.\n",
    "# - For each word in the tag, retrieve its vector from the model.\n",
    "# - If a word is not recognized, return NaN.\n",
    "# - Calculate the mean vector for the tag by averaging the vectors of all words.\n",
    "def vectorize_tag(tag, model):\n",
    "    vectors = []\n",
    "    for word in tag.split():\n",
    "        if word in model:\n",
    "            vectors.append(model[word])\n",
    "        else:\n",
    "            return np.nan  # Return NaN if any word is not recognized\n",
    "    return np.mean(vectors, axis=0)  # Average vectors for the tag\n",
    "\n",
    "# Apply the 'vectorize_tag' function to 'tag', 'title', and 'genres' columns.\n",
    "# This creates vector representations for each tag, title, and genre using the embedding model.\n",
    "df_tag_title_genres['tag_vector'] = df_tag_title_genres['tag'].apply(lambda x: vectorize_tag(x, model))\n",
    "df_tag_title_genres['title_vector'] = df_tag_title_genres['title'].apply(lambda x: vectorize_tag(x, model))\n",
    "df_tag_title_genres['genres_vector'] = df_tag_title_genres['genres'].apply(lambda x: vectorize_tag(x, model))\n",
    "\n",
    "# Display the first 2 rows\n",
    "df_tag_title_genres.head(2)\n"
   ]
  },
  {
   "cell_type": "markdown",
   "metadata": {},
   "source": [
    "#### Replacing NaN with numpy array 300 list of zeros to have all the same dtype in the cells\n"
   ]
  },
  {
   "cell_type": "code",
   "execution_count": 34,
   "metadata": {},
   "outputs": [
    {
     "data": {
      "text/html": [
       "<div>\n",
       "<style scoped>\n",
       "    .dataframe tbody tr th:only-of-type {\n",
       "        vertical-align: middle;\n",
       "    }\n",
       "\n",
       "    .dataframe tbody tr th {\n",
       "        vertical-align: top;\n",
       "    }\n",
       "\n",
       "    .dataframe thead th {\n",
       "        text-align: right;\n",
       "    }\n",
       "</style>\n",
       "<table border=\"1\" class=\"dataframe\">\n",
       "  <thead>\n",
       "    <tr style=\"text-align: right;\">\n",
       "      <th></th>\n",
       "      <th>userId</th>\n",
       "      <th>movieId</th>\n",
       "      <th>tag</th>\n",
       "      <th>age</th>\n",
       "      <th>title</th>\n",
       "      <th>genres</th>\n",
       "      <th>age_movie</th>\n",
       "      <th>tag_vector</th>\n",
       "      <th>title_vector</th>\n",
       "      <th>genres_vector</th>\n",
       "      <th>user_movie_vector</th>\n",
       "    </tr>\n",
       "  </thead>\n",
       "  <tbody>\n",
       "    <tr>\n",
       "      <th>0</th>\n",
       "      <td>18</td>\n",
       "      <td>4141</td>\n",
       "      <td>actor</td>\n",
       "      <td>15.0</td>\n",
       "      <td>head heels</td>\n",
       "      <td>Comedy Romance</td>\n",
       "      <td>15.0</td>\n",
       "      <td>[0.0536976, -0.0352089, -0.0556269, 0.0234726,...</td>\n",
       "      <td>[-0.04193265, -0.02813775, 0.05097, -0.0277740...</td>\n",
       "      <td>[0.0, 0.0, 0.0, 0.0, 0.0, 0.0, 0.0, 0.0, 0.0, ...</td>\n",
       "      <td>[0.0039216503500938416, -0.02111555015047391, ...</td>\n",
       "    </tr>\n",
       "    <tr>\n",
       "      <th>1</th>\n",
       "      <td>65</td>\n",
       "      <td>208</td>\n",
       "      <td>dark hero</td>\n",
       "      <td>11.0</td>\n",
       "      <td>waterworld</td>\n",
       "      <td>Action Adventure Sci-Fi</td>\n",
       "      <td>21.0</td>\n",
       "      <td>[0.0864176, 0.055227548, 0.06579455, -0.010537...</td>\n",
       "      <td>[0.0, 0.0, 0.0, 0.0, 0.0, 0.0, 0.0, 0.0, 0.0, ...</td>\n",
       "      <td>[0.0, 0.0, 0.0, 0.0, 0.0, 0.0, 0.0, 0.0, 0.0, ...</td>\n",
       "      <td>[0.028805866837501526, 0.018409182627995808, 0...</td>\n",
       "    </tr>\n",
       "  </tbody>\n",
       "</table>\n",
       "</div>"
      ],
      "text/plain": [
       "   userId  movieId        tag   age       title                   genres  \\\n",
       "0      18     4141      actor  15.0  head heels           Comedy Romance   \n",
       "1      65      208  dark hero  11.0  waterworld  Action Adventure Sci-Fi   \n",
       "\n",
       "   age_movie                                         tag_vector  \\\n",
       "0       15.0  [0.0536976, -0.0352089, -0.0556269, 0.0234726,...   \n",
       "1       21.0  [0.0864176, 0.055227548, 0.06579455, -0.010537...   \n",
       "\n",
       "                                        title_vector  \\\n",
       "0  [-0.04193265, -0.02813775, 0.05097, -0.0277740...   \n",
       "1  [0.0, 0.0, 0.0, 0.0, 0.0, 0.0, 0.0, 0.0, 0.0, ...   \n",
       "\n",
       "                                       genres_vector  \\\n",
       "0  [0.0, 0.0, 0.0, 0.0, 0.0, 0.0, 0.0, 0.0, 0.0, ...   \n",
       "1  [0.0, 0.0, 0.0, 0.0, 0.0, 0.0, 0.0, 0.0, 0.0, ...   \n",
       "\n",
       "                                   user_movie_vector  \n",
       "0  [0.0039216503500938416, -0.02111555015047391, ...  \n",
       "1  [0.028805866837501526, 0.018409182627995808, 0...  "
      ]
     },
     "execution_count": 34,
     "metadata": {},
     "output_type": "execute_result"
    }
   ],
   "source": [
    "# Create a zero vector with 300 elements to use as a replacement for NaN values.\n",
    "zero_vector = np.zeros(300)\n",
    "\n",
    "# Replace NaN values with the zero vector in the 'tag_vector', 'title_vector', and 'genres_vector' columns.\n",
    "# Use lambda functions to check if the value is NaN and substitute it with the zero vector.\n",
    "df_tag_title_genres['tag_vector'] = df_tag_title_genres['tag_vector'].apply(lambda x: zero_vector if isinstance(x, float) and np.isnan(x) else x)\n",
    "df_tag_title_genres['title_vector'] = df_tag_title_genres['title_vector'].apply(lambda x: zero_vector if isinstance(x, float) and np.isnan(x) else x)\n",
    "df_tag_title_genres['genres_vector'] = df_tag_title_genres['genres_vector'].apply(lambda x: zero_vector if isinstance(x, float) and np.isnan(x) else x)\n",
    "\n",
    "# Display the first 3 rows\n",
    "df_tag_title_genres.head(2)\n"
   ]
  },
  {
   "cell_type": "markdown",
   "metadata": {},
   "source": [
    "##### Calculating one average vector/user/movie based on the 3 vectors (tag, title and genres)"
   ]
  },
  {
   "cell_type": "code",
   "execution_count": 37,
   "metadata": {},
   "outputs": [
    {
     "data": {
      "text/html": [
       "<div>\n",
       "<style scoped>\n",
       "    .dataframe tbody tr th:only-of-type {\n",
       "        vertical-align: middle;\n",
       "    }\n",
       "\n",
       "    .dataframe tbody tr th {\n",
       "        vertical-align: top;\n",
       "    }\n",
       "\n",
       "    .dataframe thead th {\n",
       "        text-align: right;\n",
       "    }\n",
       "</style>\n",
       "<table border=\"1\" class=\"dataframe\">\n",
       "  <thead>\n",
       "    <tr style=\"text-align: right;\">\n",
       "      <th></th>\n",
       "      <th>userId</th>\n",
       "      <th>movieId</th>\n",
       "      <th>tag</th>\n",
       "      <th>age</th>\n",
       "      <th>title</th>\n",
       "      <th>genres</th>\n",
       "      <th>age_movie</th>\n",
       "      <th>tag_vector</th>\n",
       "      <th>title_vector</th>\n",
       "      <th>genres_vector</th>\n",
       "      <th>user_movie_vector</th>\n",
       "    </tr>\n",
       "  </thead>\n",
       "  <tbody>\n",
       "    <tr>\n",
       "      <th>0</th>\n",
       "      <td>18</td>\n",
       "      <td>4141</td>\n",
       "      <td>actor</td>\n",
       "      <td>15.0</td>\n",
       "      <td>head heels</td>\n",
       "      <td>Comedy Romance</td>\n",
       "      <td>15.0</td>\n",
       "      <td>[0.0536976, -0.0352089, -0.0556269, 0.0234726,...</td>\n",
       "      <td>[-0.04193265, -0.02813775, 0.05097, -0.0277740...</td>\n",
       "      <td>[0.0, 0.0, 0.0, 0.0, 0.0, 0.0, 0.0, 0.0, 0.0, ...</td>\n",
       "      <td>[0.0039216503500938416, -0.02111555015047391, ...</td>\n",
       "    </tr>\n",
       "    <tr>\n",
       "      <th>1</th>\n",
       "      <td>65</td>\n",
       "      <td>208</td>\n",
       "      <td>dark hero</td>\n",
       "      <td>11.0</td>\n",
       "      <td>waterworld</td>\n",
       "      <td>Action Adventure Sci-Fi</td>\n",
       "      <td>21.0</td>\n",
       "      <td>[0.0864176, 0.055227548, 0.06579455, -0.010537...</td>\n",
       "      <td>[0.0, 0.0, 0.0, 0.0, 0.0, 0.0, 0.0, 0.0, 0.0, ...</td>\n",
       "      <td>[0.0, 0.0, 0.0, 0.0, 0.0, 0.0, 0.0, 0.0, 0.0, ...</td>\n",
       "      <td>[0.028805866837501526, 0.018409182627995808, 0...</td>\n",
       "    </tr>\n",
       "  </tbody>\n",
       "</table>\n",
       "</div>"
      ],
      "text/plain": [
       "   userId  movieId        tag   age       title                   genres  \\\n",
       "0      18     4141      actor  15.0  head heels           Comedy Romance   \n",
       "1      65      208  dark hero  11.0  waterworld  Action Adventure Sci-Fi   \n",
       "\n",
       "   age_movie                                         tag_vector  \\\n",
       "0       15.0  [0.0536976, -0.0352089, -0.0556269, 0.0234726,...   \n",
       "1       21.0  [0.0864176, 0.055227548, 0.06579455, -0.010537...   \n",
       "\n",
       "                                        title_vector  \\\n",
       "0  [-0.04193265, -0.02813775, 0.05097, -0.0277740...   \n",
       "1  [0.0, 0.0, 0.0, 0.0, 0.0, 0.0, 0.0, 0.0, 0.0, ...   \n",
       "\n",
       "                                       genres_vector  \\\n",
       "0  [0.0, 0.0, 0.0, 0.0, 0.0, 0.0, 0.0, 0.0, 0.0, ...   \n",
       "1  [0.0, 0.0, 0.0, 0.0, 0.0, 0.0, 0.0, 0.0, 0.0, ...   \n",
       "\n",
       "                                   user_movie_vector  \n",
       "0  [0.0039216503500938416, -0.02111555015047391, ...  \n",
       "1  [0.028805866837501526, 0.018409182627995808, 0...  "
      ]
     },
     "execution_count": 37,
     "metadata": {},
     "output_type": "execute_result"
    }
   ],
   "source": [
    "# Function to calculate the average vector from 'tag_vector', 'title_vector', and 'genres_vector'.\n",
    "# It creates an array of these vectors and computes their mean.\n",
    "def calculate_average_vector(row):\n",
    "    vectors = np.array([row['tag_vector'], row['title_vector'], row['genres_vector']])\n",
    "    return np.mean(vectors, axis=0)\n",
    "\n",
    "# Apply the 'calculate_average_vector' function to each row of the DataFrame.\n",
    "# This calculates the average vector and adds it as a new column 'user_movie_vector'.\n",
    "df_tag_title_genres['user_movie_vector'] = df_tag_title_genres.apply(calculate_average_vector, axis=1)\n",
    "\n",
    "# Display the first 2 rows\n",
    "df_tag_title_genres.head(2)\n"
   ]
  },
  {
   "cell_type": "markdown",
   "metadata": {},
   "source": [
    "##### Calculating the average user_vector with groupby user_id to get only one vector/user"
   ]
  },
  {
   "cell_type": "code",
   "execution_count": 40,
   "metadata": {},
   "outputs": [],
   "source": [
    "# Group the DataFrame by 'userId' and compute the mean for each numeric column.\n",
    "df_grouped = df_tag_title_genres.groupby('userId').mean(numeric_only=True)\n"
   ]
  },
  {
   "cell_type": "code",
   "execution_count": 41,
   "metadata": {},
   "outputs": [
    {
     "data": {
      "text/html": [
       "<div>\n",
       "<style scoped>\n",
       "    .dataframe tbody tr th:only-of-type {\n",
       "        vertical-align: middle;\n",
       "    }\n",
       "\n",
       "    .dataframe tbody tr th {\n",
       "        vertical-align: top;\n",
       "    }\n",
       "\n",
       "    .dataframe thead th {\n",
       "        text-align: right;\n",
       "    }\n",
       "</style>\n",
       "<table border=\"1\" class=\"dataframe\">\n",
       "  <thead>\n",
       "    <tr style=\"text-align: right;\">\n",
       "      <th></th>\n",
       "      <th>movieId</th>\n",
       "      <th>age</th>\n",
       "      <th>age_movie</th>\n",
       "    </tr>\n",
       "    <tr>\n",
       "      <th>userId</th>\n",
       "      <th></th>\n",
       "      <th></th>\n",
       "      <th></th>\n",
       "    </tr>\n",
       "  </thead>\n",
       "  <tbody>\n",
       "    <tr>\n",
       "      <th>18</th>\n",
       "      <td>4141.000000</td>\n",
       "      <td>15.000000</td>\n",
       "      <td>15.000000</td>\n",
       "    </tr>\n",
       "    <tr>\n",
       "      <th>65</th>\n",
       "      <td>15211.058824</td>\n",
       "      <td>11.470588</td>\n",
       "      <td>24.088235</td>\n",
       "    </tr>\n",
       "  </tbody>\n",
       "</table>\n",
       "</div>"
      ],
      "text/plain": [
       "             movieId        age  age_movie\n",
       "userId                                    \n",
       "18       4141.000000  15.000000  15.000000\n",
       "65      15211.058824  11.470588  24.088235"
      ]
     },
     "execution_count": 41,
     "metadata": {},
     "output_type": "execute_result"
    }
   ],
   "source": [
    "\n",
    "# Display the first 2 rows\n",
    "df_grouped.head(2)"
   ]
  },
  {
   "cell_type": "code",
   "execution_count": 25,
   "metadata": {},
   "outputs": [
    {
     "data": {
      "text/plain": [
       "(7801, 3)"
      ]
     },
     "execution_count": 25,
     "metadata": {},
     "output_type": "execute_result"
    }
   ],
   "source": [
    "# Retrieve the dimensions of the grouped DataFrame to show the number of rows and columns.\n",
    "df_grouped.shape\n"
   ]
  },
  {
   "cell_type": "markdown",
   "metadata": {},
   "source": [
    "##### Grouping the 300 vectors into a list again"
   ]
  },
  {
   "cell_type": "code",
   "execution_count": null,
   "metadata": {},
   "outputs": [],
   "source": [
    "# Combine columns 'user_movie_vector_0' to 'user_movie_vector_299' into a single 'user_movie_vector' column,\n",
    "# where each entry is a list of 300 vector elements.\n",
    "df_grouped['user_movie_vector'] = df_grouped[[f'user_movie_vector_{i}' for i in range(300)]].apply(lambda row: row.values.tolist(), axis=1)\n",
    "\n",
    "# Drop the individual vector columns 'user_movie_vector_0' to 'user_movie_vector_299' as they are now combined.\n",
    "df_grouped.drop([f'user_movie_vector_{i}' for i in range(300)], axis=1, inplace=True)\n",
    "df_grouped.drop([f'tag_vector_{i}' for i in range(300)], axis=1, inplace=True)\n",
    "df_grouped.drop([f'title_vector_{i}' for i in range(300)], axis=1, inplace=True)\n",
    "df_grouped.drop([f'genres_vector_{i}' for i in range(300)], axis=1, inplace=True)\n",
    "\n",
    "# Drop the 'movieId' column as it is no longer needed.\n",
    "df_grouped.drop(['movieId'], axis=1, inplace=True)\n",
    "\n",
    "# Display the first 2 rows\n",
    "df_grouped.head(2)"
   ]
  },
  {
   "cell_type": "markdown",
   "metadata": {},
   "source": [
    "##### Renaming the columns"
   ]
  },
  {
   "cell_type": "code",
   "execution_count": null,
   "metadata": {},
   "outputs": [],
   "source": [
    "# Rename columns in 'df_grouped' for clarity:\n",
    "df_grouped.rename(columns={\n",
    "    'age': 'tag_mean_age',\n",
    "    'age_movie': 'movie_mean_age',\n",
    "    'user_movie_vector': 'user_vector'\n",
    "}, inplace=True)"
   ]
  },
  {
   "cell_type": "markdown",
   "metadata": {},
   "source": [
    "# Vectorizing movies"
   ]
  },
  {
   "cell_type": "code",
   "execution_count": 61,
   "metadata": {},
   "outputs": [],
   "source": [
    "# Load the CSV file into a DataFrame\n",
    "df = pd.read_csv('input_data\\\\tag.csv')"
   ]
  },
  {
   "cell_type": "code",
   "execution_count": 62,
   "metadata": {},
   "outputs": [
    {
     "data": {
      "text/html": [
       "<div>\n",
       "<style scoped>\n",
       "    .dataframe tbody tr th:only-of-type {\n",
       "        vertical-align: middle;\n",
       "    }\n",
       "\n",
       "    .dataframe tbody tr th {\n",
       "        vertical-align: top;\n",
       "    }\n",
       "\n",
       "    .dataframe thead th {\n",
       "        text-align: right;\n",
       "    }\n",
       "</style>\n",
       "<table border=\"1\" class=\"dataframe\">\n",
       "  <thead>\n",
       "    <tr style=\"text-align: right;\">\n",
       "      <th></th>\n",
       "      <th>userId</th>\n",
       "      <th>movieId</th>\n",
       "      <th>tag</th>\n",
       "    </tr>\n",
       "  </thead>\n",
       "  <tbody>\n",
       "    <tr>\n",
       "      <th>0</th>\n",
       "      <td>18</td>\n",
       "      <td>4141</td>\n",
       "      <td>Mark Waters</td>\n",
       "    </tr>\n",
       "    <tr>\n",
       "      <th>1</th>\n",
       "      <td>65</td>\n",
       "      <td>208</td>\n",
       "      <td>dark hero</td>\n",
       "    </tr>\n",
       "  </tbody>\n",
       "</table>\n",
       "</div>"
      ],
      "text/plain": [
       "   userId  movieId          tag\n",
       "0      18     4141  Mark Waters\n",
       "1      65      208    dark hero"
      ]
     },
     "execution_count": 62,
     "metadata": {},
     "output_type": "execute_result"
    }
   ],
   "source": [
    "# Drop the 'timestamp' column\n",
    "df.drop('timestamp', axis=1, inplace=True)\n",
    "df.head(2)"
   ]
  },
  {
   "cell_type": "code",
   "execution_count": 65,
   "metadata": {},
   "outputs": [
    {
     "data": {
      "text/plain": [
       "userId     0\n",
       "movieId    0\n",
       "tag        0\n",
       "dtype: int64"
      ]
     },
     "execution_count": 65,
     "metadata": {},
     "output_type": "execute_result"
    }
   ],
   "source": [
    " # Searching for NaN\n",
    "df.isna().sum()"
   ]
  },
  {
   "cell_type": "code",
   "execution_count": 64,
   "metadata": {},
   "outputs": [],
   "source": [
    "# Drop rows with NaN\n",
    "df.dropna(axis=0, inplace=True)"
   ]
  },
  {
   "cell_type": "code",
   "execution_count": 66,
   "metadata": {},
   "outputs": [],
   "source": [
    "# Function to vectorize words in a tag using the provided model\n",
    "def vectorize_tag(tag, model):\n",
    "    vectors = []\n",
    "    for word in tag.split():\n",
    "        if word in model:\n",
    "            vectors.append(model[word])\n",
    "        else:\n",
    "            return np.nan  # Return NaN if any word is not recognized by the model\n",
    "    return np.sum(vectors, axis=0)  # Sum of the vectors for each tag\n",
    "\n",
    "# Apply the vectorization function to the 'tag' column and create a new 'vector' column\n",
    "df['vector'] = df['tag'].apply(lambda x: vectorize_tag(x, model))\n",
    "\n",
    "# Drop rows where the 'vector' column contains NaN values (i.e., rows with unrecognized words)\n",
    "df.dropna(subset=['vector'], inplace=True)\n"
   ]
  },
  {
   "cell_type": "code",
   "execution_count": 70,
   "metadata": {},
   "outputs": [
    {
     "data": {
      "text/html": [
       "<div>\n",
       "<style scoped>\n",
       "    .dataframe tbody tr th:only-of-type {\n",
       "        vertical-align: middle;\n",
       "    }\n",
       "\n",
       "    .dataframe tbody tr th {\n",
       "        vertical-align: top;\n",
       "    }\n",
       "\n",
       "    .dataframe thead th {\n",
       "        text-align: right;\n",
       "    }\n",
       "</style>\n",
       "<table border=\"1\" class=\"dataframe\">\n",
       "  <thead>\n",
       "    <tr style=\"text-align: right;\">\n",
       "      <th></th>\n",
       "      <th>tagId</th>\n",
       "      <th>tag</th>\n",
       "    </tr>\n",
       "  </thead>\n",
       "  <tbody>\n",
       "    <tr>\n",
       "      <th>0</th>\n",
       "      <td>1</td>\n",
       "      <td>007</td>\n",
       "    </tr>\n",
       "    <tr>\n",
       "      <th>1</th>\n",
       "      <td>2</td>\n",
       "      <td>007 (series)</td>\n",
       "    </tr>\n",
       "    <tr>\n",
       "      <th>2</th>\n",
       "      <td>3</td>\n",
       "      <td>18th century</td>\n",
       "    </tr>\n",
       "    <tr>\n",
       "      <th>3</th>\n",
       "      <td>4</td>\n",
       "      <td>1920s</td>\n",
       "    </tr>\n",
       "    <tr>\n",
       "      <th>4</th>\n",
       "      <td>5</td>\n",
       "      <td>1930s</td>\n",
       "    </tr>\n",
       "  </tbody>\n",
       "</table>\n",
       "</div>"
      ],
      "text/plain": [
       "   tagId           tag\n",
       "0      1           007\n",
       "1      2  007 (series)\n",
       "2      3  18th century\n",
       "3      4         1920s\n",
       "4      5         1930s"
      ]
     },
     "execution_count": 70,
     "metadata": {},
     "output_type": "execute_result"
    }
   ],
   "source": [
    "df_genome_tags = pd.read_csv('input_data\\genome_tags.csv')\n",
    "df_genome_tags.head(5)"
   ]
  },
  {
   "cell_type": "code",
   "execution_count": 71,
   "metadata": {},
   "outputs": [
    {
     "data": {
      "text/html": [
       "<div>\n",
       "<style scoped>\n",
       "    .dataframe tbody tr th:only-of-type {\n",
       "        vertical-align: middle;\n",
       "    }\n",
       "\n",
       "    .dataframe tbody tr th {\n",
       "        vertical-align: top;\n",
       "    }\n",
       "\n",
       "    .dataframe thead th {\n",
       "        text-align: right;\n",
       "    }\n",
       "</style>\n",
       "<table border=\"1\" class=\"dataframe\">\n",
       "  <thead>\n",
       "    <tr style=\"text-align: right;\">\n",
       "      <th></th>\n",
       "      <th>tagId</th>\n",
       "      <th>tag</th>\n",
       "      <th>vector</th>\n",
       "    </tr>\n",
       "  </thead>\n",
       "  <tbody>\n",
       "    <tr>\n",
       "      <th>16</th>\n",
       "      <td>17</td>\n",
       "      <td>abortion</td>\n",
       "      <td>[0.00777556, 0.0238052, 0.0669894, 0.0890002, ...</td>\n",
       "    </tr>\n",
       "    <tr>\n",
       "      <th>17</th>\n",
       "      <td>18</td>\n",
       "      <td>absurd</td>\n",
       "      <td>[0.0468222, -0.050771, 0.0409929, 0.0389245, -...</td>\n",
       "    </tr>\n",
       "    <tr>\n",
       "      <th>18</th>\n",
       "      <td>19</td>\n",
       "      <td>action</td>\n",
       "      <td>[-0.0138909, 0.0633263, 0.0185893, 0.0105203, ...</td>\n",
       "    </tr>\n",
       "    <tr>\n",
       "      <th>19</th>\n",
       "      <td>20</td>\n",
       "      <td>action packed</td>\n",
       "      <td>[0.0420461, 0.0945427, -0.0084770005, 0.010103...</td>\n",
       "    </tr>\n",
       "    <tr>\n",
       "      <th>20</th>\n",
       "      <td>21</td>\n",
       "      <td>adaptation</td>\n",
       "      <td>[0.0837244, -0.0257734, -0.0665421, 0.0565452,...</td>\n",
       "    </tr>\n",
       "  </tbody>\n",
       "</table>\n",
       "</div>"
      ],
      "text/plain": [
       "    tagId            tag                                             vector\n",
       "16     17       abortion  [0.00777556, 0.0238052, 0.0669894, 0.0890002, ...\n",
       "17     18         absurd  [0.0468222, -0.050771, 0.0409929, 0.0389245, -...\n",
       "18     19         action  [-0.0138909, 0.0633263, 0.0185893, 0.0105203, ...\n",
       "19     20  action packed  [0.0420461, 0.0945427, -0.0084770005, 0.010103...\n",
       "20     21     adaptation  [0.0837244, -0.0257734, -0.0665421, 0.0565452,..."
      ]
     },
     "execution_count": 71,
     "metadata": {},
     "output_type": "execute_result"
    }
   ],
   "source": [
    "# Fonction pour vectoriser les mots d'une tag\n",
    "def vectorize_tag(tag, model):\n",
    "    vectors = []\n",
    "    for word in tag.split():\n",
    "        if word in model:\n",
    "            vectors.append(model[word])\n",
    "        else:\n",
    "            return np.nan  # Retourne NaN si un mot n'est pas reconnu\n",
    "    return np.sum(vectors, axis=0)  # Somme des vecteurs pour chaque tag\n",
    "\n",
    "# Appliquer la fonction de vectorisation\n",
    "df_genome_tags['vector'] = df_genome_tags['tag'].apply(lambda x: vectorize_tag(x, model))\n",
    "\n",
    "# Supprimer les lignes où le vector est NaN (c'est-à-dire les lignes avec des mots non reconnus)\n",
    "df_genome_tags.dropna(subset=['vector'], inplace=True)\n",
    "df_genome_tags.head(5)"
   ]
  },
  {
   "cell_type": "code",
   "execution_count": 72,
   "metadata": {},
   "outputs": [
    {
     "data": {
      "text/html": [
       "<div>\n",
       "<style scoped>\n",
       "    .dataframe tbody tr th:only-of-type {\n",
       "        vertical-align: middle;\n",
       "    }\n",
       "\n",
       "    .dataframe tbody tr th {\n",
       "        vertical-align: top;\n",
       "    }\n",
       "\n",
       "    .dataframe thead th {\n",
       "        text-align: right;\n",
       "    }\n",
       "</style>\n",
       "<table border=\"1\" class=\"dataframe\">\n",
       "  <thead>\n",
       "    <tr style=\"text-align: right;\">\n",
       "      <th></th>\n",
       "      <th>movieId</th>\n",
       "      <th>tagId</th>\n",
       "      <th>relevance</th>\n",
       "    </tr>\n",
       "  </thead>\n",
       "  <tbody>\n",
       "    <tr>\n",
       "      <th>0</th>\n",
       "      <td>1</td>\n",
       "      <td>1</td>\n",
       "      <td>0.02500</td>\n",
       "    </tr>\n",
       "    <tr>\n",
       "      <th>1</th>\n",
       "      <td>1</td>\n",
       "      <td>2</td>\n",
       "      <td>0.02500</td>\n",
       "    </tr>\n",
       "    <tr>\n",
       "      <th>2</th>\n",
       "      <td>1</td>\n",
       "      <td>3</td>\n",
       "      <td>0.05775</td>\n",
       "    </tr>\n",
       "    <tr>\n",
       "      <th>3</th>\n",
       "      <td>1</td>\n",
       "      <td>4</td>\n",
       "      <td>0.09675</td>\n",
       "    </tr>\n",
       "    <tr>\n",
       "      <th>4</th>\n",
       "      <td>1</td>\n",
       "      <td>5</td>\n",
       "      <td>0.14675</td>\n",
       "    </tr>\n",
       "  </tbody>\n",
       "</table>\n",
       "</div>"
      ],
      "text/plain": [
       "   movieId  tagId  relevance\n",
       "0        1      1    0.02500\n",
       "1        1      2    0.02500\n",
       "2        1      3    0.05775\n",
       "3        1      4    0.09675\n",
       "4        1      5    0.14675"
      ]
     },
     "execution_count": 72,
     "metadata": {},
     "output_type": "execute_result"
    }
   ],
   "source": [
    "# Load the CSV file into a DataFrame\n",
    "df_genome_scores = pd.read_csv('input_data\\genome_scores.csv')\n",
    "df_genome_scores.head(5)"
   ]
  },
  {
   "cell_type": "code",
   "execution_count": null,
   "metadata": {},
   "outputs": [],
   "source": [
    "# Merge the 'df_genome_tags' and 'df_genome_scores' DataFrames on the 'tagId' column using an inner join\n",
    "# This combines rows from both DataFrames where 'tagId' matches in both\n",
    "df_tags_merged = pd.merge(left=df_genome_tags, right=df_genome_scores, how='inner', on='tagId')\n"
   ]
  },
  {
   "cell_type": "code",
   "execution_count": 74,
   "metadata": {},
   "outputs": [
    {
     "data": {
      "text/plain": [
       "7640416"
      ]
     },
     "execution_count": 74,
     "metadata": {},
     "output_type": "execute_result"
    }
   ],
   "source": [
    "len(df_tags_merged)"
   ]
  },
  {
   "cell_type": "code",
   "execution_count": 75,
   "metadata": {},
   "outputs": [
    {
     "data": {
      "text/plain": [
       "365316"
      ]
     },
     "execution_count": 75,
     "metadata": {},
     "output_type": "execute_result"
    }
   ],
   "source": [
    "# Filter the merged DataFrame to include only rows where 'relevance' is greater than 0.5\n",
    "# This retains only those tags with a relevance score above the specified threshold\n",
    "df_tags_merged = df_tags_merged[df_tags_merged['relevance'] > 0.5]\n",
    "\n",
    "# Output the number of rows remaining in the filtered DataFrame\n",
    "len(df_tags_merged)\n"
   ]
  },
  {
   "cell_type": "code",
   "execution_count": 76,
   "metadata": {},
   "outputs": [
    {
     "data": {
      "text/html": [
       "<div>\n",
       "<style scoped>\n",
       "    .dataframe tbody tr th:only-of-type {\n",
       "        vertical-align: middle;\n",
       "    }\n",
       "\n",
       "    .dataframe tbody tr th {\n",
       "        vertical-align: top;\n",
       "    }\n",
       "\n",
       "    .dataframe thead th {\n",
       "        text-align: right;\n",
       "    }\n",
       "</style>\n",
       "<table border=\"1\" class=\"dataframe\">\n",
       "  <thead>\n",
       "    <tr style=\"text-align: right;\">\n",
       "      <th></th>\n",
       "      <th>tagId</th>\n",
       "      <th>tag</th>\n",
       "      <th>vector</th>\n",
       "      <th>movieId</th>\n",
       "      <th>relevance</th>\n",
       "      <th>weighted_vector</th>\n",
       "    </tr>\n",
       "  </thead>\n",
       "  <tbody>\n",
       "    <tr>\n",
       "      <th>1243</th>\n",
       "      <td>17</td>\n",
       "      <td>abortion</td>\n",
       "      <td>[0.00777556, 0.0238052, 0.0669894, 0.0890002, ...</td>\n",
       "      <td>1392</td>\n",
       "      <td>0.97325</td>\n",
       "      <td>[0.0075675636, 0.02316841, 0.06519743, 0.08661...</td>\n",
       "    </tr>\n",
       "    <tr>\n",
       "      <th>2798</th>\n",
       "      <td>17</td>\n",
       "      <td>abortion</td>\n",
       "      <td>[0.00777556, 0.0238052, 0.0669894, 0.0890002, ...</td>\n",
       "      <td>3148</td>\n",
       "      <td>0.85875</td>\n",
       "      <td>[0.006677262, 0.020442715, 0.057527147, 0.0764...</td>\n",
       "    </tr>\n",
       "    <tr>\n",
       "      <th>2849</th>\n",
       "      <td>17</td>\n",
       "      <td>abortion</td>\n",
       "      <td>[0.00777556, 0.0238052, 0.0669894, 0.0890002, ...</td>\n",
       "      <td>3210</td>\n",
       "      <td>0.67650</td>\n",
       "      <td>[0.0052601667, 0.016104218, 0.04531833, 0.0602...</td>\n",
       "    </tr>\n",
       "    <tr>\n",
       "      <th>3430</th>\n",
       "      <td>17</td>\n",
       "      <td>abortion</td>\n",
       "      <td>[0.00777556, 0.0238052, 0.0669894, 0.0890002, ...</td>\n",
       "      <td>3888</td>\n",
       "      <td>0.63675</td>\n",
       "      <td>[0.0049510878, 0.01515796, 0.042655498, 0.0566...</td>\n",
       "    </tr>\n",
       "    <tr>\n",
       "      <th>3703</th>\n",
       "      <td>17</td>\n",
       "      <td>abortion</td>\n",
       "      <td>[0.00777556, 0.0238052, 0.0669894, 0.0890002, ...</td>\n",
       "      <td>4191</td>\n",
       "      <td>0.74500</td>\n",
       "      <td>[0.0057927924, 0.017734874, 0.049907103, 0.066...</td>\n",
       "    </tr>\n",
       "  </tbody>\n",
       "</table>\n",
       "</div>"
      ],
      "text/plain": [
       "      tagId       tag                                             vector  \\\n",
       "1243     17  abortion  [0.00777556, 0.0238052, 0.0669894, 0.0890002, ...   \n",
       "2798     17  abortion  [0.00777556, 0.0238052, 0.0669894, 0.0890002, ...   \n",
       "2849     17  abortion  [0.00777556, 0.0238052, 0.0669894, 0.0890002, ...   \n",
       "3430     17  abortion  [0.00777556, 0.0238052, 0.0669894, 0.0890002, ...   \n",
       "3703     17  abortion  [0.00777556, 0.0238052, 0.0669894, 0.0890002, ...   \n",
       "\n",
       "      movieId  relevance                                    weighted_vector  \n",
       "1243     1392    0.97325  [0.0075675636, 0.02316841, 0.06519743, 0.08661...  \n",
       "2798     3148    0.85875  [0.006677262, 0.020442715, 0.057527147, 0.0764...  \n",
       "2849     3210    0.67650  [0.0052601667, 0.016104218, 0.04531833, 0.0602...  \n",
       "3430     3888    0.63675  [0.0049510878, 0.01515796, 0.042655498, 0.0566...  \n",
       "3703     4191    0.74500  [0.0057927924, 0.017734874, 0.049907103, 0.066...  "
      ]
     },
     "execution_count": 76,
     "metadata": {},
     "output_type": "execute_result"
    }
   ],
   "source": [
    "# Function to multiply each vector by its relevance score\n",
    "# This adjusts the vector representation based on the relevance score for each row\n",
    "def apply_relevance(row):\n",
    "    weighted_vector = np.array(row['vector']) * row['relevance']\n",
    "    return weighted_vector\n",
    "\n",
    "# Apply the 'apply_relevance' function to each row in the DataFrame\n",
    "# This creates a new column 'weighted_vector' where each vector is scaled by its relevance score\n",
    "df_tags_merged['weighted_vector'] = df_tags_merged.apply(apply_relevance, axis=1)\n",
    "\n",
    "# Display the first 5 rows of the DataFrame to check the new 'weighted_vector' column\n",
    "df_tags_merged.head(5)\n"
   ]
  },
  {
   "cell_type": "code",
   "execution_count": 77,
   "metadata": {},
   "outputs": [
    {
     "data": {
      "text/plain": [
       "365316"
      ]
     },
     "execution_count": 77,
     "metadata": {},
     "output_type": "execute_result"
    }
   ],
   "source": [
    "len(df_tags_merged)"
   ]
  },
  {
   "cell_type": "code",
   "execution_count": 78,
   "metadata": {},
   "outputs": [],
   "source": [
    "df_tags_merged.drop(['vector', 'relevance'], axis=1, inplace=True)"
   ]
  },
  {
   "cell_type": "code",
   "execution_count": 80,
   "metadata": {},
   "outputs": [
    {
     "data": {
      "text/html": [
       "<div>\n",
       "<style scoped>\n",
       "    .dataframe tbody tr th:only-of-type {\n",
       "        vertical-align: middle;\n",
       "    }\n",
       "\n",
       "    .dataframe tbody tr th {\n",
       "        vertical-align: top;\n",
       "    }\n",
       "\n",
       "    .dataframe thead th {\n",
       "        text-align: right;\n",
       "    }\n",
       "</style>\n",
       "<table border=\"1\" class=\"dataframe\">\n",
       "  <thead>\n",
       "    <tr style=\"text-align: right;\">\n",
       "      <th></th>\n",
       "      <th>movieId</th>\n",
       "      <th>weighted_vector</th>\n",
       "    </tr>\n",
       "  </thead>\n",
       "  <tbody>\n",
       "    <tr>\n",
       "      <th>0</th>\n",
       "      <td>1</td>\n",
       "      <td>[0.034586858, 0.0041892263, -0.007967652, 0.04...</td>\n",
       "    </tr>\n",
       "    <tr>\n",
       "      <th>1</th>\n",
       "      <td>2</td>\n",
       "      <td>[0.02394018, 0.012072621, -0.012650338, 0.0410...</td>\n",
       "    </tr>\n",
       "    <tr>\n",
       "      <th>2</th>\n",
       "      <td>3</td>\n",
       "      <td>[0.025589697, -0.0041956874, -0.0049643833, 0....</td>\n",
       "    </tr>\n",
       "    <tr>\n",
       "      <th>3</th>\n",
       "      <td>4</td>\n",
       "      <td>[0.014996908, -0.0033440643, -0.023636833, 0.0...</td>\n",
       "    </tr>\n",
       "    <tr>\n",
       "      <th>4</th>\n",
       "      <td>5</td>\n",
       "      <td>[0.023046032, -0.010654649, -0.01876496, 0.041...</td>\n",
       "    </tr>\n",
       "  </tbody>\n",
       "</table>\n",
       "</div>"
      ],
      "text/plain": [
       "   movieId                                    weighted_vector\n",
       "0        1  [0.034586858, 0.0041892263, -0.007967652, 0.04...\n",
       "1        2  [0.02394018, 0.012072621, -0.012650338, 0.0410...\n",
       "2        3  [0.025589697, -0.0041956874, -0.0049643833, 0....\n",
       "3        4  [0.014996908, -0.0033440643, -0.023636833, 0.0...\n",
       "4        5  [0.023046032, -0.010654649, -0.01876496, 0.041..."
      ]
     },
     "execution_count": 80,
     "metadata": {},
     "output_type": "execute_result"
    }
   ],
   "source": [
    "# Group by 'movieId' and calculate the average of 'weighted_vector' for each movie\n",
    "# This aggregates the weighted vectors for each movie and computes the mean vector\n",
    "df_avg_vector = df_tags_merged.groupby('movieId')['weighted_vector'].apply(lambda x: np.mean(np.stack(x), axis=0))\n",
    "\n",
    "# Convert the result into a DataFrame, with 'movieId' as a column and the average vectors\n",
    "df_avg_vector = df_avg_vector.reset_index()\n",
    "\n",
    "# Display the first 5 rows of the resulting DataFrame\n",
    "df_avg_vector.head(5)\n"
   ]
  },
  {
   "cell_type": "markdown",
   "metadata": {},
   "source": [
    "#### Cosine Similarity on Vectors"
   ]
  },
  {
   "cell_type": "code",
   "execution_count": null,
   "metadata": {},
   "outputs": [],
   "source": [
    "from sklearn.metrics.pairwise import cosine_similarity\n",
    "\n",
    "# Choose a specific user for analysis\n",
    "user_id = 10616\n",
    "user_vector = df_user_vector.loc[user_id, 'user_vector']\n",
    "\n",
    "# Compute cosine similarity between the user's vector and each movie vector\n",
    "similarities = cosine_similarity([user_vector], df_avg_vector['weighted_vector'].tolist())[0]\n",
    "\n",
    "# Add the similarity scores to the DataFrame containing movie vectors\n",
    "df_avg_vector['similarity'] = similarities\n",
    "\n",
    "# Sort the movies by similarity in descending order\n",
    "recommended_movies = df_avg_vector.sort_values(by='similarity', ascending=False)\n",
    "\n",
    "# Get the list of movies already seen by the user\n",
    "user_seen_movies = df_tag[df_tag['userId'] == user_id]['movieId'].tolist()\n",
    "\n",
    "# Filter out movies that the user has already seen\n",
    "recommended_movies = recommended_movies[~recommended_movies['movieId'].isin(user_seen_movies)]\n",
    "\n",
    "# Display the top 5 recommended movies\n",
    "print(recommended_movies.head(5))\n"
   ]
  },
  {
   "cell_type": "markdown",
   "metadata": {},
   "source": [
    "#### Recommended Movies for User 10616"
   ]
  },
  {
   "cell_type": "code",
   "execution_count": null,
   "metadata": {},
   "outputs": [
    {
     "data": {
      "text/html": [
       "<div>\n",
       "<style scoped>\n",
       "    .dataframe tbody tr th:only-of-type {\n",
       "        vertical-align: middle;\n",
       "    }\n",
       "\n",
       "    .dataframe tbody tr th {\n",
       "        vertical-align: top;\n",
       "    }\n",
       "\n",
       "    .dataframe thead th {\n",
       "        text-align: right;\n",
       "    }\n",
       "</style>\n",
       "<table border=\"1\" class=\"dataframe\">\n",
       "  <thead>\n",
       "    <tr style=\"text-align: right;\">\n",
       "      <th></th>\n",
       "      <th>movieId</th>\n",
       "      <th>similarity</th>\n",
       "      <th>title</th>\n",
       "      <th>genres</th>\n",
       "      <th>age_movie</th>\n",
       "    </tr>\n",
       "  </thead>\n",
       "  <tbody>\n",
       "    <tr>\n",
       "      <th>0</th>\n",
       "      <td>110566</td>\n",
       "      <td>0.901610</td>\n",
       "      <td>Son of Batman</td>\n",
       "      <td>Action Adventure Animation Crime Fantasy</td>\n",
       "      <td>10.0</td>\n",
       "    </tr>\n",
       "    <tr>\n",
       "      <th>1</th>\n",
       "      <td>113278</td>\n",
       "      <td>0.888484</td>\n",
       "      <td>Batman: Assault on Arkham</td>\n",
       "      <td>Action Animation Crime Thriller</td>\n",
       "      <td>10.0</td>\n",
       "    </tr>\n",
       "    <tr>\n",
       "      <th>2</th>\n",
       "      <td>106102</td>\n",
       "      <td>0.888108</td>\n",
       "      <td>Gambit</td>\n",
       "      <td>Comedy Crime</td>\n",
       "      <td>12.0</td>\n",
       "    </tr>\n",
       "    <tr>\n",
       "      <th>3</th>\n",
       "      <td>7697</td>\n",
       "      <td>0.886546</td>\n",
       "      <td>Prince and the Showgirl, The</td>\n",
       "      <td>Comedy Romance</td>\n",
       "      <td>67.0</td>\n",
       "    </tr>\n",
       "    <tr>\n",
       "      <th>4</th>\n",
       "      <td>1723</td>\n",
       "      <td>0.882793</td>\n",
       "      <td>Twisted</td>\n",
       "      <td>Comedy Drama</td>\n",
       "      <td>28.0</td>\n",
       "    </tr>\n",
       "    <tr>\n",
       "      <th>5</th>\n",
       "      <td>2000</td>\n",
       "      <td>0.882739</td>\n",
       "      <td>Lethal Weapon</td>\n",
       "      <td>Action Comedy Crime Drama</td>\n",
       "      <td>37.0</td>\n",
       "    </tr>\n",
       "    <tr>\n",
       "      <th>6</th>\n",
       "      <td>104419</td>\n",
       "      <td>0.882469</td>\n",
       "      <td>Justice League: Crisis on Two Earths</td>\n",
       "      <td>Action Animation Sci-Fi</td>\n",
       "      <td>14.0</td>\n",
       "    </tr>\n",
       "    <tr>\n",
       "      <th>7</th>\n",
       "      <td>7720</td>\n",
       "      <td>0.880466</td>\n",
       "      <td>Four Musketeers, The</td>\n",
       "      <td>Action Adventure Comedy Romance</td>\n",
       "      <td>50.0</td>\n",
       "    </tr>\n",
       "    <tr>\n",
       "      <th>8</th>\n",
       "      <td>31923</td>\n",
       "      <td>0.879845</td>\n",
       "      <td>Three Musketeers, The</td>\n",
       "      <td>Action Adventure Comedy</td>\n",
       "      <td>51.0</td>\n",
       "    </tr>\n",
       "    <tr>\n",
       "      <th>9</th>\n",
       "      <td>27064</td>\n",
       "      <td>0.877420</td>\n",
       "      <td>Batman &amp; Mr. Freeze: Subzero</td>\n",
       "      <td>Action Animation Children Crime</td>\n",
       "      <td>26.0</td>\n",
       "    </tr>\n",
       "  </tbody>\n",
       "</table>\n",
       "</div>"
      ],
      "text/plain": [
       "   movieId  similarity                                 title  \\\n",
       "0   110566    0.901610                         Son of Batman   \n",
       "1   113278    0.888484             Batman: Assault on Arkham   \n",
       "2   106102    0.888108                                Gambit   \n",
       "3     7697    0.886546          Prince and the Showgirl, The   \n",
       "4     1723    0.882793                               Twisted   \n",
       "5     2000    0.882739                         Lethal Weapon   \n",
       "6   104419    0.882469  Justice League: Crisis on Two Earths   \n",
       "7     7720    0.880466                  Four Musketeers, The   \n",
       "8    31923    0.879845                 Three Musketeers, The   \n",
       "9    27064    0.877420          Batman & Mr. Freeze: Subzero   \n",
       "\n",
       "                                     genres  age_movie  \n",
       "0  Action Adventure Animation Crime Fantasy       10.0  \n",
       "1           Action Animation Crime Thriller       10.0  \n",
       "2                              Comedy Crime       12.0  \n",
       "3                            Comedy Romance       67.0  \n",
       "4                              Comedy Drama       28.0  \n",
       "5                 Action Comedy Crime Drama       37.0  \n",
       "6                   Action Animation Sci-Fi       14.0  \n",
       "7           Action Adventure Comedy Romance       50.0  \n",
       "8                   Action Adventure Comedy       51.0  \n",
       "9           Action Animation Children Crime       26.0  "
      ]
     },
     "execution_count": 143,
     "metadata": {},
     "output_type": "execute_result"
    }
   ],
   "source": [
    "# Merge the recommended movies with movie titles and other details from the movie DataFrame\n",
    "recommended_movies_titles = recommended_movies.merge(df_movie, on='movieId', how='left')\n",
    "\n",
    "# Drop the 'weighted_vector' column as it is no longer needed\n",
    "recommended_movies_titles.drop(['weighted_vector'], axis=1, inplace=True)\n",
    "\n",
    "# Display the top 10 recommended movies with titles and details\n",
    "recommended_movies_titles.head(10)\n"
   ]
  }
 ],
 "metadata": {
  "kernelspec": {
   "display_name": "venv_mlops",
   "language": "python",
   "name": "python3"
  },
  "language_info": {
   "codemirror_mode": {
    "name": "ipython",
    "version": 3
   },
   "file_extension": ".py",
   "mimetype": "text/x-python",
   "name": "python",
   "nbconvert_exporter": "python",
   "pygments_lexer": "ipython3",
   "version": "3.11.7"
  }
 },
 "nbformat": 4,
 "nbformat_minor": 2
}
