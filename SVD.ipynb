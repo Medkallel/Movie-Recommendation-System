{
 "cells": [
  {
   "cell_type": "markdown",
   "metadata": {},
   "source": [
    "# Importing libraries\n"
   ]
  },
  {
   "cell_type": "code",
   "execution_count": null,
   "metadata": {},
   "outputs": [],
   "source": [
    "import pandas as pd\n",
    "import cornac\n",
    "from cornac.data import Dataset\n",
    "from cornac.models import SVD\n",
    "from cornac.eval_methods import RatioSplit\n",
    "from cornac.metrics import RMSE, MAE, Precision, Recall\n"
   ]
  },
  {
   "cell_type": "markdown",
   "metadata": {},
   "source": [
    "# Loading the data\n"
   ]
  },
  {
   "cell_type": "code",
   "execution_count": null,
   "metadata": {},
   "outputs": [],
   "source": [
    "# Loading the data\n",
    "movies_path = 'output_data/movie_user_IQR.csv'\n",
    "ratings_path = 'output_data/rating_user_IQR.csv'\n",
    "\n",
    "# Load the data into DataFrames\n",
    "ratings_df = pd.read_csv(ratings_path)\n",
    "movies_df = pd.read_csv(movies_path)\n",
    "\n",
    "# Display the first few rows of each DataFrame to verify correct loading\n",
    "print(\"Ratings DataFrame:\")\n",
    "print(ratings_df.head())\n",
    "\n",
    "print(\"Movies DataFrame:\")\n",
    "print(movies_df.head())\n"
   ]
  },
  {
   "cell_type": "code",
   "execution_count": null,
   "metadata": {},
   "outputs": [],
   "source": [
    "ratings_df"
   ]
  },
  {
   "cell_type": "markdown",
   "metadata": {},
   "source": [
    "# Preparing the data for Cornac"
   ]
  },
  {
   "cell_type": "code",
   "execution_count": null,
   "metadata": {},
   "outputs": [],
   "source": [
    "# Prepare the data for Cornac\n",
    "# Convert the DataFrame to a list of tuples, excluding the index and without naming the columns\n",
    "data = list(ratings_df[['userId', 'movieId', 'rating']].itertuples(index=False, name=None))\n",
    "\n",
    "# Create a RatioSplit object to divide the data into training and testing sets\n",
    "splitter = RatioSplit(data, test_size=0.2, seed=42)\n",
    "\n",
    "# Extract the training and testing sets from the RatioSplit object\n",
    "train_set, test_set = splitter.train_set, splitter.test_set\n",
    "\n"
   ]
  },
  {
   "cell_type": "markdown",
   "metadata": {},
   "source": [
    "# Training model"
   ]
  },
  {
   "cell_type": "code",
   "execution_count": null,
   "metadata": {},
   "outputs": [],
   "source": [
    "# Initialize the SVD model\n",
    "# Set the number of latent factors to 50, with 10 iterations, a learning rate of 0.001, and regularization parameter of 0.01\n",
    "svd = SVD(k=50, max_iter=10, learning_rate=0.001, lambda_reg=0.01)\n",
    "\n",
    "# Train the model using the training data\n",
    "svd.fit(train_set)\n"
   ]
  },
  {
   "cell_type": "markdown",
   "metadata": {},
   "source": [
    "# Evaluate the model"
   ]
  },
  {
   "cell_type": "code",
   "execution_count": null,
   "metadata": {},
   "outputs": [],
   "source": [
    "# Define evaluation metrics\n",
    "metrics = [RMSE(), MAE(), Precision(k=10), Recall(k=10)]\n",
    "\n",
    "# Create a RatioSplit object with the evaluation metrics\n",
    "# RatioSplit splits the data into training and test sets based on the given test_size and seed\n",
    "# The metrics parameter is used to specify which metrics to use for evaluating the model\n",
    "eval_method = RatioSplit(data, test_size=0.2, seed=42, metrics=metrics)\n",
    "\n",
    "# Evaluate the model using Cornac\n",
    "# The Experiment class runs the evaluation using the specified evaluation method and metrics\n",
    "cornac.Experiment(eval_method=eval_method, models=[svd], metrics=metrics).run()\n"
   ]
  },
  {
   "cell_type": "markdown",
   "metadata": {},
   "source": [
    "# Optimization of the model"
   ]
  },
  {
   "cell_type": "markdown",
   "metadata": {},
   "source": [
    "## Optimization of the k hyperparameters"
   ]
  },
  {
   "cell_type": "code",
   "execution_count": null,
   "metadata": {},
   "outputs": [],
   "source": [
    "# List of values for max_iter\n",
    "k = [100, 150, 300, 500]\n",
    "\n",
    "for k in k:\n",
    "    # Initialize the SVD model\n",
    "    # Set the number of latent factors to 50, max_iter to the current value in the loop,\n",
    "    # learning rate to 0.001, and regularization parameter to 0.01\n",
    "    svd = SVD(k=k, max_iter=10, learning_rate=0.001, lambda_reg=0.01)\n",
    "\n",
    "    # Train the model with the training data\n",
    "    svd.fit(train_set)\n",
    "\n",
    "    # Define evaluation metrics\n",
    "    metrics = [RMSE(), MAE(), Precision(k=10), Recall(k=10)]\n",
    "\n",
    "    # Create a RatioSplit object with the evaluation metrics\n",
    "    # RatioSplit splits the data into training and testing sets, based on the specified test_size and seed\n",
    "    eval_method = RatioSplit(data, test_size=0.2, seed=42, metrics=metrics)\n",
    "\n",
    "    # Print the current max_iter value being evaluated\n",
    "    print(f\"Results for max_iter={k}:\")\n",
    "\n",
    "    # Evaluate the model using Cornac\n",
    "    # The Experiment class runs the evaluation using the specified eval_method and metrics\n",
    "    cornac.Experiment(eval_method=eval_method, models=[svd], metrics=metrics).run()\n",
    "\n",
    "    # Print a separator to distinguish between results for different max_iter values\n",
    "    print(f\"Results for max_iter={k} completed.\")"
   ]
  },
  {
   "cell_type": "markdown",
   "metadata": {},
   "source": [
    "The optimal value is obtain at k = 300"
   ]
  },
  {
   "cell_type": "markdown",
   "metadata": {},
   "source": [
    "## Optimization of the max_iter parameters"
   ]
  },
  {
   "cell_type": "code",
   "execution_count": null,
   "metadata": {},
   "outputs": [],
   "source": [
    "# List of values for max_iter\n",
    "max_iter_list = [23, 24, 25, 26, 27, 28]\n",
    "\n",
    "for max_iter in max_iter_list:\n",
    "    # Initialize the SVD model\n",
    "    # Set the number of latent factors to 300, max_iter to the current value in the loop,\n",
    "    # learning rate to 0.003, and regularization parameter to 0.02\n",
    "    svd = SVD(k=300, max_iter=max_iter, learning_rate=0.003, lambda_reg=0.02)\n",
    "\n",
    "    # Train the model using the training data\n",
    "    svd.fit(train_set)\n",
    "\n",
    "    # Define evaluation metrics\n",
    "    metrics = [RMSE(), MAE(), Precision(k=10), Recall(k=10)]\n",
    "\n",
    "    # Create a RatioSplit object with the evaluation metrics\n",
    "    # RatioSplit splits the data into training and testing sets based on the given test_size and seed\n",
    "    eval_method = RatioSplit(data, test_size=0.2, seed=42, metrics=metrics)\n",
    "    \n",
    "    # Print the current max_iter value being evaluated\n",
    "    print(f\"Results for max_iter={max_iter}:\")\n",
    "\n",
    "    # Evaluate the model using Cornac\n",
    "    # The Experiment class runs the evaluation with the specified eval_method and metrics\n",
    "    cornac.Experiment(eval_method=eval_method, models=[svd], metrics=metrics).run()\n",
    "\n",
    "    # Print a separator to distinguish between results for different max_iter values\n",
    "    print(f\"Results for max_iter={max_iter} completed.\")\n"
   ]
  },
  {
   "cell_type": "markdown",
   "metadata": {},
   "source": [
    "The optimal value is obtain at max_iter = 23"
   ]
  },
  {
   "cell_type": "markdown",
   "metadata": {},
   "source": [
    "## Optimization of the learning_rate hyperparameters"
   ]
  },
  {
   "cell_type": "code",
   "execution_count": null,
   "metadata": {},
   "outputs": [],
   "source": [
    "# List of values for learning_rate\n",
    "learning_rate_list = [0.0025, 0.0026, 0.0027, 0.0028, 0.0029]\n",
    "\n",
    "# Iterate over each learning rate value\n",
    "for learning_rate in learning_rate_list:\n",
    "    # Initialize the SVD model\n",
    "    # Set the number of latent factors to 300, max_iter to a fixed value (e.g., 23),\n",
    "    # learning rate to the current value in the loop, and regularization parameter to 0.02\n",
    "    svd = SVD(k=300, max_iter=23, learning_rate=learning_rate, lambda_reg=0.02)\n",
    "\n",
    "    # Train the model using the training data\n",
    "    svd.fit(train_set)\n",
    "\n",
    "    # Define evaluation metrics\n",
    "    metrics = [RMSE(), MAE(), Precision(k=10), Recall(k=10)]\n",
    "\n",
    "    # Create a RatioSplit object with the evaluation metrics\n",
    "    # RatioSplit splits the data into training and testing sets based on the given test_size and seed\n",
    "    eval_method = RatioSplit(data, test_size=0.2, seed=42, metrics=metrics)\n",
    "\n",
    "    # Print the current learning rate being evaluated\n",
    "    print(f\"Results for learning_rate={learning_rate}:\")\n",
    "\n",
    "    # Evaluate the model using Cornac\n",
    "    # The Experiment class runs the evaluation with the specified eval_method and metrics\n",
    "    cornac.Experiment(eval_method=eval_method, models=[svd], metrics=metrics).run()\n",
    "\n",
    "    # Print a separator to distinguish between results for different learning rates\n",
    "    print(f\"Evaluation completed for learning_rate={learning_rate}.\")\n"
   ]
  },
  {
   "cell_type": "markdown",
   "metadata": {},
   "source": [
    "The optimal value is obtain at learning_rate = 0.0026"
   ]
  },
  {
   "cell_type": "markdown",
   "metadata": {},
   "source": [
    "## Optimization of the lambda_reg"
   ]
  },
  {
   "cell_type": "code",
   "execution_count": null,
   "metadata": {},
   "outputs": [],
   "source": [
    "# List of values for lambda_reg\n",
    "lambda_reg_list = [0.005, 0.006, 0.007, 0.008, 0.009]\n",
    "\n",
    "# Iterate over each lambda_reg value\n",
    "for lambda_reg in lambda_reg_list:\n",
    "    # Initialize the SVD model\n",
    "    # Set the number of latent factors to 150, max_iter to 25, learning rate to 0.001,\n",
    "    # and lambda_reg to the current value in the loop\n",
    "    svd = SVD(k=300, max_iter=23, learning_rate=0.0026, lambda_reg=lambda_reg)\n",
    "\n",
    "    # Train the model using the training data\n",
    "    svd.fit(train_set)\n",
    "\n",
    "    # Define evaluation metrics\n",
    "    metrics = [RMSE(), MAE(), Precision(k=10), Recall(k=10)]\n",
    "\n",
    "    # Create a RatioSplit object with the evaluation metrics\n",
    "    # RatioSplit splits the data into training and testing sets based on the given test_size and seed\n",
    "    eval_method = RatioSplit(data, test_size=0.2, seed=42, metrics=metrics)\n",
    "\n",
    "    # Print the current lambda_reg value being evaluated\n",
    "    print(f\"Results for lambda_reg={lambda_reg}:\")\n",
    "\n",
    "    # Evaluate the model using Cornac\n",
    "    # The Experiment class runs the evaluation with the specified eval_method and metrics\n",
    "    cornac.Experiment(eval_method=eval_method, models=[svd], metrics=metrics).run()\n",
    "\n",
    "    # Print a separator to distinguish between results for different lambda_reg values\n",
    "    print(f\"Evaluation completed for lambda_reg={lambda_reg}.\")"
   ]
  },
  {
   "cell_type": "markdown",
   "metadata": {},
   "source": [
    "The optimal value is obtain at lambda_reg = 0.008"
   ]
  },
  {
   "cell_type": "markdown",
   "metadata": {},
   "source": [
    "## Function for all optimization"
   ]
  },
  {
   "cell_type": "markdown",
   "metadata": {},
   "source": [
    "This solution is quiet long to reach the best parameters"
   ]
  },
  {
   "cell_type": "code",
   "execution_count": null,
   "metadata": {},
   "outputs": [],
   "source": [
    "# List of value\n",
    "k = [100, 150, 300, 500]\n",
    "max_iter_list = [23, 24, 25, 26, 27, 28]\n",
    "learning_rate_list = [0.0025, 0.0026, 0.0027, 0.0028, 0.0029]\n",
    "lambda_reg_list = [0.005, 0.006, 0.007, 0.008, 0.009]\n",
    "\n",
    "# Iterate over each \n",
    "for k in k:\n",
    "    \n",
    "    for max_iter in max_iter_list:\n",
    "        \n",
    "        for learning_rate in learning_rate_list:\n",
    "            \n",
    "            for lambda_reg in lambda_reg_list:\n",
    "                # Initialize the SVD model\n",
    "                svd = SVD(k=k, max_iter=max_iter, learning_rate=learning_rate, lambda_reg=lambda_reg)\n",
    "\n",
    "                # Train the model using the training data\n",
    "                svd.fit(train_set)\n",
    "\n",
    "                # Define evaluation metrics\n",
    "                metrics = [RMSE(), MAE(), Precision(k=10), Recall(k=10)]\n",
    "\n",
    "                # Create a RatioSplit object with the evaluation metrics\n",
    "                # RatioSplit splits the data into training and testing sets based on the given test_size and seed\n",
    "                eval_method = RatioSplit(data, test_size=0.2, seed=42, metrics=metrics)\n",
    "\n",
    "                # Print the current lambda_reg value being evaluated\n",
    "                print(f\"Results for k={k},  max_iter={max_iter}, learning_rate={learning_rate} & lambda_reg={lambda_reg}:\")\n",
    "\n",
    "                # Evaluate the model using Cornac\n",
    "                # The Experiment class runs the evaluation with the specified eval_method and metrics\n",
    "                cornac.Experiment(eval_method=eval_method, models=[svd], metrics=metrics).run()\n",
    "\n",
    "                # Print a separator to distinguish between results for different lambda_reg values\n",
    "                print(f\"Evaluation completed for k={k},  max_iter={max_iter}, learning_rate={learning_rate} & lambda_reg={lambda_reg}.\")\n"
   ]
  },
  {
   "cell_type": "markdown",
   "metadata": {},
   "source": [
    "# Recommendation function"
   ]
  },
  {
   "cell_type": "code",
   "execution_count": null,
   "metadata": {},
   "outputs": [],
   "source": [
    "def recommend_top_n(user_id, n=10):\n",
    "    \"\"\"\n",
    "    Recommend the top N movies for a given user based on the trained SVD model.\n",
    "\n",
    "    Parameters:\n",
    "    user_id (int): The ID of the user for whom recommendations are to be generated.\n",
    "    n (int): The number of top recommendations to return (default is 10).\n",
    "\n",
    "    Returns:\n",
    "    Tuple of two DataFrames:\n",
    "        - DataFrame of movies already seen by the user with ratings.\n",
    "        - DataFrame of top N recommended movies with predicted scores.\n",
    "    \"\"\"\n",
    "\n",
    "    # Check if the user is in the training data\n",
    "    if user_id not in train_set.user_ids:\n",
    "        raise ValueError(f\"User {user_id} not found in the training data.\")\n",
    "    \n",
    "    # Movies already seen by the user, sorted by rating\n",
    "    user_seen = ratings_df[ratings_df['userId'] == user_id].sort_values(by='rating', ascending=False)\n",
    "    top_n_seen = user_seen[['movieId', 'rating']].merge(movies_df[['movieId', 'title', 'genres']], on='movieId').head(n)\n",
    "    \n",
    "    # Get all unique movie IDs\n",
    "    movie_ids = ratings_df['movieId'].unique()\n",
    "\n",
    "    # Use the trained SVD model to get predicted scores for all movies for the given user\n",
    "    scores = svd.score(user_id)\n",
    "\n",
    "    # Associate the scores with movie IDs\n",
    "    user_predictions = list(zip(movie_ids, scores))\n",
    "\n",
    "    # Sort predictions by score in descending order and get the top N\n",
    "    user_predictions.sort(key=lambda x: x[1], reverse=True)\n",
    "    top_n_predictions = user_predictions[:n]\n",
    "\n",
    "    # Extract the movie IDs for the top N recommendations\n",
    "    top_n_movie_ids = [pred[0] for pred in top_n_predictions]\n",
    "\n",
    "    # Retrieve the titles and genres of the recommended movies\n",
    "    top_n_movies = movies_df[movies_df['movieId'].isin(top_n_movie_ids)][['movieId', 'title', 'genres']]\n",
    "    top_n_movies = top_n_movies.merge(pd.DataFrame(top_n_predictions, columns=['movieId', 'score']), on='movieId')\n",
    "\n",
    "    # Return two DataFrames: seen movies and recommended movies\n",
    "    return top_n_seen[['title', 'genres', 'rating']], top_n_movies[['title', 'genres', 'score']].sort_values(by='score', ascending=False)\n"
   ]
  },
  {
   "cell_type": "code",
   "execution_count": null,
   "metadata": {},
   "outputs": [],
   "source": [
    "def display_recommendations(user_id, n=10):\n",
    "    top_n_seen, top_n_recommendations = recommend_top_n(user_id, n)\n",
    "\n",
    "    print(f\"Top 10 films vus par l'utilisateur {user_id} :\")\n",
    "    display(top_n_seen)  # Afficher le DataFrame des films vus\n",
    "    \n",
    "    print(\"\\nLes recommandations faites sont les suivantes :\")\n",
    "    display(top_n_recommendations)  # Afficher le DataFrame des recommandations\n"
   ]
  },
  {
   "cell_type": "markdown",
   "metadata": {},
   "source": [
    "# Used function"
   ]
  },
  {
   "cell_type": "code",
   "execution_count": null,
   "metadata": {},
   "outputs": [],
   "source": [
    "# Example usage\n",
    "user_id_example = 1  # Replace with a valid user ID from your dataset\n",
    "display_recommendations(user_id_example, n=10)\n"
   ]
  },
  {
   "cell_type": "markdown",
   "metadata": {},
   "source": []
  }
 ],
 "metadata": {
  "kernelspec": {
   "display_name": "Python 3",
   "language": "python",
   "name": "python3"
  },
  "language_info": {
   "codemirror_mode": {
    "name": "ipython",
    "version": 3
   },
   "file_extension": ".py",
   "mimetype": "text/x-python",
   "name": "python",
   "nbconvert_exporter": "python",
   "pygments_lexer": "ipython3",
   "version": "3.12.3"
  }
 },
 "nbformat": 4,
 "nbformat_minor": 2
}
