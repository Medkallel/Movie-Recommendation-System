{
 "cells": [
  {
   "cell_type": "markdown",
   "metadata": {},
   "source": [
    "# Importing libraries\n"
   ]
  },
  {
   "cell_type": "code",
   "execution_count": 1,
   "metadata": {},
   "outputs": [],
   "source": [
    "import pandas as pd\n",
    "import cornac\n",
    "from cornac.data import Dataset\n",
    "from cornac.models import SVD\n",
    "from cornac.eval_methods import RatioSplit\n",
    "from cornac.metrics import RMSE, MAE, Precision, Recall\n"
   ]
  },
  {
   "cell_type": "markdown",
   "metadata": {},
   "source": [
    "# Loading the data\n"
   ]
  },
  {
   "cell_type": "code",
   "execution_count": 2,
   "metadata": {},
   "outputs": [
    {
     "name": "stdout",
     "output_type": "stream",
     "text": [
      "Ratings DataFrame:\n",
      "   userId  movieId  rating\n",
      "0       1        2     3.5\n",
      "1       1       29     3.5\n",
      "2       1       32     3.5\n",
      "3       1       47     3.5\n",
      "4       1       50     3.5\n",
      "Movies DataFrame:\n",
      "   movieId                        title  \\\n",
      "0        1                    Toy Story   \n",
      "1        2                      Jumanji   \n",
      "2        3             Grumpier Old Men   \n",
      "3        4            Waiting to Exhale   \n",
      "4        5  Father of the Bride Part II   \n",
      "\n",
      "                                        genres    year  Action  Adventure  \\\n",
      "0  Adventure|Animation|Children|Comedy|Fantasy  1995.0       0          1   \n",
      "1                   Adventure|Children|Fantasy  1995.0       0          1   \n",
      "2                               Comedy|Romance  1995.0       0          0   \n",
      "3                         Comedy|Drama|Romance  1995.0       0          0   \n",
      "4                                       Comedy  1995.0       0          0   \n",
      "\n",
      "   Animation  Children  Comedy  Crime  ...  Film-Noir  Horror  IMAX  Musical  \\\n",
      "0          1         1       1      0  ...          0       0     0        0   \n",
      "1          0         1       0      0  ...          0       0     0        0   \n",
      "2          0         0       1      0  ...          0       0     0        0   \n",
      "3          0         0       1      0  ...          0       0     0        0   \n",
      "4          0         0       1      0  ...          0       0     0        0   \n",
      "\n",
      "   Mystery  Romance  Sci-Fi  Thriller  War  Western  \n",
      "0        0        0       0         0    0        0  \n",
      "1        0        0       0         0    0        0  \n",
      "2        0        1       0         0    0        0  \n",
      "3        0        1       0         0    0        0  \n",
      "4        0        0       0         0    0        0  \n",
      "\n",
      "[5 rows x 23 columns]\n"
     ]
    }
   ],
   "source": [
    "# Loading the data\n",
    "movies_path = 'output_data/movie_user_IQR.csv'\n",
    "ratings_path = 'output_data/rating_user_IQR.csv'\n",
    "\n",
    "# Load the data into DataFrames\n",
    "ratings_df = pd.read_csv(ratings_path)\n",
    "movies_df = pd.read_csv(movies_path)\n",
    "\n",
    "# Display the first few rows of each DataFrame to verify correct loading\n",
    "print(\"Ratings DataFrame:\")\n",
    "print(ratings_df.head())\n",
    "\n",
    "print(\"Movies DataFrame:\")\n",
    "print(movies_df.head())\n"
   ]
  },
  {
   "cell_type": "code",
   "execution_count": 6,
   "metadata": {},
   "outputs": [
    {
     "data": {
      "text/html": [
       "<div>\n",
       "<style scoped>\n",
       "    .dataframe tbody tr th:only-of-type {\n",
       "        vertical-align: middle;\n",
       "    }\n",
       "\n",
       "    .dataframe tbody tr th {\n",
       "        vertical-align: top;\n",
       "    }\n",
       "\n",
       "    .dataframe thead th {\n",
       "        text-align: right;\n",
       "    }\n",
       "</style>\n",
       "<table border=\"1\" class=\"dataframe\">\n",
       "  <thead>\n",
       "    <tr style=\"text-align: right;\">\n",
       "      <th></th>\n",
       "      <th>userId</th>\n",
       "      <th>movieId</th>\n",
       "      <th>rating</th>\n",
       "    </tr>\n",
       "  </thead>\n",
       "  <tbody>\n",
       "    <tr>\n",
       "      <th>0</th>\n",
       "      <td>1</td>\n",
       "      <td>2</td>\n",
       "      <td>3.5</td>\n",
       "    </tr>\n",
       "    <tr>\n",
       "      <th>1</th>\n",
       "      <td>1</td>\n",
       "      <td>29</td>\n",
       "      <td>3.5</td>\n",
       "    </tr>\n",
       "    <tr>\n",
       "      <th>2</th>\n",
       "      <td>1</td>\n",
       "      <td>32</td>\n",
       "      <td>3.5</td>\n",
       "    </tr>\n",
       "    <tr>\n",
       "      <th>3</th>\n",
       "      <td>1</td>\n",
       "      <td>47</td>\n",
       "      <td>3.5</td>\n",
       "    </tr>\n",
       "    <tr>\n",
       "      <th>4</th>\n",
       "      <td>1</td>\n",
       "      <td>50</td>\n",
       "      <td>3.5</td>\n",
       "    </tr>\n",
       "    <tr>\n",
       "      <th>...</th>\n",
       "      <td>...</td>\n",
       "      <td>...</td>\n",
       "      <td>...</td>\n",
       "    </tr>\n",
       "    <tr>\n",
       "      <th>9962331</th>\n",
       "      <td>138493</td>\n",
       "      <td>68954</td>\n",
       "      <td>4.5</td>\n",
       "    </tr>\n",
       "    <tr>\n",
       "      <th>9962332</th>\n",
       "      <td>138493</td>\n",
       "      <td>69526</td>\n",
       "      <td>4.5</td>\n",
       "    </tr>\n",
       "    <tr>\n",
       "      <th>9962333</th>\n",
       "      <td>138493</td>\n",
       "      <td>69644</td>\n",
       "      <td>3.0</td>\n",
       "    </tr>\n",
       "    <tr>\n",
       "      <th>9962334</th>\n",
       "      <td>138493</td>\n",
       "      <td>70286</td>\n",
       "      <td>5.0</td>\n",
       "    </tr>\n",
       "    <tr>\n",
       "      <th>9962335</th>\n",
       "      <td>138493</td>\n",
       "      <td>71619</td>\n",
       "      <td>2.5</td>\n",
       "    </tr>\n",
       "  </tbody>\n",
       "</table>\n",
       "<p>9962336 rows × 3 columns</p>\n",
       "</div>"
      ],
      "text/plain": [
       "         userId  movieId  rating\n",
       "0             1        2     3.5\n",
       "1             1       29     3.5\n",
       "2             1       32     3.5\n",
       "3             1       47     3.5\n",
       "4             1       50     3.5\n",
       "...         ...      ...     ...\n",
       "9962331  138493    68954     4.5\n",
       "9962332  138493    69526     4.5\n",
       "9962333  138493    69644     3.0\n",
       "9962334  138493    70286     5.0\n",
       "9962335  138493    71619     2.5\n",
       "\n",
       "[9962336 rows x 3 columns]"
      ]
     },
     "execution_count": 6,
     "metadata": {},
     "output_type": "execute_result"
    }
   ],
   "source": [
    "ratings_df"
   ]
  },
  {
   "cell_type": "markdown",
   "metadata": {},
   "source": [
    "# Preparing the data for Cornac"
   ]
  },
  {
   "cell_type": "code",
   "execution_count": 3,
   "metadata": {},
   "outputs": [],
   "source": [
    "# Prepare the data for Cornac\n",
    "# Convert the DataFrame to a list of tuples, excluding the index and without naming the columns\n",
    "data = list(ratings_df[['userId', 'movieId', 'rating']].itertuples(index=False, name=None))\n",
    "\n",
    "# Create a RatioSplit object to divide the data into training and testing sets\n",
    "splitter = RatioSplit(data, test_size=0.2, seed=42)\n",
    "\n",
    "# Extract the training and testing sets from the RatioSplit object\n",
    "train_set, test_set = splitter.train_set, splitter.test_set\n",
    "\n"
   ]
  },
  {
   "cell_type": "markdown",
   "metadata": {},
   "source": [
    "# Training model"
   ]
  },
  {
   "cell_type": "code",
   "execution_count": 16,
   "metadata": {},
   "outputs": [
    {
     "data": {
      "text/plain": [
       "<cornac.models.svd.recom_svd.SVD at 0x21085c896d0>"
      ]
     },
     "execution_count": 16,
     "metadata": {},
     "output_type": "execute_result"
    }
   ],
   "source": [
    "# Initialize the SVD model\n",
    "# Set the number of latent factors to 50, with 10 iterations, a learning rate of 0.001, and regularization parameter of 0.01\n",
    "svd = SVD(k=50, max_iter=10, learning_rate=0.001, lambda_reg=0.01)\n",
    "\n",
    "# Train the model using the training data\n",
    "svd.fit(train_set)\n"
   ]
  },
  {
   "cell_type": "markdown",
   "metadata": {},
   "source": [
    "# Evaluate the model"
   ]
  },
  {
   "cell_type": "code",
   "execution_count": 17,
   "metadata": {},
   "outputs": [
    {
     "name": "stdout",
     "output_type": "stream",
     "text": [
      "\n",
      "TEST:\n",
      "...\n",
      "    |    MAE |   RMSE | Precision@10 | Recall@10 | Train (s) | Test (s)\n",
      "--- + ------ + ------ + ------------ + --------- + --------- + --------\n",
      "SVD | 0.5802 | 0.7389 |       0.1024 |    0.0219 |   86.5048 | 117.7853\n",
      "\n"
     ]
    }
   ],
   "source": [
    "# Define evaluation metrics\n",
    "metrics = [RMSE(), MAE(), Precision(k=10), Recall(k=10)]\n",
    "\n",
    "# Create a RatioSplit object with the evaluation metrics\n",
    "# RatioSplit splits the data into training and test sets based on the given test_size and seed\n",
    "# The metrics parameter is used to specify which metrics to use for evaluating the model\n",
    "eval_method = RatioSplit(data, test_size=0.2, seed=42, metrics=metrics)\n",
    "\n",
    "# Evaluate the model using Cornac\n",
    "# The Experiment class runs the evaluation using the specified evaluation method and metrics\n",
    "cornac.Experiment(eval_method=eval_method, models=[svd], metrics=metrics).run()\n"
   ]
  },
  {
   "cell_type": "markdown",
   "metadata": {},
   "source": [
    "# Optimization of the model"
   ]
  },
  {
   "cell_type": "markdown",
   "metadata": {},
   "source": [
    "## Optimization of the k hyperparameters"
   ]
  },
  {
   "cell_type": "code",
   "execution_count": null,
   "metadata": {},
   "outputs": [],
   "source": [
    "# List of values for max_iter\n",
    "k = [100, 150, 300, 500]\n",
    "\n",
    "for k in k:\n",
    "    # Initialize the SVD model\n",
    "    # Set the number of latent factors to 50, max_iter to the current value in the loop,\n",
    "    # learning rate to 0.001, and regularization parameter to 0.01\n",
    "    svd = SVD(k=k, max_iter=10, learning_rate=0.001, lambda_reg=0.01)\n",
    "\n",
    "    # Train the model with the training data\n",
    "    svd.fit(train_set)\n",
    "\n",
    "    # Define evaluation metrics\n",
    "    metrics = [RMSE(), MAE(), Precision(k=10), Recall(k=10)]\n",
    "\n",
    "    # Create a RatioSplit object with the evaluation metrics\n",
    "    # RatioSplit splits the data into training and testing sets, based on the specified test_size and seed\n",
    "    eval_method = RatioSplit(data, test_size=0.2, seed=42, metrics=metrics)\n",
    "\n",
    "    # Print the current max_iter value being evaluated\n",
    "    print(f\"Results for max_iter={k}:\")\n",
    "\n",
    "    # Evaluate the model using Cornac\n",
    "    # The Experiment class runs the evaluation using the specified eval_method and metrics\n",
    "    cornac.Experiment(eval_method=eval_method, models=[svd], metrics=metrics).run()\n",
    "\n",
    "    # Print a separator to distinguish between results for different max_iter values\n",
    "    print(f\"Results for max_iter={k} completed.\")"
   ]
  },
  {
   "cell_type": "markdown",
   "metadata": {},
   "source": [
    "The optimal value is obtain at k = 300"
   ]
  },
  {
   "cell_type": "markdown",
   "metadata": {},
   "source": [
    "## Optimization of the max_iter parameters"
   ]
  },
  {
   "cell_type": "code",
   "execution_count": null,
   "metadata": {},
   "outputs": [],
   "source": [
    "# List of values for max_iter\n",
    "max_iter_list = [23, 24, 25, 26, 27, 28]\n",
    "\n",
    "for max_iter in max_iter_list:\n",
    "    # Initialize the SVD model\n",
    "    # Set the number of latent factors to 300, max_iter to the current value in the loop,\n",
    "    # learning rate to 0.003, and regularization parameter to 0.02\n",
    "    svd = SVD(k=300, max_iter=max_iter, learning_rate=0.003, lambda_reg=0.02)\n",
    "\n",
    "    # Train the model using the training data\n",
    "    svd.fit(train_set)\n",
    "\n",
    "    # Define evaluation metrics\n",
    "    metrics = [RMSE(), MAE(), Precision(k=10), Recall(k=10)]\n",
    "\n",
    "    # Create a RatioSplit object with the evaluation metrics\n",
    "    # RatioSplit splits the data into training and testing sets based on the given test_size and seed\n",
    "    eval_method = RatioSplit(data, test_size=0.2, seed=42, metrics=metrics)\n",
    "    \n",
    "    # Print the current max_iter value being evaluated\n",
    "    print(f\"Results for max_iter={max_iter}:\")\n",
    "\n",
    "    # Evaluate the model using Cornac\n",
    "    # The Experiment class runs the evaluation with the specified eval_method and metrics\n",
    "    cornac.Experiment(eval_method=eval_method, models=[svd], metrics=metrics).run()\n",
    "\n",
    "    # Print a separator to distinguish between results for different max_iter values\n",
    "    print(f\"Results for max_iter={max_iter} completed.\")\n"
   ]
  },
  {
   "cell_type": "markdown",
   "metadata": {},
   "source": [
    "The optimal value is obtain at max_iter = 23"
   ]
  },
  {
   "cell_type": "markdown",
   "metadata": {},
   "source": [
    "## Optimization of the learning_rate hyperparameters"
   ]
  },
  {
   "cell_type": "code",
   "execution_count": 26,
   "metadata": {},
   "outputs": [
    {
     "name": "stdout",
     "output_type": "stream",
     "text": [
      "Results for learning_rate=0.0025:\n"
     ]
    },
    {
     "name": "stderr",
     "output_type": "stream",
     "text": [
      "c:\\Users\\33623\\AppData\\Local\\Programs\\Python\\Python312\\Lib\\site-packages\\cornac\\models\\recommender.py:322: UserWarning: Model is already fitted. Re-fitting will overwrite the previous model.\n",
      "  warnings.warn(\n"
     ]
    },
    {
     "name": "stdout",
     "output_type": "stream",
     "text": [
      "\n",
      "TEST:\n",
      "...\n",
      "    |    MAE |   RMSE | Precision@10 | Recall@10 | Train (s) | Test (s)\n",
      "--- + ------ + ------ + ------------ + --------- + --------- + --------\n",
      "SVD | 0.5861 | 0.7439 |       0.1267 |    0.0262 |   30.6509 | 102.0043\n",
      "\n",
      "Evaluation completed for learning_rate=0.0025.\n",
      "Results for learning_rate=0.0026:\n",
      "\n",
      "TEST:\n",
      "...\n",
      "    |    MAE |   RMSE | Precision@10 | Recall@10 | Train (s) | Test (s)\n",
      "--- + ------ + ------ + ------------ + --------- + --------- + --------\n",
      "SVD | 0.5849 | 0.7425 |       0.1271 |    0.0264 |   29.3957 |  97.1177\n",
      "\n",
      "Evaluation completed for learning_rate=0.0026.\n",
      "Results for learning_rate=0.0027:\n",
      "\n",
      "TEST:\n",
      "...\n",
      "    |    MAE |   RMSE | Precision@10 | Recall@10 | Train (s) | Test (s)\n",
      "--- + ------ + ------ + ------------ + --------- + --------- + --------\n",
      "SVD | 0.5837 | 0.7412 |       0.1249 |    0.0259 |   31.9990 | 100.9704\n",
      "\n",
      "Evaluation completed for learning_rate=0.0027.\n",
      "Results for learning_rate=0.0028:\n",
      "\n",
      "TEST:\n",
      "...\n",
      "    |    MAE |   RMSE | Precision@10 | Recall@10 | Train (s) | Test (s)\n",
      "--- + ------ + ------ + ------------ + --------- + --------- + --------\n",
      "SVD | 0.5827 | 0.7400 |       0.1251 |    0.0259 |   34.0374 |  98.7792\n",
      "\n",
      "Evaluation completed for learning_rate=0.0028.\n",
      "Results for learning_rate=0.02:\n",
      "\n",
      "TEST:\n",
      "...\n",
      "    |    MAE |   RMSE | Precision@10 | Recall@10 | Train (s) | Test (s)\n",
      "--- + ------ + ------ + ------------ + --------- + --------- + --------\n",
      "SVD | 0.6068 | 0.7722 |       0.0572 |    0.0122 |   30.1593 | 102.9814\n",
      "\n",
      "Evaluation completed for learning_rate=0.02.\n"
     ]
    }
   ],
   "source": [
    "# List of values for learning_rate\n",
    "learning_rate_list = [0.0025, 0.0026, 0.0027, 0.0028, 0.0029]\n",
    "\n",
    "# Iterate over each learning rate value\n",
    "for learning_rate in learning_rate_list:\n",
    "    # Initialize the SVD model\n",
    "    # Set the number of latent factors to 300, max_iter to a fixed value (e.g., 23),\n",
    "    # learning rate to the current value in the loop, and regularization parameter to 0.02\n",
    "    svd = SVD(k=300, max_iter=23, learning_rate=learning_rate, lambda_reg=0.02)\n",
    "\n",
    "    # Train the model using the training data\n",
    "    svd.fit(train_set)\n",
    "\n",
    "    # Define evaluation metrics\n",
    "    metrics = [RMSE(), MAE(), Precision(k=10), Recall(k=10)]\n",
    "\n",
    "    # Create a RatioSplit object with the evaluation metrics\n",
    "    # RatioSplit splits the data into training and testing sets based on the given test_size and seed\n",
    "    eval_method = RatioSplit(data, test_size=0.2, seed=42, metrics=metrics)\n",
    "\n",
    "    # Print the current learning rate being evaluated\n",
    "    print(f\"Results for learning_rate={learning_rate}:\")\n",
    "\n",
    "    # Evaluate the model using Cornac\n",
    "    # The Experiment class runs the evaluation with the specified eval_method and metrics\n",
    "    cornac.Experiment(eval_method=eval_method, models=[svd], metrics=metrics).run()\n",
    "\n",
    "    # Print a separator to distinguish between results for different learning rates\n",
    "    print(f\"Evaluation completed for learning_rate={learning_rate}.\")\n"
   ]
  },
  {
   "cell_type": "markdown",
   "metadata": {},
   "source": [
    "The optimal value is obtain at learning_rate = 0.0026"
   ]
  },
  {
   "cell_type": "markdown",
   "metadata": {},
   "source": [
    "## Optimization of the lambda_reg"
   ]
  },
  {
   "cell_type": "code",
   "execution_count": 29,
   "metadata": {},
   "outputs": [
    {
     "name": "stdout",
     "output_type": "stream",
     "text": [
      "Results for lambda_reg=0.005:\n"
     ]
    },
    {
     "name": "stderr",
     "output_type": "stream",
     "text": [
      "c:\\Users\\33623\\AppData\\Local\\Programs\\Python\\Python312\\Lib\\site-packages\\cornac\\models\\recommender.py:322: UserWarning: Model is already fitted. Re-fitting will overwrite the previous model.\n",
      "  warnings.warn(\n"
     ]
    },
    {
     "name": "stdout",
     "output_type": "stream",
     "text": [
      "\n",
      "TEST:\n",
      "...\n",
      "    |    MAE |   RMSE | Precision@10 | Recall@10 | Train (s) | Test (s)\n",
      "--- + ------ + ------ + ------------ + --------- + --------- + --------\n",
      "SVD | 0.5890 | 0.7514 |       0.1476 |    0.0307 |   27.6231 |  92.3708\n",
      "\n",
      "Evaluation completed for lambda_reg=0.005.\n",
      "Results for lambda_reg=0.006:\n",
      "\n",
      "TEST:\n",
      "...\n",
      "    |    MAE |   RMSE | Precision@10 | Recall@10 | Train (s) | Test (s)\n",
      "--- + ------ + ------ + ------------ + --------- + --------- + --------\n",
      "SVD | 0.5858 | 0.7474 |       0.1495 |    0.0310 |   27.8618 |  90.4926\n",
      "\n",
      "Evaluation completed for lambda_reg=0.006.\n",
      "Results for lambda_reg=0.007:\n",
      "\n",
      "TEST:\n",
      "...\n",
      "    |    MAE |   RMSE | Precision@10 | Recall@10 | Train (s) | Test (s)\n",
      "--- + ------ + ------ + ------------ + --------- + --------- + --------\n",
      "SVD | 0.5832 | 0.7438 |       0.1501 |    0.0312 |   26.3398 |  89.6741\n",
      "\n",
      "Evaluation completed for lambda_reg=0.007.\n",
      "Results for lambda_reg=0.008:\n",
      "\n",
      "TEST:\n",
      "...\n",
      "    |    MAE |   RMSE | Precision@10 | Recall@10 | Train (s) | Test (s)\n",
      "--- + ------ + ------ + ------------ + --------- + --------- + --------\n",
      "SVD | 0.5814 | 0.7414 |       0.1504 |    0.0313 |   27.2483 |  90.3920\n",
      "\n",
      "Evaluation completed for lambda_reg=0.008.\n",
      "Results for lambda_reg=0.009:\n",
      "\n",
      "TEST:\n",
      "...\n",
      "    |    MAE |   RMSE | Precision@10 | Recall@10 | Train (s) | Test (s)\n",
      "--- + ------ + ------ + ------------ + --------- + --------- + --------\n",
      "SVD | 0.5802 | 0.7396 |       0.1503 |    0.0313 |   29.3669 | 104.4876\n",
      "\n",
      "Evaluation completed for lambda_reg=0.009.\n"
     ]
    }
   ],
   "source": [
    "# List of values for lambda_reg\n",
    "lambda_reg_list = [0.005, 0.006, 0.007, 0.008, 0.009]\n",
    "\n",
    "# Iterate over each lambda_reg value\n",
    "for lambda_reg in lambda_reg_list:\n",
    "    # Initialize the SVD model\n",
    "    # Set the number of latent factors to 150, max_iter to 25, learning rate to 0.001,\n",
    "    # and lambda_reg to the current value in the loop\n",
    "    svd = SVD(k=300, max_iter=23, learning_rate=0.0026, lambda_reg=lambda_reg)\n",
    "\n",
    "    # Train the model using the training data\n",
    "    svd.fit(train_set)\n",
    "\n",
    "    # Define evaluation metrics\n",
    "    metrics = [RMSE(), MAE(), Precision(k=10), Recall(k=10)]\n",
    "\n",
    "    # Create a RatioSplit object with the evaluation metrics\n",
    "    # RatioSplit splits the data into training and testing sets based on the given test_size and seed\n",
    "    eval_method = RatioSplit(data, test_size=0.2, seed=42, metrics=metrics)\n",
    "\n",
    "    # Print the current lambda_reg value being evaluated\n",
    "    print(f\"Results for lambda_reg={lambda_reg}:\")\n",
    "\n",
    "    # Evaluate the model using Cornac\n",
    "    # The Experiment class runs the evaluation with the specified eval_method and metrics\n",
    "    cornac.Experiment(eval_method=eval_method, models=[svd], metrics=metrics).run()\n",
    "\n",
    "    # Print a separator to distinguish between results for different lambda_reg values\n",
    "    print(f\"Evaluation completed for lambda_reg={lambda_reg}.\")"
   ]
  },
  {
   "cell_type": "markdown",
   "metadata": {},
   "source": [
    "The optimal value is obtain at lambda_reg = 0.008"
   ]
  },
  {
   "cell_type": "markdown",
   "metadata": {},
   "source": [
    "## Function for all optimization"
   ]
  },
  {
   "cell_type": "markdown",
   "metadata": {},
   "source": [
    "This solution is quiet long to reach the best parameters"
   ]
  },
  {
   "cell_type": "code",
   "execution_count": null,
   "metadata": {},
   "outputs": [],
   "source": [
    "# List of value\n",
    "k = [100, 150, 300, 500]\n",
    "max_iter_list = [23, 24, 25, 26, 27, 28]\n",
    "learning_rate_list = [0.0025, 0.0026, 0.0027, 0.0028, 0.0029]\n",
    "lambda_reg_list = [0.005, 0.006, 0.007, 0.008, 0.009]\n",
    "\n",
    "# Iterate over each \n",
    "for k in k:\n",
    "    \n",
    "    for max_iter in max_iter_list:\n",
    "        \n",
    "        for learning_rate in learning_rate_list:\n",
    "            \n",
    "            for lambda_reg in lambda_reg_list:\n",
    "                # Initialize the SVD model\n",
    "                svd = SVD(k=k, max_iter=max_iter, learning_rate=learning_rate, lambda_reg=lambda_reg)\n",
    "\n",
    "                # Train the model using the training data\n",
    "                svd.fit(train_set)\n",
    "\n",
    "                # Define evaluation metrics\n",
    "                metrics = [RMSE(), MAE(), Precision(k=10), Recall(k=10)]\n",
    "\n",
    "                # Create a RatioSplit object with the evaluation metrics\n",
    "                # RatioSplit splits the data into training and testing sets based on the given test_size and seed\n",
    "                eval_method = RatioSplit(data, test_size=0.2, seed=42, metrics=metrics)\n",
    "\n",
    "                # Print the current lambda_reg value being evaluated\n",
    "                print(f\"Results for k={k},  max_iter={max_iter}, learning_rate={learning_rate} & lambda_reg={lambda_reg}:\")\n",
    "\n",
    "                # Evaluate the model using Cornac\n",
    "                # The Experiment class runs the evaluation with the specified eval_method and metrics\n",
    "                cornac.Experiment(eval_method=eval_method, models=[svd], metrics=metrics).run()\n",
    "\n",
    "                # Print a separator to distinguish between results for different lambda_reg values\n",
    "                print(f\"Evaluation completed for k={k},  max_iter={max_iter}, learning_rate={learning_rate} & lambda_reg={lambda_reg}.\")\n"
   ]
  },
  {
   "cell_type": "markdown",
   "metadata": {},
   "source": [
    "# Recommendation function"
   ]
  },
  {
   "cell_type": "code",
   "execution_count": 30,
   "metadata": {},
   "outputs": [],
   "source": [
    "def recommend_top_n(user_id, n=10):\n",
    "    \"\"\"\n",
    "    Recommend the top N movies for a given user based on the trained SVD model.\n",
    "\n",
    "    Parameters:\n",
    "    user_id (int): The ID of the user for whom recommendations are to be generated.\n",
    "    n (int): The number of top recommendations to return (default is 10).\n",
    "\n",
    "    Returns:\n",
    "    Tuple of two DataFrames:\n",
    "        - DataFrame of movies already seen by the user with ratings.\n",
    "        - DataFrame of top N recommended movies with predicted scores.\n",
    "    \"\"\"\n",
    "\n",
    "    # Check if the user is in the training data\n",
    "    if user_id not in train_set.user_ids:\n",
    "        raise ValueError(f\"User {user_id} not found in the training data.\")\n",
    "    \n",
    "    # Movies already seen by the user, sorted by rating\n",
    "    user_seen = ratings_df[ratings_df['userId'] == user_id].sort_values(by='rating', ascending=False)\n",
    "    top_n_seen = user_seen[['movieId', 'rating']].merge(movies_df[['movieId', 'title', 'genres']], on='movieId').head(n)\n",
    "    \n",
    "    # Get all unique movie IDs\n",
    "    movie_ids = ratings_df['movieId'].unique()\n",
    "\n",
    "    # Use the trained SVD model to get predicted scores for all movies for the given user\n",
    "    scores = svd.score(user_id)\n",
    "\n",
    "    # Associate the scores with movie IDs\n",
    "    user_predictions = list(zip(movie_ids, scores))\n",
    "\n",
    "    # Sort predictions by score in descending order and get the top N\n",
    "    user_predictions.sort(key=lambda x: x[1], reverse=True)\n",
    "    top_n_predictions = user_predictions[:n]\n",
    "\n",
    "    # Extract the movie IDs for the top N recommendations\n",
    "    top_n_movie_ids = [pred[0] for pred in top_n_predictions]\n",
    "\n",
    "    # Retrieve the titles and genres of the recommended movies\n",
    "    top_n_movies = movies_df[movies_df['movieId'].isin(top_n_movie_ids)][['movieId', 'title', 'genres']]\n",
    "    top_n_movies = top_n_movies.merge(pd.DataFrame(top_n_predictions, columns=['movieId', 'score']), on='movieId')\n",
    "\n",
    "    # Return two DataFrames: seen movies and recommended movies\n",
    "    return top_n_seen[['title', 'genres', 'rating']], top_n_movies[['title', 'genres', 'score']].sort_values(by='score', ascending=False)\n"
   ]
  },
  {
   "cell_type": "code",
   "execution_count": 31,
   "metadata": {},
   "outputs": [],
   "source": [
    "def display_recommendations(user_id, n=10):\n",
    "    top_n_seen, top_n_recommendations = recommend_top_n(user_id, n)\n",
    "\n",
    "    print(f\"Top 10 films vus par l'utilisateur {user_id} :\")\n",
    "    display(top_n_seen)  # Afficher le DataFrame des films vus\n",
    "    \n",
    "    print(\"\\nLes recommandations faites sont les suivantes :\")\n",
    "    display(top_n_recommendations)  # Afficher le DataFrame des recommandations\n"
   ]
  },
  {
   "cell_type": "markdown",
   "metadata": {},
   "source": [
    "# Used function"
   ]
  },
  {
   "cell_type": "code",
   "execution_count": 32,
   "metadata": {},
   "outputs": [
    {
     "name": "stdout",
     "output_type": "stream",
     "text": [
      "Top 10 films vus par l'utilisateur 1 :\n"
     ]
    },
    {
     "data": {
      "text/html": [
       "<div>\n",
       "<style scoped>\n",
       "    .dataframe tbody tr th:only-of-type {\n",
       "        vertical-align: middle;\n",
       "    }\n",
       "\n",
       "    .dataframe tbody tr th {\n",
       "        vertical-align: top;\n",
       "    }\n",
       "\n",
       "    .dataframe thead th {\n",
       "        text-align: right;\n",
       "    }\n",
       "</style>\n",
       "<table border=\"1\" class=\"dataframe\">\n",
       "  <thead>\n",
       "    <tr style=\"text-align: right;\">\n",
       "      <th></th>\n",
       "      <th>title</th>\n",
       "      <th>genres</th>\n",
       "      <th>rating</th>\n",
       "    </tr>\n",
       "  </thead>\n",
       "  <tbody>\n",
       "    <tr>\n",
       "      <th>0</th>\n",
       "      <td>Freaks</td>\n",
       "      <td>Crime|Drama|Horror</td>\n",
       "      <td>5.0</td>\n",
       "    </tr>\n",
       "    <tr>\n",
       "      <th>1</th>\n",
       "      <td>Lord of the Rings: The Fellowship of the Ring,...</td>\n",
       "      <td>Adventure|Fantasy</td>\n",
       "      <td>5.0</td>\n",
       "    </tr>\n",
       "    <tr>\n",
       "      <th>2</th>\n",
       "      <td>Lord of the Rings: The Two Towers, The</td>\n",
       "      <td>Adventure|Fantasy</td>\n",
       "      <td>5.0</td>\n",
       "    </tr>\n",
       "    <tr>\n",
       "      <th>3</th>\n",
       "      <td>Lord of the Rings: The Return of the King, The</td>\n",
       "      <td>Action|Adventure|Drama|Fantasy</td>\n",
       "      <td>5.0</td>\n",
       "    </tr>\n",
       "    <tr>\n",
       "      <th>4</th>\n",
       "      <td>Star Wars: Episode V - The Empire Strikes Back</td>\n",
       "      <td>Action|Adventure|Sci-Fi</td>\n",
       "      <td>4.5</td>\n",
       "    </tr>\n",
       "    <tr>\n",
       "      <th>5</th>\n",
       "      <td>Raiders of the Lost Ark (Indiana Jones and the...</td>\n",
       "      <td>Action|Adventure</td>\n",
       "      <td>4.5</td>\n",
       "    </tr>\n",
       "    <tr>\n",
       "      <th>6</th>\n",
       "      <td>Spider-Man 2</td>\n",
       "      <td>Action|Adventure|Sci-Fi|IMAX</td>\n",
       "      <td>4.5</td>\n",
       "    </tr>\n",
       "    <tr>\n",
       "      <th>7</th>\n",
       "      <td>Constantine</td>\n",
       "      <td>Action|Fantasy|Horror|Thriller</td>\n",
       "      <td>4.0</td>\n",
       "    </tr>\n",
       "    <tr>\n",
       "      <th>8</th>\n",
       "      <td>Watership Down</td>\n",
       "      <td>Adventure|Animation|Children|Drama|Fantasy</td>\n",
       "      <td>4.0</td>\n",
       "    </tr>\n",
       "    <tr>\n",
       "      <th>9</th>\n",
       "      <td>Dragonslayer</td>\n",
       "      <td>Action|Adventure|Fantasy</td>\n",
       "      <td>4.0</td>\n",
       "    </tr>\n",
       "  </tbody>\n",
       "</table>\n",
       "</div>"
      ],
      "text/plain": [
       "                                               title  \\\n",
       "0                                             Freaks   \n",
       "1  Lord of the Rings: The Fellowship of the Ring,...   \n",
       "2             Lord of the Rings: The Two Towers, The   \n",
       "3     Lord of the Rings: The Return of the King, The   \n",
       "4     Star Wars: Episode V - The Empire Strikes Back   \n",
       "5  Raiders of the Lost Ark (Indiana Jones and the...   \n",
       "6                                       Spider-Man 2   \n",
       "7                                        Constantine   \n",
       "8                                     Watership Down   \n",
       "9                                       Dragonslayer   \n",
       "\n",
       "                                       genres  rating  \n",
       "0                          Crime|Drama|Horror     5.0  \n",
       "1                           Adventure|Fantasy     5.0  \n",
       "2                           Adventure|Fantasy     5.0  \n",
       "3              Action|Adventure|Drama|Fantasy     5.0  \n",
       "4                     Action|Adventure|Sci-Fi     4.5  \n",
       "5                            Action|Adventure     4.5  \n",
       "6                Action|Adventure|Sci-Fi|IMAX     4.5  \n",
       "7              Action|Fantasy|Horror|Thriller     4.0  \n",
       "8  Adventure|Animation|Children|Drama|Fantasy     4.0  \n",
       "9                    Action|Adventure|Fantasy     4.0  "
      ]
     },
     "metadata": {},
     "output_type": "display_data"
    },
    {
     "name": "stdout",
     "output_type": "stream",
     "text": [
      "\n",
      "Les recommandations faites sont les suivantes :\n"
     ]
    },
    {
     "data": {
      "text/html": [
       "<div>\n",
       "<style scoped>\n",
       "    .dataframe tbody tr th:only-of-type {\n",
       "        vertical-align: middle;\n",
       "    }\n",
       "\n",
       "    .dataframe tbody tr th {\n",
       "        vertical-align: top;\n",
       "    }\n",
       "\n",
       "    .dataframe thead th {\n",
       "        text-align: right;\n",
       "    }\n",
       "</style>\n",
       "<table border=\"1\" class=\"dataframe\">\n",
       "  <thead>\n",
       "    <tr style=\"text-align: right;\">\n",
       "      <th></th>\n",
       "      <th>title</th>\n",
       "      <th>genres</th>\n",
       "      <th>score</th>\n",
       "    </tr>\n",
       "  </thead>\n",
       "  <tbody>\n",
       "    <tr>\n",
       "      <th>1</th>\n",
       "      <td>Jaws</td>\n",
       "      <td>Action|Horror</td>\n",
       "      <td>5.280891</td>\n",
       "    </tr>\n",
       "    <tr>\n",
       "      <th>7</th>\n",
       "      <td>Snatch</td>\n",
       "      <td>Comedy|Crime|Thriller</td>\n",
       "      <td>5.241471</td>\n",
       "    </tr>\n",
       "    <tr>\n",
       "      <th>4</th>\n",
       "      <td>Pi</td>\n",
       "      <td>Drama|Sci-Fi|Thriller</td>\n",
       "      <td>5.185878</td>\n",
       "    </tr>\n",
       "    <tr>\n",
       "      <th>8</th>\n",
       "      <td>Before the Devil Knows You're Dead</td>\n",
       "      <td>Crime|Drama|Thriller</td>\n",
       "      <td>5.160434</td>\n",
       "    </tr>\n",
       "    <tr>\n",
       "      <th>5</th>\n",
       "      <td>Dirty Dozen, The</td>\n",
       "      <td>Action|Drama|War</td>\n",
       "      <td>5.089878</td>\n",
       "    </tr>\n",
       "    <tr>\n",
       "      <th>2</th>\n",
       "      <td>Truman Show, The</td>\n",
       "      <td>Comedy|Drama|Sci-Fi</td>\n",
       "      <td>4.994098</td>\n",
       "    </tr>\n",
       "    <tr>\n",
       "      <th>6</th>\n",
       "      <td>Being John Malkovich</td>\n",
       "      <td>Comedy|Drama|Fantasy</td>\n",
       "      <td>4.937565</td>\n",
       "    </tr>\n",
       "    <tr>\n",
       "      <th>3</th>\n",
       "      <td>Primary Colors</td>\n",
       "      <td>Comedy|Drama</td>\n",
       "      <td>4.933546</td>\n",
       "    </tr>\n",
       "    <tr>\n",
       "      <th>9</th>\n",
       "      <td>Chain Reaction</td>\n",
       "      <td>Horror</td>\n",
       "      <td>4.904399</td>\n",
       "    </tr>\n",
       "    <tr>\n",
       "      <th>0</th>\n",
       "      <td>Wizard of Oz, The</td>\n",
       "      <td>Adventure|Children|Fantasy|Musical</td>\n",
       "      <td>4.873779</td>\n",
       "    </tr>\n",
       "  </tbody>\n",
       "</table>\n",
       "</div>"
      ],
      "text/plain": [
       "                                title                              genres  \\\n",
       "1                                Jaws                       Action|Horror   \n",
       "7                              Snatch               Comedy|Crime|Thriller   \n",
       "4                                  Pi               Drama|Sci-Fi|Thriller   \n",
       "8  Before the Devil Knows You're Dead                Crime|Drama|Thriller   \n",
       "5                    Dirty Dozen, The                    Action|Drama|War   \n",
       "2                    Truman Show, The                 Comedy|Drama|Sci-Fi   \n",
       "6                Being John Malkovich                Comedy|Drama|Fantasy   \n",
       "3                      Primary Colors                        Comedy|Drama   \n",
       "9                      Chain Reaction                              Horror   \n",
       "0                   Wizard of Oz, The  Adventure|Children|Fantasy|Musical   \n",
       "\n",
       "      score  \n",
       "1  5.280891  \n",
       "7  5.241471  \n",
       "4  5.185878  \n",
       "8  5.160434  \n",
       "5  5.089878  \n",
       "2  4.994098  \n",
       "6  4.937565  \n",
       "3  4.933546  \n",
       "9  4.904399  \n",
       "0  4.873779  "
      ]
     },
     "metadata": {},
     "output_type": "display_data"
    }
   ],
   "source": [
    "# Example usage\n",
    "user_id_example = 1  # Replace with a valid user ID from your dataset\n",
    "display_recommendations(user_id_example, n=10)\n"
   ]
  },
  {
   "cell_type": "markdown",
   "metadata": {},
   "source": []
  }
 ],
 "metadata": {
  "kernelspec": {
   "display_name": "Python 3",
   "language": "python",
   "name": "python3"
  },
  "language_info": {
   "codemirror_mode": {
    "name": "ipython",
    "version": 3
   },
   "file_extension": ".py",
   "mimetype": "text/x-python",
   "name": "python",
   "nbconvert_exporter": "python",
   "pygments_lexer": "ipython3",
   "version": "3.12.3"
  }
 },
 "nbformat": 4,
 "nbformat_minor": 2
}
