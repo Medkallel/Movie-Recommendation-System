{
 "cells": [
  {
   "cell_type": "code",
   "execution_count": 10,
   "metadata": {},
   "outputs": [
    {
     "name": "stderr",
     "output_type": "stream",
     "text": [
      "[nltk_data] Downloading package punkt to\n",
      "[nltk_data]     C:\\Users\\jcrig\\AppData\\Roaming\\nltk_data...\n",
      "[nltk_data]   Package punkt is already up-to-date!\n",
      "[nltk_data] Downloading package word2vec_sample to\n",
      "[nltk_data]     C:\\Users\\jcrig\\AppData\\Roaming\\nltk_data...\n",
      "[nltk_data]   Package word2vec_sample is already up-to-date!\n"
     ]
    }
   ],
   "source": [
    "# Importing necessary libraries\n",
    "import nltk\n",
    "from nltk.data import find\n",
    "import gensim\n",
    "\n",
    "# Downloading required NLTK resources\n",
    "nltk.download('punkt')  # Downloading tokenizers for NLTK\n",
    "nltk.download('word2vec_sample')  # Downloading the word2vec sample model\n",
    "\n",
    "# Finding the path of the pre-trained word2vec model\n",
    "word2vec_sample = str(find('models/word2vec_sample/pruned.word2vec.txt'))\n",
    "\n",
    "# Loading the pre-trained word2vec model using Gensim\n",
    "model = gensim.models.KeyedVectors.load_word2vec_format(word2vec_sample, binary=False)"
   ]
  },
  {
   "cell_type": "code",
   "execution_count": 11,
   "metadata": {},
   "outputs": [],
   "source": [
    "import numpy as np\n",
    "import pandas as pd"
   ]
  },
  {
   "cell_type": "code",
   "execution_count": 12,
   "metadata": {},
   "outputs": [],
   "source": [
    "df = pd.read_csv('output_data\\\\384k_tags_wo_names.csv')"
   ]
  },
  {
   "cell_type": "code",
   "execution_count": 13,
   "metadata": {},
   "outputs": [
    {
     "data": {
      "text/html": [
       "<div>\n",
       "<style scoped>\n",
       "    .dataframe tbody tr th:only-of-type {\n",
       "        vertical-align: middle;\n",
       "    }\n",
       "\n",
       "    .dataframe tbody tr th {\n",
       "        vertical-align: top;\n",
       "    }\n",
       "\n",
       "    .dataframe thead th {\n",
       "        text-align: right;\n",
       "    }\n",
       "</style>\n",
       "<table border=\"1\" class=\"dataframe\">\n",
       "  <thead>\n",
       "    <tr style=\"text-align: right;\">\n",
       "      <th></th>\n",
       "      <th>userId</th>\n",
       "      <th>movieId</th>\n",
       "      <th>tag</th>\n",
       "      <th>age</th>\n",
       "    </tr>\n",
       "  </thead>\n",
       "  <tbody>\n",
       "    <tr>\n",
       "      <th>0</th>\n",
       "      <td>65</td>\n",
       "      <td>208</td>\n",
       "      <td>dark hero</td>\n",
       "      <td>11.0</td>\n",
       "    </tr>\n",
       "    <tr>\n",
       "      <th>1</th>\n",
       "      <td>65</td>\n",
       "      <td>353</td>\n",
       "      <td>dark hero</td>\n",
       "      <td>11.0</td>\n",
       "    </tr>\n",
       "    <tr>\n",
       "      <th>2</th>\n",
       "      <td>65</td>\n",
       "      <td>521</td>\n",
       "      <td>noir thriller</td>\n",
       "      <td>11.0</td>\n",
       "    </tr>\n",
       "    <tr>\n",
       "      <th>3</th>\n",
       "      <td>65</td>\n",
       "      <td>592</td>\n",
       "      <td>dark hero</td>\n",
       "      <td>11.0</td>\n",
       "    </tr>\n",
       "    <tr>\n",
       "      <th>4</th>\n",
       "      <td>65</td>\n",
       "      <td>668</td>\n",
       "      <td>bollywood</td>\n",
       "      <td>11.0</td>\n",
       "    </tr>\n",
       "  </tbody>\n",
       "</table>\n",
       "</div>"
      ],
      "text/plain": [
       "   userId  movieId            tag   age\n",
       "0      65      208      dark hero  11.0\n",
       "1      65      353      dark hero  11.0\n",
       "2      65      521  noir thriller  11.0\n",
       "3      65      592      dark hero  11.0\n",
       "4      65      668      bollywood  11.0"
      ]
     },
     "execution_count": 13,
     "metadata": {},
     "output_type": "execute_result"
    }
   ],
   "source": [
    "#df.drop('Unnamed: 0', axis=1, inplace=True)\n",
    "df.head(5)"
   ]
  },
  {
   "cell_type": "code",
   "execution_count": 14,
   "metadata": {},
   "outputs": [
    {
     "data": {
      "text/plain": [
       "384120"
      ]
     },
     "execution_count": 14,
     "metadata": {},
     "output_type": "execute_result"
    }
   ],
   "source": [
    "len(df)"
   ]
  },
  {
   "cell_type": "code",
   "execution_count": 15,
   "metadata": {},
   "outputs": [
    {
     "data": {
      "text/html": [
       "<div>\n",
       "<style scoped>\n",
       "    .dataframe tbody tr th:only-of-type {\n",
       "        vertical-align: middle;\n",
       "    }\n",
       "\n",
       "    .dataframe tbody tr th {\n",
       "        vertical-align: top;\n",
       "    }\n",
       "\n",
       "    .dataframe thead th {\n",
       "        text-align: right;\n",
       "    }\n",
       "</style>\n",
       "<table border=\"1\" class=\"dataframe\">\n",
       "  <thead>\n",
       "    <tr style=\"text-align: right;\">\n",
       "      <th></th>\n",
       "      <th>userId</th>\n",
       "      <th>movieId</th>\n",
       "      <th>tag</th>\n",
       "      <th>age</th>\n",
       "      <th>vector</th>\n",
       "    </tr>\n",
       "  </thead>\n",
       "  <tbody>\n",
       "    <tr>\n",
       "      <th>0</th>\n",
       "      <td>65</td>\n",
       "      <td>208</td>\n",
       "      <td>dark hero</td>\n",
       "      <td>11.0</td>\n",
       "      <td>[0.1728352, 0.110455096, 0.1315891, -0.0210759...</td>\n",
       "    </tr>\n",
       "    <tr>\n",
       "      <th>1</th>\n",
       "      <td>65</td>\n",
       "      <td>353</td>\n",
       "      <td>dark hero</td>\n",
       "      <td>11.0</td>\n",
       "      <td>[0.1728352, 0.110455096, 0.1315891, -0.0210759...</td>\n",
       "    </tr>\n",
       "    <tr>\n",
       "      <th>3</th>\n",
       "      <td>65</td>\n",
       "      <td>592</td>\n",
       "      <td>dark hero</td>\n",
       "      <td>11.0</td>\n",
       "      <td>[0.1728352, 0.110455096, 0.1315891, -0.0210759...</td>\n",
       "    </tr>\n",
       "    <tr>\n",
       "      <th>5</th>\n",
       "      <td>65</td>\n",
       "      <td>898</td>\n",
       "      <td>screwball comedy</td>\n",
       "      <td>11.0</td>\n",
       "      <td>[0.059081092, -0.037012, 0.030395936, 0.240585...</td>\n",
       "    </tr>\n",
       "    <tr>\n",
       "      <th>7</th>\n",
       "      <td>65</td>\n",
       "      <td>1391</td>\n",
       "      <td>mars</td>\n",
       "      <td>11.0</td>\n",
       "      <td>[0.00196312, 0.0980603, 0.0234936, -0.0271964,...</td>\n",
       "    </tr>\n",
       "  </tbody>\n",
       "</table>\n",
       "</div>"
      ],
      "text/plain": [
       "   userId  movieId               tag   age  \\\n",
       "0      65      208         dark hero  11.0   \n",
       "1      65      353         dark hero  11.0   \n",
       "3      65      592         dark hero  11.0   \n",
       "5      65      898  screwball comedy  11.0   \n",
       "7      65     1391              mars  11.0   \n",
       "\n",
       "                                              vector  \n",
       "0  [0.1728352, 0.110455096, 0.1315891, -0.0210759...  \n",
       "1  [0.1728352, 0.110455096, 0.1315891, -0.0210759...  \n",
       "3  [0.1728352, 0.110455096, 0.1315891, -0.0210759...  \n",
       "5  [0.059081092, -0.037012, 0.030395936, 0.240585...  \n",
       "7  [0.00196312, 0.0980603, 0.0234936, -0.0271964,...  "
      ]
     },
     "execution_count": 15,
     "metadata": {},
     "output_type": "execute_result"
    }
   ],
   "source": [
    "# Fonction pour vectoriser les mots d'une tag\n",
    "def vectorize_tag(tag, model):\n",
    "    vectors = []\n",
    "    for word in tag.split():\n",
    "        if word in model:\n",
    "            vectors.append(model[word])\n",
    "        else:\n",
    "            return np.nan  # Retourne NaN si un mot n'est pas reconnu\n",
    "    return np.sum(vectors, axis=0)  # Somme des vecteurs pour chaque tag\n",
    "\n",
    "# Appliquer la fonction de vectorisation\n",
    "df['vector'] = df['tag'].apply(lambda x: vectorize_tag(x, model))\n",
    "\n",
    "# Supprimer les lignes où le vector est NaN (c'est-à-dire les lignes avec des mots non reconnus)\n",
    "df.dropna(subset=['vector'], inplace=True)\n",
    "df.head(5)"
   ]
  },
  {
   "cell_type": "code",
   "execution_count": 19,
   "metadata": {},
   "outputs": [
    {
     "data": {
      "text/plain": [
       "array([ 0.00196312,  0.0980603 ,  0.0234936 , -0.0271964 ,  0.0145558 ,\n",
       "        0.066395  ,  0.112361  , -0.0595001 ], dtype=float32)"
      ]
     },
     "execution_count": 19,
     "metadata": {},
     "output_type": "execute_result"
    }
   ],
   "source": [
    "model[\"mars\"][:8]\n",
    "#le modele ne comprend pas les noms propres il faut eliminer ces mots, c'est du bruit\n"
   ]
  },
  {
   "cell_type": "code",
   "execution_count": 17,
   "metadata": {},
   "outputs": [
    {
     "data": {
      "text/plain": [
       "(237015, 5)"
      ]
     },
     "execution_count": 17,
     "metadata": {},
     "output_type": "execute_result"
    }
   ],
   "source": [
    "df.shape"
   ]
  },
  {
   "cell_type": "code",
   "execution_count": 20,
   "metadata": {},
   "outputs": [
    {
     "data": {
      "text/html": [
       "<div>\n",
       "<style scoped>\n",
       "    .dataframe tbody tr th:only-of-type {\n",
       "        vertical-align: middle;\n",
       "    }\n",
       "\n",
       "    .dataframe tbody tr th {\n",
       "        vertical-align: top;\n",
       "    }\n",
       "\n",
       "    .dataframe thead th {\n",
       "        text-align: right;\n",
       "    }\n",
       "</style>\n",
       "<table border=\"1\" class=\"dataframe\">\n",
       "  <thead>\n",
       "    <tr style=\"text-align: right;\">\n",
       "      <th></th>\n",
       "      <th>tagId</th>\n",
       "      <th>tag</th>\n",
       "    </tr>\n",
       "  </thead>\n",
       "  <tbody>\n",
       "    <tr>\n",
       "      <th>0</th>\n",
       "      <td>1</td>\n",
       "      <td>007</td>\n",
       "    </tr>\n",
       "    <tr>\n",
       "      <th>1</th>\n",
       "      <td>2</td>\n",
       "      <td>007 (series)</td>\n",
       "    </tr>\n",
       "    <tr>\n",
       "      <th>2</th>\n",
       "      <td>3</td>\n",
       "      <td>18th century</td>\n",
       "    </tr>\n",
       "    <tr>\n",
       "      <th>3</th>\n",
       "      <td>4</td>\n",
       "      <td>1920s</td>\n",
       "    </tr>\n",
       "    <tr>\n",
       "      <th>4</th>\n",
       "      <td>5</td>\n",
       "      <td>1930s</td>\n",
       "    </tr>\n",
       "  </tbody>\n",
       "</table>\n",
       "</div>"
      ],
      "text/plain": [
       "   tagId           tag\n",
       "0      1           007\n",
       "1      2  007 (series)\n",
       "2      3  18th century\n",
       "3      4         1920s\n",
       "4      5         1930s"
      ]
     },
     "execution_count": 20,
     "metadata": {},
     "output_type": "execute_result"
    }
   ],
   "source": [
    "df_genome_tags = pd.read_csv('input_data\\genome_tags.csv')\n",
    "df_genome_tags.head(5)"
   ]
  },
  {
   "cell_type": "code",
   "execution_count": 21,
   "metadata": {},
   "outputs": [
    {
     "data": {
      "text/html": [
       "<div>\n",
       "<style scoped>\n",
       "    .dataframe tbody tr th:only-of-type {\n",
       "        vertical-align: middle;\n",
       "    }\n",
       "\n",
       "    .dataframe tbody tr th {\n",
       "        vertical-align: top;\n",
       "    }\n",
       "\n",
       "    .dataframe thead th {\n",
       "        text-align: right;\n",
       "    }\n",
       "</style>\n",
       "<table border=\"1\" class=\"dataframe\">\n",
       "  <thead>\n",
       "    <tr style=\"text-align: right;\">\n",
       "      <th></th>\n",
       "      <th>tagId</th>\n",
       "      <th>tag</th>\n",
       "      <th>vector</th>\n",
       "    </tr>\n",
       "  </thead>\n",
       "  <tbody>\n",
       "    <tr>\n",
       "      <th>16</th>\n",
       "      <td>17</td>\n",
       "      <td>abortion</td>\n",
       "      <td>[0.00777556, 0.0238052, 0.0669894, 0.0890002, ...</td>\n",
       "    </tr>\n",
       "    <tr>\n",
       "      <th>17</th>\n",
       "      <td>18</td>\n",
       "      <td>absurd</td>\n",
       "      <td>[0.0468222, -0.050771, 0.0409929, 0.0389245, -...</td>\n",
       "    </tr>\n",
       "    <tr>\n",
       "      <th>18</th>\n",
       "      <td>19</td>\n",
       "      <td>action</td>\n",
       "      <td>[-0.0138909, 0.0633263, 0.0185893, 0.0105203, ...</td>\n",
       "    </tr>\n",
       "    <tr>\n",
       "      <th>19</th>\n",
       "      <td>20</td>\n",
       "      <td>action packed</td>\n",
       "      <td>[0.0420461, 0.0945427, -0.0084770005, 0.010103...</td>\n",
       "    </tr>\n",
       "    <tr>\n",
       "      <th>20</th>\n",
       "      <td>21</td>\n",
       "      <td>adaptation</td>\n",
       "      <td>[0.0837244, -0.0257734, -0.0665421, 0.0565452,...</td>\n",
       "    </tr>\n",
       "  </tbody>\n",
       "</table>\n",
       "</div>"
      ],
      "text/plain": [
       "    tagId            tag                                             vector\n",
       "16     17       abortion  [0.00777556, 0.0238052, 0.0669894, 0.0890002, ...\n",
       "17     18         absurd  [0.0468222, -0.050771, 0.0409929, 0.0389245, -...\n",
       "18     19         action  [-0.0138909, 0.0633263, 0.0185893, 0.0105203, ...\n",
       "19     20  action packed  [0.0420461, 0.0945427, -0.0084770005, 0.010103...\n",
       "20     21     adaptation  [0.0837244, -0.0257734, -0.0665421, 0.0565452,..."
      ]
     },
     "execution_count": 21,
     "metadata": {},
     "output_type": "execute_result"
    }
   ],
   "source": [
    "# Fonction pour vectoriser les mots d'une tag\n",
    "def vectorize_tag(tag, model):\n",
    "    vectors = []\n",
    "    for word in tag.split():\n",
    "        if word in model:\n",
    "            vectors.append(model[word])\n",
    "        else:\n",
    "            return np.nan  # Retourne NaN si un mot n'est pas reconnu\n",
    "    return np.sum(vectors, axis=0)  # Somme des vecteurs pour chaque tag\n",
    "\n",
    "# Appliquer la fonction de vectorisation\n",
    "df_genome_tags['vector'] = df_genome_tags['tag'].apply(lambda x: vectorize_tag(x, model))\n",
    "\n",
    "# Supprimer les lignes où le vector est NaN (c'est-à-dire les lignes avec des mots non reconnus)\n",
    "df_genome_tags.dropna(subset=['vector'], inplace=True)\n",
    "df_genome_tags.head(5)"
   ]
  },
  {
   "cell_type": "code",
   "execution_count": 22,
   "metadata": {},
   "outputs": [
    {
     "data": {
      "text/html": [
       "<div>\n",
       "<style scoped>\n",
       "    .dataframe tbody tr th:only-of-type {\n",
       "        vertical-align: middle;\n",
       "    }\n",
       "\n",
       "    .dataframe tbody tr th {\n",
       "        vertical-align: top;\n",
       "    }\n",
       "\n",
       "    .dataframe thead th {\n",
       "        text-align: right;\n",
       "    }\n",
       "</style>\n",
       "<table border=\"1\" class=\"dataframe\">\n",
       "  <thead>\n",
       "    <tr style=\"text-align: right;\">\n",
       "      <th></th>\n",
       "      <th>movieId</th>\n",
       "      <th>tagId</th>\n",
       "      <th>relevance</th>\n",
       "    </tr>\n",
       "  </thead>\n",
       "  <tbody>\n",
       "    <tr>\n",
       "      <th>0</th>\n",
       "      <td>1</td>\n",
       "      <td>1</td>\n",
       "      <td>0.02500</td>\n",
       "    </tr>\n",
       "    <tr>\n",
       "      <th>1</th>\n",
       "      <td>1</td>\n",
       "      <td>2</td>\n",
       "      <td>0.02500</td>\n",
       "    </tr>\n",
       "    <tr>\n",
       "      <th>2</th>\n",
       "      <td>1</td>\n",
       "      <td>3</td>\n",
       "      <td>0.05775</td>\n",
       "    </tr>\n",
       "    <tr>\n",
       "      <th>3</th>\n",
       "      <td>1</td>\n",
       "      <td>4</td>\n",
       "      <td>0.09675</td>\n",
       "    </tr>\n",
       "    <tr>\n",
       "      <th>4</th>\n",
       "      <td>1</td>\n",
       "      <td>5</td>\n",
       "      <td>0.14675</td>\n",
       "    </tr>\n",
       "  </tbody>\n",
       "</table>\n",
       "</div>"
      ],
      "text/plain": [
       "   movieId  tagId  relevance\n",
       "0        1      1    0.02500\n",
       "1        1      2    0.02500\n",
       "2        1      3    0.05775\n",
       "3        1      4    0.09675\n",
       "4        1      5    0.14675"
      ]
     },
     "execution_count": 22,
     "metadata": {},
     "output_type": "execute_result"
    }
   ],
   "source": [
    "df_genome_scores = pd.read_csv('input_data\\genome_scores.csv')\n",
    "df_genome_scores.head(5)"
   ]
  },
  {
   "cell_type": "code",
   "execution_count": 23,
   "metadata": {},
   "outputs": [
    {
     "data": {
      "text/html": [
       "<div>\n",
       "<style scoped>\n",
       "    .dataframe tbody tr th:only-of-type {\n",
       "        vertical-align: middle;\n",
       "    }\n",
       "\n",
       "    .dataframe tbody tr th {\n",
       "        vertical-align: top;\n",
       "    }\n",
       "\n",
       "    .dataframe thead th {\n",
       "        text-align: right;\n",
       "    }\n",
       "</style>\n",
       "<table border=\"1\" class=\"dataframe\">\n",
       "  <thead>\n",
       "    <tr style=\"text-align: right;\">\n",
       "      <th></th>\n",
       "      <th>tagId</th>\n",
       "      <th>tag</th>\n",
       "      <th>vector</th>\n",
       "      <th>movieId</th>\n",
       "      <th>relevance</th>\n",
       "    </tr>\n",
       "  </thead>\n",
       "  <tbody>\n",
       "    <tr>\n",
       "      <th>0</th>\n",
       "      <td>17</td>\n",
       "      <td>abortion</td>\n",
       "      <td>[0.00777556, 0.0238052, 0.0669894, 0.0890002, ...</td>\n",
       "      <td>1</td>\n",
       "      <td>0.00700</td>\n",
       "    </tr>\n",
       "    <tr>\n",
       "      <th>1</th>\n",
       "      <td>17</td>\n",
       "      <td>abortion</td>\n",
       "      <td>[0.00777556, 0.0238052, 0.0669894, 0.0890002, ...</td>\n",
       "      <td>2</td>\n",
       "      <td>0.00950</td>\n",
       "    </tr>\n",
       "    <tr>\n",
       "      <th>2</th>\n",
       "      <td>17</td>\n",
       "      <td>abortion</td>\n",
       "      <td>[0.00777556, 0.0238052, 0.0669894, 0.0890002, ...</td>\n",
       "      <td>3</td>\n",
       "      <td>0.01175</td>\n",
       "    </tr>\n",
       "    <tr>\n",
       "      <th>3</th>\n",
       "      <td>17</td>\n",
       "      <td>abortion</td>\n",
       "      <td>[0.00777556, 0.0238052, 0.0669894, 0.0890002, ...</td>\n",
       "      <td>4</td>\n",
       "      <td>0.01400</td>\n",
       "    </tr>\n",
       "    <tr>\n",
       "      <th>4</th>\n",
       "      <td>17</td>\n",
       "      <td>abortion</td>\n",
       "      <td>[0.00777556, 0.0238052, 0.0669894, 0.0890002, ...</td>\n",
       "      <td>5</td>\n",
       "      <td>0.01425</td>\n",
       "    </tr>\n",
       "  </tbody>\n",
       "</table>\n",
       "</div>"
      ],
      "text/plain": [
       "   tagId       tag                                             vector  \\\n",
       "0     17  abortion  [0.00777556, 0.0238052, 0.0669894, 0.0890002, ...   \n",
       "1     17  abortion  [0.00777556, 0.0238052, 0.0669894, 0.0890002, ...   \n",
       "2     17  abortion  [0.00777556, 0.0238052, 0.0669894, 0.0890002, ...   \n",
       "3     17  abortion  [0.00777556, 0.0238052, 0.0669894, 0.0890002, ...   \n",
       "4     17  abortion  [0.00777556, 0.0238052, 0.0669894, 0.0890002, ...   \n",
       "\n",
       "   movieId  relevance  \n",
       "0        1    0.00700  \n",
       "1        2    0.00950  \n",
       "2        3    0.01175  \n",
       "3        4    0.01400  \n",
       "4        5    0.01425  "
      ]
     },
     "execution_count": 23,
     "metadata": {},
     "output_type": "execute_result"
    }
   ],
   "source": [
    "df_tags_merged = pd.merge(left=df_genome_tags, right=df_genome_scores, how='inner', on='tagId')\n",
    "df_tags_merged.head(5)"
   ]
  },
  {
   "cell_type": "code",
   "execution_count": 25,
   "metadata": {},
   "outputs": [
    {
     "data": {
      "text/plain": [
       "7640416"
      ]
     },
     "execution_count": 25,
     "metadata": {},
     "output_type": "execute_result"
    }
   ],
   "source": [
    "len(df_tags_merged)"
   ]
  },
  {
   "cell_type": "code",
   "execution_count": 26,
   "metadata": {},
   "outputs": [
    {
     "data": {
      "text/plain": [
       "365316"
      ]
     },
     "execution_count": 26,
     "metadata": {},
     "output_type": "execute_result"
    }
   ],
   "source": [
    "df_tags_merged = df_tags_merged[df_tags_merged['relevance']>0.5]\n",
    "len(df_tags_merged)"
   ]
  },
  {
   "cell_type": "code",
   "execution_count": 27,
   "metadata": {},
   "outputs": [
    {
     "data": {
      "text/html": [
       "<div>\n",
       "<style scoped>\n",
       "    .dataframe tbody tr th:only-of-type {\n",
       "        vertical-align: middle;\n",
       "    }\n",
       "\n",
       "    .dataframe tbody tr th {\n",
       "        vertical-align: top;\n",
       "    }\n",
       "\n",
       "    .dataframe thead th {\n",
       "        text-align: right;\n",
       "    }\n",
       "</style>\n",
       "<table border=\"1\" class=\"dataframe\">\n",
       "  <thead>\n",
       "    <tr style=\"text-align: right;\">\n",
       "      <th></th>\n",
       "      <th>tagId</th>\n",
       "      <th>tag</th>\n",
       "      <th>vector</th>\n",
       "      <th>movieId</th>\n",
       "      <th>relevance</th>\n",
       "      <th>weighted_vector</th>\n",
       "    </tr>\n",
       "  </thead>\n",
       "  <tbody>\n",
       "    <tr>\n",
       "      <th>1243</th>\n",
       "      <td>17</td>\n",
       "      <td>abortion</td>\n",
       "      <td>[0.00777556, 0.0238052, 0.0669894, 0.0890002, ...</td>\n",
       "      <td>1392</td>\n",
       "      <td>0.97325</td>\n",
       "      <td>[0.0075675636, 0.02316841, 0.06519743, 0.08661...</td>\n",
       "    </tr>\n",
       "    <tr>\n",
       "      <th>2798</th>\n",
       "      <td>17</td>\n",
       "      <td>abortion</td>\n",
       "      <td>[0.00777556, 0.0238052, 0.0669894, 0.0890002, ...</td>\n",
       "      <td>3148</td>\n",
       "      <td>0.85875</td>\n",
       "      <td>[0.006677262, 0.020442715, 0.057527147, 0.0764...</td>\n",
       "    </tr>\n",
       "    <tr>\n",
       "      <th>2849</th>\n",
       "      <td>17</td>\n",
       "      <td>abortion</td>\n",
       "      <td>[0.00777556, 0.0238052, 0.0669894, 0.0890002, ...</td>\n",
       "      <td>3210</td>\n",
       "      <td>0.67650</td>\n",
       "      <td>[0.0052601667, 0.016104218, 0.04531833, 0.0602...</td>\n",
       "    </tr>\n",
       "    <tr>\n",
       "      <th>3430</th>\n",
       "      <td>17</td>\n",
       "      <td>abortion</td>\n",
       "      <td>[0.00777556, 0.0238052, 0.0669894, 0.0890002, ...</td>\n",
       "      <td>3888</td>\n",
       "      <td>0.63675</td>\n",
       "      <td>[0.0049510878, 0.01515796, 0.042655498, 0.0566...</td>\n",
       "    </tr>\n",
       "    <tr>\n",
       "      <th>3703</th>\n",
       "      <td>17</td>\n",
       "      <td>abortion</td>\n",
       "      <td>[0.00777556, 0.0238052, 0.0669894, 0.0890002, ...</td>\n",
       "      <td>4191</td>\n",
       "      <td>0.74500</td>\n",
       "      <td>[0.0057927924, 0.017734874, 0.049907103, 0.066...</td>\n",
       "    </tr>\n",
       "  </tbody>\n",
       "</table>\n",
       "</div>"
      ],
      "text/plain": [
       "      tagId       tag                                             vector  \\\n",
       "1243     17  abortion  [0.00777556, 0.0238052, 0.0669894, 0.0890002, ...   \n",
       "2798     17  abortion  [0.00777556, 0.0238052, 0.0669894, 0.0890002, ...   \n",
       "2849     17  abortion  [0.00777556, 0.0238052, 0.0669894, 0.0890002, ...   \n",
       "3430     17  abortion  [0.00777556, 0.0238052, 0.0669894, 0.0890002, ...   \n",
       "3703     17  abortion  [0.00777556, 0.0238052, 0.0669894, 0.0890002, ...   \n",
       "\n",
       "      movieId  relevance                                    weighted_vector  \n",
       "1243     1392    0.97325  [0.0075675636, 0.02316841, 0.06519743, 0.08661...  \n",
       "2798     3148    0.85875  [0.006677262, 0.020442715, 0.057527147, 0.0764...  \n",
       "2849     3210    0.67650  [0.0052601667, 0.016104218, 0.04531833, 0.0602...  \n",
       "3430     3888    0.63675  [0.0049510878, 0.01515796, 0.042655498, 0.0566...  \n",
       "3703     4191    0.74500  [0.0057927924, 0.017734874, 0.049907103, 0.066...  "
      ]
     },
     "execution_count": 27,
     "metadata": {},
     "output_type": "execute_result"
    }
   ],
   "source": [
    "# Fonction pour multiplier chaque vecteur par la relevance\n",
    "def apply_relevance(row):\n",
    "    weighted_vector = np.array(row['vector']) * row['relevance']\n",
    "    return weighted_vector\n",
    "\n",
    "# Appliquer la fonction à chaque ligne\n",
    "df_tags_merged['weighted_vector'] = df_tags_merged.apply(apply_relevance, axis=1)\n",
    "df_tags_merged.head(5)"
   ]
  },
  {
   "cell_type": "code",
   "execution_count": 28,
   "metadata": {},
   "outputs": [
    {
     "data": {
      "text/plain": [
       "365316"
      ]
     },
     "execution_count": 28,
     "metadata": {},
     "output_type": "execute_result"
    }
   ],
   "source": [
    "len(df_tags_merged)"
   ]
  },
  {
   "cell_type": "code",
   "execution_count": 31,
   "metadata": {},
   "outputs": [],
   "source": [
    "df_tags_merged.drop(['vector', 'relevance'], axis=1, inplace=True)"
   ]
  },
  {
   "cell_type": "code",
   "execution_count": 32,
   "metadata": {},
   "outputs": [
    {
     "data": {
      "text/html": [
       "<div>\n",
       "<style scoped>\n",
       "    .dataframe tbody tr th:only-of-type {\n",
       "        vertical-align: middle;\n",
       "    }\n",
       "\n",
       "    .dataframe tbody tr th {\n",
       "        vertical-align: top;\n",
       "    }\n",
       "\n",
       "    .dataframe thead th {\n",
       "        text-align: right;\n",
       "    }\n",
       "</style>\n",
       "<table border=\"1\" class=\"dataframe\">\n",
       "  <thead>\n",
       "    <tr style=\"text-align: right;\">\n",
       "      <th></th>\n",
       "      <th>tagId</th>\n",
       "      <th>tag</th>\n",
       "      <th>movieId</th>\n",
       "      <th>weighted_vector</th>\n",
       "    </tr>\n",
       "  </thead>\n",
       "  <tbody>\n",
       "    <tr>\n",
       "      <th>1243</th>\n",
       "      <td>17</td>\n",
       "      <td>abortion</td>\n",
       "      <td>1392</td>\n",
       "      <td>[0.0075675636, 0.02316841, 0.06519743, 0.08661...</td>\n",
       "    </tr>\n",
       "    <tr>\n",
       "      <th>2798</th>\n",
       "      <td>17</td>\n",
       "      <td>abortion</td>\n",
       "      <td>3148</td>\n",
       "      <td>[0.006677262, 0.020442715, 0.057527147, 0.0764...</td>\n",
       "    </tr>\n",
       "    <tr>\n",
       "      <th>2849</th>\n",
       "      <td>17</td>\n",
       "      <td>abortion</td>\n",
       "      <td>3210</td>\n",
       "      <td>[0.0052601667, 0.016104218, 0.04531833, 0.0602...</td>\n",
       "    </tr>\n",
       "    <tr>\n",
       "      <th>3430</th>\n",
       "      <td>17</td>\n",
       "      <td>abortion</td>\n",
       "      <td>3888</td>\n",
       "      <td>[0.0049510878, 0.01515796, 0.042655498, 0.0566...</td>\n",
       "    </tr>\n",
       "    <tr>\n",
       "      <th>3703</th>\n",
       "      <td>17</td>\n",
       "      <td>abortion</td>\n",
       "      <td>4191</td>\n",
       "      <td>[0.0057927924, 0.017734874, 0.049907103, 0.066...</td>\n",
       "    </tr>\n",
       "  </tbody>\n",
       "</table>\n",
       "</div>"
      ],
      "text/plain": [
       "      tagId       tag  movieId  \\\n",
       "1243     17  abortion     1392   \n",
       "2798     17  abortion     3148   \n",
       "2849     17  abortion     3210   \n",
       "3430     17  abortion     3888   \n",
       "3703     17  abortion     4191   \n",
       "\n",
       "                                        weighted_vector  \n",
       "1243  [0.0075675636, 0.02316841, 0.06519743, 0.08661...  \n",
       "2798  [0.006677262, 0.020442715, 0.057527147, 0.0764...  \n",
       "2849  [0.0052601667, 0.016104218, 0.04531833, 0.0602...  \n",
       "3430  [0.0049510878, 0.01515796, 0.042655498, 0.0566...  \n",
       "3703  [0.0057927924, 0.017734874, 0.049907103, 0.066...  "
      ]
     },
     "execution_count": 32,
     "metadata": {},
     "output_type": "execute_result"
    }
   ],
   "source": [
    "df_tags_merged.head()"
   ]
  },
  {
   "cell_type": "code",
   "execution_count": 37,
   "metadata": {},
   "outputs": [
    {
     "data": {
      "text/html": [
       "<div>\n",
       "<style scoped>\n",
       "    .dataframe tbody tr th:only-of-type {\n",
       "        vertical-align: middle;\n",
       "    }\n",
       "\n",
       "    .dataframe tbody tr th {\n",
       "        vertical-align: top;\n",
       "    }\n",
       "\n",
       "    .dataframe thead th {\n",
       "        text-align: right;\n",
       "    }\n",
       "</style>\n",
       "<table border=\"1\" class=\"dataframe\">\n",
       "  <thead>\n",
       "    <tr style=\"text-align: right;\">\n",
       "      <th></th>\n",
       "      <th>movieId</th>\n",
       "      <th>weighted_vector</th>\n",
       "    </tr>\n",
       "  </thead>\n",
       "  <tbody>\n",
       "    <tr>\n",
       "      <th>0</th>\n",
       "      <td>1</td>\n",
       "      <td>[0.034586858, 0.0041892263, -0.007967652, 0.04...</td>\n",
       "    </tr>\n",
       "    <tr>\n",
       "      <th>1</th>\n",
       "      <td>2</td>\n",
       "      <td>[0.02394018, 0.012072621, -0.012650338, 0.0410...</td>\n",
       "    </tr>\n",
       "    <tr>\n",
       "      <th>2</th>\n",
       "      <td>3</td>\n",
       "      <td>[0.025589697, -0.0041956874, -0.0049643833, 0....</td>\n",
       "    </tr>\n",
       "    <tr>\n",
       "      <th>3</th>\n",
       "      <td>4</td>\n",
       "      <td>[0.014996908, -0.0033440643, -0.023636833, 0.0...</td>\n",
       "    </tr>\n",
       "    <tr>\n",
       "      <th>4</th>\n",
       "      <td>5</td>\n",
       "      <td>[0.023046032, -0.010654649, -0.01876496, 0.041...</td>\n",
       "    </tr>\n",
       "  </tbody>\n",
       "</table>\n",
       "</div>"
      ],
      "text/plain": [
       "   movieId                                    weighted_vector\n",
       "0        1  [0.034586858, 0.0041892263, -0.007967652, 0.04...\n",
       "1        2  [0.02394018, 0.012072621, -0.012650338, 0.0410...\n",
       "2        3  [0.025589697, -0.0041956874, -0.0049643833, 0....\n",
       "3        4  [0.014996908, -0.0033440643, -0.023636833, 0.0...\n",
       "4        5  [0.023046032, -0.010654649, -0.01876496, 0.041..."
      ]
     },
     "execution_count": 37,
     "metadata": {},
     "output_type": "execute_result"
    }
   ],
   "source": [
    "# Grouper par 'movieId' et calculer la moyenne des 'weighted_vector'\n",
    "df_avg_vector = df_tags_merged.groupby('movieId')['weighted_vector'].apply(lambda x: np.mean(np.stack(x), axis=0))\n",
    "\n",
    "# Convertir le résultat en DataFrame si nécessaire\n",
    "df_avg_vector = df_avg_vector.reset_index()\n",
    "\n",
    "df_avg_vector.head(5)"
   ]
  },
  {
   "cell_type": "code",
   "execution_count": 38,
   "metadata": {},
   "outputs": [
    {
     "data": {
      "text/plain": [
       "10381"
      ]
     },
     "execution_count": 38,
     "metadata": {},
     "output_type": "execute_result"
    }
   ],
   "source": [
    "len(df_avg_vector)"
   ]
  },
  {
   "cell_type": "code",
   "execution_count": 35,
   "metadata": {},
   "outputs": [],
   "source": [
    "# Export du dataframe au format csv\n",
    "df_avg_vector.to_csv('output_data/movie_avg_vectors.csv',  index=False)"
   ]
  }
 ],
 "metadata": {
  "kernelspec": {
   "display_name": "venv_ml",
   "language": "python",
   "name": "python3"
  },
  "language_info": {
   "codemirror_mode": {
    "name": "ipython",
    "version": 3
   },
   "file_extension": ".py",
   "mimetype": "text/x-python",
   "name": "python",
   "nbconvert_exporter": "python",
   "pygments_lexer": "ipython3",
   "version": "3.11.7"
  }
 },
 "nbformat": 4,
 "nbformat_minor": 2
}
